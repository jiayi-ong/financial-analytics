{
 "cells": [
  {
   "cell_type": "markdown",
   "id": "98953054",
   "metadata": {},
   "source": [
    "# Summary \n",
    "\n",
    "This notebook explores the summary statistics of the subset (top 1000+ companies) of the consolidated FMP daily prices dataset."
   ]
  },
  {
   "cell_type": "markdown",
   "id": "59751595",
   "metadata": {},
   "source": [
    "# Imports"
   ]
  },
  {
   "cell_type": "code",
   "execution_count": 1,
   "id": "2b8300ac",
   "metadata": {},
   "outputs": [],
   "source": [
    "import numpy as np\n",
    "import pandas as pd\n",
    "import pickle"
   ]
  },
  {
   "cell_type": "code",
   "execution_count": 2,
   "id": "580a53cd",
   "metadata": {},
   "outputs": [],
   "source": [
    "INPUT_PATH = \"C:/Users/mushj/Downloads/PROCESSED FINANCE DATA/FMP\"\n",
    "OUTPUT_PATH = INPUT_PATH"
   ]
  },
  {
   "cell_type": "code",
   "execution_count": 3,
   "id": "772af5a2",
   "metadata": {},
   "outputs": [
    {
     "name": "stdout",
     "output_type": "stream",
     "text": [
      "CPU times: total: 1.02 s\n",
      "Wall time: 1.04 s\n"
     ]
    }
   ],
   "source": [
    "%%time\n",
    "df = pd.read_csv(INPUT_PATH+'/FMP_daily_prices_top1k.csv')"
   ]
  },
  {
   "cell_type": "markdown",
   "id": "afe09103",
   "metadata": {},
   "source": [
    "# Summary"
   ]
  },
  {
   "cell_type": "code",
   "execution_count": 4,
   "id": "fd416b0c",
   "metadata": {},
   "outputs": [
    {
     "data": {
      "text/html": [
       "<div>\n",
       "<style scoped>\n",
       "    .dataframe tbody tr th:only-of-type {\n",
       "        vertical-align: middle;\n",
       "    }\n",
       "\n",
       "    .dataframe tbody tr th {\n",
       "        vertical-align: top;\n",
       "    }\n",
       "\n",
       "    .dataframe thead th {\n",
       "        text-align: right;\n",
       "    }\n",
       "</style>\n",
       "<table border=\"1\" class=\"dataframe\">\n",
       "  <thead>\n",
       "    <tr style=\"text-align: right;\">\n",
       "      <th></th>\n",
       "      <th>symbol</th>\n",
       "      <th>date</th>\n",
       "      <th>close</th>\n",
       "      <th>volume</th>\n",
       "    </tr>\n",
       "  </thead>\n",
       "  <tbody>\n",
       "    <tr>\n",
       "      <th>0</th>\n",
       "      <td>A</td>\n",
       "      <td>2005-01-03</td>\n",
       "      <td>16.09</td>\n",
       "      <td>3587208.0</td>\n",
       "    </tr>\n",
       "    <tr>\n",
       "      <th>1</th>\n",
       "      <td>A</td>\n",
       "      <td>2005-01-04</td>\n",
       "      <td>15.66</td>\n",
       "      <td>3978002.0</td>\n",
       "    </tr>\n",
       "    <tr>\n",
       "      <th>2</th>\n",
       "      <td>A</td>\n",
       "      <td>2005-01-05</td>\n",
       "      <td>15.66</td>\n",
       "      <td>4139634.0</td>\n",
       "    </tr>\n",
       "    <tr>\n",
       "      <th>3</th>\n",
       "      <td>A</td>\n",
       "      <td>2005-01-06</td>\n",
       "      <td>15.31</td>\n",
       "      <td>3353443.0</td>\n",
       "    </tr>\n",
       "    <tr>\n",
       "      <th>4</th>\n",
       "      <td>A</td>\n",
       "      <td>2005-01-07</td>\n",
       "      <td>15.30</td>\n",
       "      <td>2786175.0</td>\n",
       "    </tr>\n",
       "  </tbody>\n",
       "</table>\n",
       "</div>"
      ],
      "text/plain": [
       "  symbol        date  close     volume\n",
       "0      A  2005-01-03  16.09  3587208.0\n",
       "1      A  2005-01-04  15.66  3978002.0\n",
       "2      A  2005-01-05  15.66  4139634.0\n",
       "3      A  2005-01-06  15.31  3353443.0\n",
       "4      A  2005-01-07  15.30  2786175.0"
      ]
     },
     "execution_count": 4,
     "metadata": {},
     "output_type": "execute_result"
    }
   ],
   "source": [
    "df.head()"
   ]
  },
  {
   "cell_type": "code",
   "execution_count": 5,
   "id": "2427dd67",
   "metadata": {},
   "outputs": [
    {
     "name": "stdout",
     "output_type": "stream",
     "text": [
      "Number of symbols: 1010\n",
      "Number of dates: 5033\n",
      "CPU times: total: 188 ms\n",
      "Wall time: 242 ms\n"
     ]
    }
   ],
   "source": [
    "%%time\n",
    "print(\"Number of symbols:\", df.symbol.nunique())\n",
    "print(\"Number of dates:\", df.date.nunique())"
   ]
  },
  {
   "cell_type": "code",
   "execution_count": 6,
   "id": "ebc384b2",
   "metadata": {},
   "outputs": [
    {
     "name": "stdout",
     "output_type": "stream",
     "text": [
      "CPU times: total: 141 ms\n",
      "Wall time: 176 ms\n"
     ]
    },
    {
     "data": {
      "text/plain": [
       "symbol    0.0\n",
       "date      0.0\n",
       "close     0.0\n",
       "volume    0.0\n",
       "dtype: float64"
      ]
     },
     "execution_count": 6,
     "metadata": {},
     "output_type": "execute_result"
    }
   ],
   "source": [
    "%%time\n",
    "# summary of NAs\n",
    "df.isna().mean()"
   ]
  },
  {
   "cell_type": "markdown",
   "id": "7d52fa31",
   "metadata": {},
   "source": [
    "# Symbol-level metrics"
   ]
  },
  {
   "cell_type": "code",
   "execution_count": 7,
   "id": "ef466b24",
   "metadata": {},
   "outputs": [
    {
     "name": "stdout",
     "output_type": "stream",
     "text": [
      "CPU times: total: 453 ms\n",
      "Wall time: 561 ms\n"
     ]
    }
   ],
   "source": [
    "%%time\n",
    "# NAs by symbol\n",
    "na_summary = df.groupby('symbol').agg(lambda x: x.isna().mean())"
   ]
  },
  {
   "cell_type": "code",
   "execution_count": 8,
   "id": "88d25dde",
   "metadata": {},
   "outputs": [
    {
     "data": {
      "text/html": [
       "<div>\n",
       "<style scoped>\n",
       "    .dataframe tbody tr th:only-of-type {\n",
       "        vertical-align: middle;\n",
       "    }\n",
       "\n",
       "    .dataframe tbody tr th {\n",
       "        vertical-align: top;\n",
       "    }\n",
       "\n",
       "    .dataframe thead th {\n",
       "        text-align: right;\n",
       "    }\n",
       "</style>\n",
       "<table border=\"1\" class=\"dataframe\">\n",
       "  <thead>\n",
       "    <tr style=\"text-align: right;\">\n",
       "      <th></th>\n",
       "      <th>date</th>\n",
       "      <th>close</th>\n",
       "      <th>volume</th>\n",
       "    </tr>\n",
       "    <tr>\n",
       "      <th>symbol</th>\n",
       "      <th></th>\n",
       "      <th></th>\n",
       "      <th></th>\n",
       "    </tr>\n",
       "  </thead>\n",
       "  <tbody>\n",
       "  </tbody>\n",
       "</table>\n",
       "</div>"
      ],
      "text/plain": [
       "Empty DataFrame\n",
       "Columns: [date, close, volume]\n",
       "Index: []"
      ]
     },
     "execution_count": 8,
     "metadata": {},
     "output_type": "execute_result"
    }
   ],
   "source": [
    "# show symbols with NAs\n",
    "na_summary.query(\"(date > 0) | (close > 0) | (volume > 0)\")"
   ]
  },
  {
   "cell_type": "code",
   "execution_count": 9,
   "id": "00982d29",
   "metadata": {},
   "outputs": [
    {
     "name": "stdout",
     "output_type": "stream",
     "text": [
      "CPU times: total: 312 ms\n",
      "Wall time: 318 ms\n"
     ]
    }
   ],
   "source": [
    "%%time\n",
    "# compute date range and counts by symbol\n",
    "len_summary = (\n",
    "    df.groupby('symbol')\n",
    "    .agg({'date': [lambda x: x.iloc[0], lambda x: x.iloc[-1], len]})\n",
    ")\n",
    "len_summary.columns = ['start', 'end', 'len']"
   ]
  },
  {
   "cell_type": "code",
   "execution_count": 10,
   "id": "8fe9f86c",
   "metadata": {},
   "outputs": [
    {
     "name": "stdout",
     "output_type": "stream",
     "text": [
      "Earliest start date: 2005-01-03\n",
      "Latest start date: 2024-10-24\n",
      "Earliest end date: 2024-12-27\n",
      "Latest end date: 2024-12-31\n"
     ]
    }
   ],
   "source": [
    "print(\"Earliest start date:\", len_summary['start'].min())\n",
    "print(\"Latest start date:\", len_summary['end'].max())\n",
    "print(\"Earliest end date:\", len_summary['start'].min())\n",
    "print(\"Latest end date:\", len_summary['end'].max())"
   ]
  },
  {
   "cell_type": "code",
   "execution_count": 17,
   "id": "670640eb",
   "metadata": {
    "scrolled": true
   },
   "outputs": [
    {
     "data": {
      "text/plain": [
       "count    1010.000000\n",
       "mean     4088.551485\n",
       "std      1487.501763\n",
       "min        47.000000\n",
       "0%         47.000000\n",
       "10%      1368.500000\n",
       "20%      2588.200000\n",
       "30%      3827.700000\n",
       "40%      5033.000000\n",
       "50%      5033.000000\n",
       "60%      5033.000000\n",
       "70%      5033.000000\n",
       "80%      5033.000000\n",
       "90%      5033.000000\n",
       "100%     5033.000000\n",
       "max      5033.000000\n",
       "Name: (date, len), dtype: float64"
      ]
     },
     "execution_count": 17,
     "metadata": {},
     "output_type": "execute_result"
    }
   ],
   "source": [
    "# distribution of symbol data length\n",
    "len_summary['len'].describe(percentiles=np.arange(0,1.1,0.1))"
   ]
  },
  {
   "cell_type": "code",
   "execution_count": 26,
   "id": "42845f45",
   "metadata": {},
   "outputs": [],
   "source": [
    "# compute number of business days in date range of each symbol\n",
    "len_summary['span'] = len_summary.apply(lambda x: len(pd.date_range(x['start'], x['end'], freq='B')), axis=1)\n",
    "\n",
    "# percentage of available data of total business days\n",
    "len_summary['%'] = len_summary['len'] / len_summary['span']"
   ]
  },
  {
   "cell_type": "code",
   "execution_count": 29,
   "id": "5686ce05",
   "metadata": {},
   "outputs": [
    {
     "data": {
      "text/plain": [
       "count    1010.000000\n",
       "mean        0.962133\n",
       "std         0.038505\n",
       "min         0.039469\n",
       "0%          0.039469\n",
       "10%         0.964244\n",
       "20%         0.964529\n",
       "30%         0.964731\n",
       "40%         0.964731\n",
       "50%         0.964731\n",
       "60%         0.964731\n",
       "70%         0.964731\n",
       "80%         0.964731\n",
       "90%         0.964731\n",
       "100%        0.973684\n",
       "max         0.973684\n",
       "Name: %, dtype: float64"
      ]
     },
     "execution_count": 29,
     "metadata": {},
     "output_type": "execute_result"
    }
   ],
   "source": [
    "# distribution of symbol % available data\n",
    "len_summary['%'].describe(percentiles=np.arange(0,1.1,0.1))"
   ]
  },
  {
   "cell_type": "code",
   "execution_count": 30,
   "id": "02f8e8a6",
   "metadata": {},
   "outputs": [
    {
     "data": {
      "text/plain": [
       "count    1010.000000\n",
       "mean        0.962133\n",
       "std         0.038505\n",
       "min         0.039469\n",
       "0%          0.039469\n",
       "1%          0.962453\n",
       "2%          0.962904\n",
       "3%          0.963411\n",
       "4%          0.963675\n",
       "5%          0.963866\n",
       "6%          0.963999\n",
       "7%          0.964095\n",
       "8%          0.964164\n",
       "9%          0.964195\n",
       "50%         0.964731\n",
       "max         0.973684\n",
       "Name: %, dtype: float64"
      ]
     },
     "execution_count": 30,
     "metadata": {},
     "output_type": "execute_result"
    }
   ],
   "source": [
    "# lower-tail distribution of symbol % available data\n",
    "len_summary['%'].describe(percentiles=np.arange(0,0.1,0.01))"
   ]
  },
  {
   "cell_type": "code",
   "execution_count": 42,
   "id": "229728d3",
   "metadata": {},
   "outputs": [],
   "source": [
    "# get list of symbols that excludes bottom percentiles of symbols\n",
    "keep_list = list(len_summary.query('`%` >= 0.96').index)\n",
    "\n",
    "with open(OUTPUT_PATH+'/top1k_subset', 'wb') as f:\n",
    "    pickle.dump(keep_list, f)"
   ]
  }
 ],
 "metadata": {
  "kernelspec": {
   "display_name": "Python 3 (ipykernel)",
   "language": "python",
   "name": "python3"
  },
  "language_info": {
   "codemirror_mode": {
    "name": "ipython",
    "version": 3
   },
   "file_extension": ".py",
   "mimetype": "text/x-python",
   "name": "python",
   "nbconvert_exporter": "python",
   "pygments_lexer": "ipython3",
   "version": "3.10.9"
  }
 },
 "nbformat": 4,
 "nbformat_minor": 5
}
