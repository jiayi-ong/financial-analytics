{
 "cells": [
  {
   "cell_type": "markdown",
   "id": "98953054",
   "metadata": {},
   "source": [
    "# Summary \n",
    "\n",
    "This notebook explores the summary statistics of the subset (top 1000+ companies) of the consolidated FMP daily prices dataset."
   ]
  },
  {
   "cell_type": "markdown",
   "id": "59751595",
   "metadata": {},
   "source": [
    "# Imports"
   ]
  },
  {
   "cell_type": "code",
   "execution_count": 1,
   "id": "2b8300ac",
   "metadata": {},
   "outputs": [],
   "source": [
    "import numpy as np\n",
    "import pandas as pd\n",
    "import pickle\n",
    "\n",
    "from datetime import datetime"
   ]
  },
  {
   "cell_type": "code",
   "execution_count": 2,
   "id": "580a53cd",
   "metadata": {},
   "outputs": [],
   "source": [
    "INPUT_PATH = \"C:/Users/mushj/Downloads/PROCESSED FINANCE DATA/FMP\"\n",
    "OUTPUT_PATH = INPUT_PATH"
   ]
  },
  {
   "cell_type": "code",
   "execution_count": 3,
   "id": "772af5a2",
   "metadata": {},
   "outputs": [
    {
     "name": "stdout",
     "output_type": "stream",
     "text": [
      "CPU times: total: 1.05 s\n",
      "Wall time: 1.06 s\n"
     ]
    }
   ],
   "source": [
    "%%time\n",
    "df = pd.read_csv(INPUT_PATH+'/FMP_daily_prices_top1k.csv')"
   ]
  },
  {
   "cell_type": "markdown",
   "id": "afe09103",
   "metadata": {},
   "source": [
    "# Summary"
   ]
  },
  {
   "cell_type": "code",
   "execution_count": 4,
   "id": "fd416b0c",
   "metadata": {},
   "outputs": [
    {
     "data": {
      "text/html": [
       "<div>\n",
       "<style scoped>\n",
       "    .dataframe tbody tr th:only-of-type {\n",
       "        vertical-align: middle;\n",
       "    }\n",
       "\n",
       "    .dataframe tbody tr th {\n",
       "        vertical-align: top;\n",
       "    }\n",
       "\n",
       "    .dataframe thead th {\n",
       "        text-align: right;\n",
       "    }\n",
       "</style>\n",
       "<table border=\"1\" class=\"dataframe\">\n",
       "  <thead>\n",
       "    <tr style=\"text-align: right;\">\n",
       "      <th></th>\n",
       "      <th>symbol</th>\n",
       "      <th>date</th>\n",
       "      <th>close</th>\n",
       "      <th>volume</th>\n",
       "    </tr>\n",
       "  </thead>\n",
       "  <tbody>\n",
       "    <tr>\n",
       "      <th>0</th>\n",
       "      <td>A</td>\n",
       "      <td>2005-01-03</td>\n",
       "      <td>16.09</td>\n",
       "      <td>3587208.0</td>\n",
       "    </tr>\n",
       "    <tr>\n",
       "      <th>1</th>\n",
       "      <td>A</td>\n",
       "      <td>2005-01-04</td>\n",
       "      <td>15.66</td>\n",
       "      <td>3978002.0</td>\n",
       "    </tr>\n",
       "    <tr>\n",
       "      <th>2</th>\n",
       "      <td>A</td>\n",
       "      <td>2005-01-05</td>\n",
       "      <td>15.66</td>\n",
       "      <td>4139634.0</td>\n",
       "    </tr>\n",
       "    <tr>\n",
       "      <th>3</th>\n",
       "      <td>A</td>\n",
       "      <td>2005-01-06</td>\n",
       "      <td>15.31</td>\n",
       "      <td>3353443.0</td>\n",
       "    </tr>\n",
       "    <tr>\n",
       "      <th>4</th>\n",
       "      <td>A</td>\n",
       "      <td>2005-01-07</td>\n",
       "      <td>15.30</td>\n",
       "      <td>2786175.0</td>\n",
       "    </tr>\n",
       "  </tbody>\n",
       "</table>\n",
       "</div>"
      ],
      "text/plain": [
       "  symbol        date  close     volume\n",
       "0      A  2005-01-03  16.09  3587208.0\n",
       "1      A  2005-01-04  15.66  3978002.0\n",
       "2      A  2005-01-05  15.66  4139634.0\n",
       "3      A  2005-01-06  15.31  3353443.0\n",
       "4      A  2005-01-07  15.30  2786175.0"
      ]
     },
     "execution_count": 4,
     "metadata": {},
     "output_type": "execute_result"
    }
   ],
   "source": [
    "df.head()"
   ]
  },
  {
   "cell_type": "code",
   "execution_count": 5,
   "id": "2427dd67",
   "metadata": {},
   "outputs": [
    {
     "name": "stdout",
     "output_type": "stream",
     "text": [
      "Number of symbols: 1010\n",
      "Number of dates: 5033\n",
      "CPU times: total: 234 ms\n",
      "Wall time: 246 ms\n"
     ]
    }
   ],
   "source": [
    "%%time\n",
    "print(\"Number of symbols:\", df.symbol.nunique())\n",
    "print(\"Number of dates:\", df.date.nunique())"
   ]
  },
  {
   "cell_type": "code",
   "execution_count": 6,
   "id": "ebc384b2",
   "metadata": {},
   "outputs": [
    {
     "name": "stdout",
     "output_type": "stream",
     "text": [
      "CPU times: total: 156 ms\n",
      "Wall time: 179 ms\n"
     ]
    },
    {
     "data": {
      "text/plain": [
       "symbol    0.0\n",
       "date      0.0\n",
       "close     0.0\n",
       "volume    0.0\n",
       "dtype: float64"
      ]
     },
     "execution_count": 6,
     "metadata": {},
     "output_type": "execute_result"
    }
   ],
   "source": [
    "%%time\n",
    "# summary of NAs\n",
    "df.isna().mean()"
   ]
  },
  {
   "cell_type": "markdown",
   "id": "7d52fa31",
   "metadata": {},
   "source": [
    "# Symbol-level metrics"
   ]
  },
  {
   "cell_type": "code",
   "execution_count": 7,
   "id": "ef466b24",
   "metadata": {},
   "outputs": [
    {
     "name": "stdout",
     "output_type": "stream",
     "text": [
      "CPU times: total: 562 ms\n",
      "Wall time: 589 ms\n"
     ]
    }
   ],
   "source": [
    "%%time\n",
    "# NAs by symbol\n",
    "na_summary = df.groupby('symbol').agg(lambda x: x.isna().mean())"
   ]
  },
  {
   "cell_type": "code",
   "execution_count": 8,
   "id": "88d25dde",
   "metadata": {},
   "outputs": [
    {
     "data": {
      "text/html": [
       "<div>\n",
       "<style scoped>\n",
       "    .dataframe tbody tr th:only-of-type {\n",
       "        vertical-align: middle;\n",
       "    }\n",
       "\n",
       "    .dataframe tbody tr th {\n",
       "        vertical-align: top;\n",
       "    }\n",
       "\n",
       "    .dataframe thead th {\n",
       "        text-align: right;\n",
       "    }\n",
       "</style>\n",
       "<table border=\"1\" class=\"dataframe\">\n",
       "  <thead>\n",
       "    <tr style=\"text-align: right;\">\n",
       "      <th></th>\n",
       "      <th>date</th>\n",
       "      <th>close</th>\n",
       "      <th>volume</th>\n",
       "    </tr>\n",
       "    <tr>\n",
       "      <th>symbol</th>\n",
       "      <th></th>\n",
       "      <th></th>\n",
       "      <th></th>\n",
       "    </tr>\n",
       "  </thead>\n",
       "  <tbody>\n",
       "  </tbody>\n",
       "</table>\n",
       "</div>"
      ],
      "text/plain": [
       "Empty DataFrame\n",
       "Columns: [date, close, volume]\n",
       "Index: []"
      ]
     },
     "execution_count": 8,
     "metadata": {},
     "output_type": "execute_result"
    }
   ],
   "source": [
    "# show symbols with NAs\n",
    "na_summary.query(\"(date > 0) | (close > 0) | (volume > 0)\")"
   ]
  },
  {
   "cell_type": "code",
   "execution_count": 9,
   "id": "00982d29",
   "metadata": {},
   "outputs": [
    {
     "name": "stdout",
     "output_type": "stream",
     "text": [
      "CPU times: total: 344 ms\n",
      "Wall time: 358 ms\n"
     ]
    }
   ],
   "source": [
    "%%time\n",
    "# compute date range and counts by symbol\n",
    "len_summary = (\n",
    "    df.groupby('symbol')\n",
    "    .agg({'date': [lambda x: x.iloc[0], lambda x: x.iloc[-1], len]})\n",
    ")\n",
    "len_summary.columns = ['start', 'end', 'len']"
   ]
  },
  {
   "cell_type": "code",
   "execution_count": 10,
   "id": "8fe9f86c",
   "metadata": {},
   "outputs": [
    {
     "name": "stdout",
     "output_type": "stream",
     "text": [
      "Earliest start date: 2005-01-03\n",
      "Latest start date: 2024-12-31\n",
      "Earliest end date: 2005-01-03\n",
      "Latest end date: 2024-12-31\n"
     ]
    }
   ],
   "source": [
    "print(\"Earliest start date:\", len_summary['start'].min())\n",
    "print(\"Latest start date:\", len_summary['end'].max())\n",
    "print(\"Earliest end date:\", len_summary['start'].min())\n",
    "print(\"Latest end date:\", len_summary['end'].max())"
   ]
  },
  {
   "cell_type": "code",
   "execution_count": 11,
   "id": "f3556d21",
   "metadata": {
    "scrolled": true
   },
   "outputs": [
    {
     "data": {
      "text/html": [
       "<div>\n",
       "<style scoped>\n",
       "    .dataframe tbody tr th:only-of-type {\n",
       "        vertical-align: middle;\n",
       "    }\n",
       "\n",
       "    .dataframe tbody tr th {\n",
       "        vertical-align: top;\n",
       "    }\n",
       "\n",
       "    .dataframe thead th {\n",
       "        text-align: right;\n",
       "    }\n",
       "</style>\n",
       "<table border=\"1\" class=\"dataframe\">\n",
       "  <thead>\n",
       "    <tr style=\"text-align: right;\">\n",
       "      <th></th>\n",
       "      <th>start</th>\n",
       "      <th>end</th>\n",
       "      <th>len</th>\n",
       "    </tr>\n",
       "    <tr>\n",
       "      <th>symbol</th>\n",
       "      <th></th>\n",
       "      <th></th>\n",
       "      <th></th>\n",
       "    </tr>\n",
       "  </thead>\n",
       "  <tbody>\n",
       "    <tr>\n",
       "      <th>A</th>\n",
       "      <td>2005-01-03</td>\n",
       "      <td>2024-12-31</td>\n",
       "      <td>5033</td>\n",
       "    </tr>\n",
       "    <tr>\n",
       "      <th>AA</th>\n",
       "      <td>2005-01-03</td>\n",
       "      <td>2024-12-31</td>\n",
       "      <td>5033</td>\n",
       "    </tr>\n",
       "    <tr>\n",
       "      <th>AAL</th>\n",
       "      <td>2005-09-27</td>\n",
       "      <td>2024-12-31</td>\n",
       "      <td>4848</td>\n",
       "    </tr>\n",
       "    <tr>\n",
       "      <th>AAON</th>\n",
       "      <td>2005-01-03</td>\n",
       "      <td>2024-12-31</td>\n",
       "      <td>5033</td>\n",
       "    </tr>\n",
       "    <tr>\n",
       "      <th>AAP</th>\n",
       "      <td>2005-01-03</td>\n",
       "      <td>2024-12-31</td>\n",
       "      <td>5033</td>\n",
       "    </tr>\n",
       "    <tr>\n",
       "      <th>AAPL</th>\n",
       "      <td>2005-01-03</td>\n",
       "      <td>2024-12-31</td>\n",
       "      <td>5033</td>\n",
       "    </tr>\n",
       "    <tr>\n",
       "      <th>ABBV</th>\n",
       "      <td>2012-12-10</td>\n",
       "      <td>2024-12-31</td>\n",
       "      <td>3035</td>\n",
       "    </tr>\n",
       "    <tr>\n",
       "      <th>ABNB</th>\n",
       "      <td>2020-12-10</td>\n",
       "      <td>2024-12-31</td>\n",
       "      <td>1020</td>\n",
       "    </tr>\n",
       "    <tr>\n",
       "      <th>ABT</th>\n",
       "      <td>2005-01-03</td>\n",
       "      <td>2024-12-31</td>\n",
       "      <td>5033</td>\n",
       "    </tr>\n",
       "    <tr>\n",
       "      <th>ACGL</th>\n",
       "      <td>2005-01-03</td>\n",
       "      <td>2024-12-31</td>\n",
       "      <td>5033</td>\n",
       "    </tr>\n",
       "  </tbody>\n",
       "</table>\n",
       "</div>"
      ],
      "text/plain": [
       "             start         end   len\n",
       "symbol                              \n",
       "A       2005-01-03  2024-12-31  5033\n",
       "AA      2005-01-03  2024-12-31  5033\n",
       "AAL     2005-09-27  2024-12-31  4848\n",
       "AAON    2005-01-03  2024-12-31  5033\n",
       "AAP     2005-01-03  2024-12-31  5033\n",
       "AAPL    2005-01-03  2024-12-31  5033\n",
       "ABBV    2012-12-10  2024-12-31  3035\n",
       "ABNB    2020-12-10  2024-12-31  1020\n",
       "ABT     2005-01-03  2024-12-31  5033\n",
       "ACGL    2005-01-03  2024-12-31  5033"
      ]
     },
     "execution_count": 11,
     "metadata": {},
     "output_type": "execute_result"
    }
   ],
   "source": [
    "len_summary.head(10)"
   ]
  },
  {
   "cell_type": "markdown",
   "id": "a8cc11ad",
   "metadata": {},
   "source": [
    "## Validations"
   ]
  },
  {
   "cell_type": "code",
   "execution_count": 12,
   "id": "d0c7a700",
   "metadata": {},
   "outputs": [
    {
     "data": {
      "text/plain": [
       "True"
      ]
     },
     "execution_count": 12,
     "metadata": {},
     "output_type": "execute_result"
    }
   ],
   "source": [
    "# check that all dates are business days\n",
    "dates = pd.date_range(\"2005-01-03\", \"2024-12-31\", freq='B')\n",
    "dates = [datetime.strftime(i, format='%Y-%m-%d') for i in dates]\n",
    "df.query(\"date not in @dates\").shape[0] == 0"
   ]
  },
  {
   "cell_type": "code",
   "execution_count": 13,
   "id": "faccd5e0",
   "metadata": {},
   "outputs": [
    {
     "data": {
      "text/html": [
       "<div>\n",
       "<style scoped>\n",
       "    .dataframe tbody tr th:only-of-type {\n",
       "        vertical-align: middle;\n",
       "    }\n",
       "\n",
       "    .dataframe tbody tr th {\n",
       "        vertical-align: top;\n",
       "    }\n",
       "\n",
       "    .dataframe thead th {\n",
       "        text-align: right;\n",
       "    }\n",
       "</style>\n",
       "<table border=\"1\" class=\"dataframe\">\n",
       "  <thead>\n",
       "    <tr style=\"text-align: right;\">\n",
       "      <th></th>\n",
       "      <th>0</th>\n",
       "      <th>1</th>\n",
       "    </tr>\n",
       "  </thead>\n",
       "  <tbody>\n",
       "    <tr>\n",
       "      <th>0</th>\n",
       "      <td>01-01</td>\n",
       "      <td>13</td>\n",
       "    </tr>\n",
       "    <tr>\n",
       "      <th>1</th>\n",
       "      <td>01-02</td>\n",
       "      <td>5</td>\n",
       "    </tr>\n",
       "    <tr>\n",
       "      <th>2</th>\n",
       "      <td>01-15</td>\n",
       "      <td>3</td>\n",
       "    </tr>\n",
       "    <tr>\n",
       "      <th>3</th>\n",
       "      <td>01-16</td>\n",
       "      <td>4</td>\n",
       "    </tr>\n",
       "    <tr>\n",
       "      <th>4</th>\n",
       "      <td>01-17</td>\n",
       "      <td>3</td>\n",
       "    </tr>\n",
       "    <tr>\n",
       "      <th>...</th>\n",
       "      <td>...</td>\n",
       "      <td>...</td>\n",
       "    </tr>\n",
       "    <tr>\n",
       "      <th>57</th>\n",
       "      <td>11-28</td>\n",
       "      <td>3</td>\n",
       "    </tr>\n",
       "    <tr>\n",
       "      <th>58</th>\n",
       "      <td>12-05</td>\n",
       "      <td>1</td>\n",
       "    </tr>\n",
       "    <tr>\n",
       "      <th>59</th>\n",
       "      <td>12-24</td>\n",
       "      <td>2</td>\n",
       "    </tr>\n",
       "    <tr>\n",
       "      <th>60</th>\n",
       "      <td>12-25</td>\n",
       "      <td>14</td>\n",
       "    </tr>\n",
       "    <tr>\n",
       "      <th>61</th>\n",
       "      <td>12-26</td>\n",
       "      <td>4</td>\n",
       "    </tr>\n",
       "  </tbody>\n",
       "</table>\n",
       "<p>62 rows × 2 columns</p>\n",
       "</div>"
      ],
      "text/plain": [
       "        0   1\n",
       "0   01-01  13\n",
       "1   01-02   5\n",
       "2   01-15   3\n",
       "3   01-16   4\n",
       "4   01-17   3\n",
       "..    ...  ..\n",
       "57  11-28   3\n",
       "58  12-05   1\n",
       "59  12-24   2\n",
       "60  12-25  14\n",
       "61  12-26   4\n",
       "\n",
       "[62 rows x 2 columns]"
      ]
     },
     "execution_count": 13,
     "metadata": {},
     "output_type": "execute_result"
    }
   ],
   "source": [
    "# check for excluded business days in a sample symbol\n",
    "# holidays, non-trading days etc.\n",
    "aapl_dates = set(df.query(\"symbol == 'AAPL'\").date)\n",
    "diff = set(dates).difference(aapl_dates)\n",
    "diff_md = [i[5:] for i in diff] # get month-day values\n",
    "pd.DataFrame(np.unique(diff_md, return_counts=True)).T"
   ]
  },
  {
   "cell_type": "markdown",
   "id": "5f917996",
   "metadata": {},
   "source": [
    "## Number of rows (length)"
   ]
  },
  {
   "cell_type": "code",
   "execution_count": 14,
   "id": "670640eb",
   "metadata": {
    "scrolled": true
   },
   "outputs": [
    {
     "data": {
      "text/plain": [
       "count    1010.000000\n",
       "mean     4088.551485\n",
       "std      1487.501763\n",
       "min        47.000000\n",
       "0%         47.000000\n",
       "10%      1368.500000\n",
       "20%      2588.200000\n",
       "30%      3827.700000\n",
       "40%      5033.000000\n",
       "50%      5033.000000\n",
       "60%      5033.000000\n",
       "70%      5033.000000\n",
       "80%      5033.000000\n",
       "90%      5033.000000\n",
       "100%     5033.000000\n",
       "max      5033.000000\n",
       "Name: len, dtype: float64"
      ]
     },
     "execution_count": 14,
     "metadata": {},
     "output_type": "execute_result"
    }
   ],
   "source": [
    "# distribution of symbol data length\n",
    "len_summary['len'].describe(percentiles=np.arange(0,1.1,0.1))"
   ]
  },
  {
   "cell_type": "code",
   "execution_count": 15,
   "id": "d1dbbb83",
   "metadata": {},
   "outputs": [
    {
     "data": {
      "text/plain": [
       "count    1010.000000\n",
       "mean     4088.551485\n",
       "std      1487.501763\n",
       "min        47.000000\n",
       "0%         47.000000\n",
       "1%        200.070000\n",
       "2%        364.040000\n",
       "3%        791.430000\n",
       "4%        867.000000\n",
       "5%        931.000000\n",
       "6%       1018.540000\n",
       "7%       1072.520000\n",
       "8%       1135.160000\n",
       "9%       1231.730000\n",
       "50%      5033.000000\n",
       "max      5033.000000\n",
       "Name: len, dtype: float64"
      ]
     },
     "execution_count": 15,
     "metadata": {},
     "output_type": "execute_result"
    }
   ],
   "source": [
    "# lower-tail distribution of symbol data length\n",
    "len_summary['len'].describe(percentiles=np.arange(0,0.1,0.01))"
   ]
  },
  {
   "cell_type": "markdown",
   "id": "51390eba",
   "metadata": {},
   "source": [
    "## Business days in date range (span)"
   ]
  },
  {
   "cell_type": "code",
   "execution_count": 16,
   "id": "42845f45",
   "metadata": {},
   "outputs": [
    {
     "name": "stdout",
     "output_type": "stream",
     "text": [
      "CPU times: total: 1min 17s\n",
      "Wall time: 1min 18s\n"
     ]
    }
   ],
   "source": [
    "%%time\n",
    "# compute number of business days in date range of each symbol (span)\n",
    "len_summary['span'] = len_summary.apply(lambda x: len(pd.date_range(x['start'], x['end'], freq='B')), axis=1)\n",
    "\n",
    "# percentage of available data of total business days\n",
    "len_summary['%'] = len_summary['len'] / len_summary['span']"
   ]
  },
  {
   "cell_type": "code",
   "execution_count": 17,
   "id": "80eec8c1",
   "metadata": {},
   "outputs": [
    {
     "data": {
      "text/plain": [
       "count    1010.000000\n",
       "mean     4247.683168\n",
       "std      1534.920065\n",
       "min        49.000000\n",
       "0%         49.000000\n",
       "10%      1449.400000\n",
       "20%      2683.200000\n",
       "30%      4017.800000\n",
       "40%      5217.000000\n",
       "50%      5217.000000\n",
       "60%      5217.000000\n",
       "70%      5217.000000\n",
       "80%      5217.000000\n",
       "90%      5217.000000\n",
       "100%     5217.000000\n",
       "max      5217.000000\n",
       "Name: span, dtype: float64"
      ]
     },
     "execution_count": 17,
     "metadata": {},
     "output_type": "execute_result"
    }
   ],
   "source": [
    "# distribution of symbol span\n",
    "len_summary['span'].describe(percentiles=np.arange(0,1.1,0.1))"
   ]
  },
  {
   "cell_type": "code",
   "execution_count": 18,
   "id": "d9335f34",
   "metadata": {},
   "outputs": [
    {
     "data": {
      "text/plain": [
       "count    1010.000000\n",
       "mean     4247.683168\n",
       "std      1534.920065\n",
       "min        49.000000\n",
       "0%         49.000000\n",
       "1%        229.900000\n",
       "2%        401.540000\n",
       "3%        829.270000\n",
       "4%        899.360000\n",
       "5%        966.800000\n",
       "6%       1059.540000\n",
       "7%       1116.890000\n",
       "8%       1184.880000\n",
       "9%       1317.860000\n",
       "50%      5217.000000\n",
       "max      5217.000000\n",
       "Name: span, dtype: float64"
      ]
     },
     "execution_count": 18,
     "metadata": {},
     "output_type": "execute_result"
    }
   ],
   "source": [
    "# lower-tail distribution of symbol span\n",
    "len_summary['span'].describe(percentiles=np.arange(0,0.1,0.01))"
   ]
  },
  {
   "cell_type": "code",
   "execution_count": 19,
   "id": "5686ce05",
   "metadata": {},
   "outputs": [
    {
     "data": {
      "text/plain": [
       "count    1010.000000\n",
       "mean        0.962133\n",
       "std         0.038505\n",
       "min         0.039469\n",
       "0%          0.039469\n",
       "10%         0.964244\n",
       "20%         0.964529\n",
       "30%         0.964731\n",
       "40%         0.964731\n",
       "50%         0.964731\n",
       "60%         0.964731\n",
       "70%         0.964731\n",
       "80%         0.964731\n",
       "90%         0.964731\n",
       "100%        0.973684\n",
       "max         0.973684\n",
       "Name: %, dtype: float64"
      ]
     },
     "execution_count": 19,
     "metadata": {},
     "output_type": "execute_result"
    }
   ],
   "source": [
    "# distribution of symbol % of available data (of all business days)\n",
    "len_summary['%'].describe(percentiles=np.arange(0,1.1,0.1))"
   ]
  },
  {
   "cell_type": "code",
   "execution_count": 20,
   "id": "02f8e8a6",
   "metadata": {},
   "outputs": [
    {
     "data": {
      "text/plain": [
       "count    1010.000000\n",
       "mean        0.962133\n",
       "std         0.038505\n",
       "min         0.039469\n",
       "0%          0.039469\n",
       "1%          0.962453\n",
       "2%          0.962904\n",
       "3%          0.963411\n",
       "4%          0.963675\n",
       "5%          0.963866\n",
       "6%          0.963999\n",
       "7%          0.964095\n",
       "8%          0.964164\n",
       "9%          0.964195\n",
       "50%         0.964731\n",
       "max         0.973684\n",
       "Name: %, dtype: float64"
      ]
     },
     "execution_count": 20,
     "metadata": {},
     "output_type": "execute_result"
    }
   ],
   "source": [
    "# lower-tail distribution of symbol % available data\n",
    "len_summary['%'].describe(percentiles=np.arange(0,0.1,0.01))"
   ]
  },
  {
   "cell_type": "markdown",
   "id": "b96740bf",
   "metadata": {},
   "source": [
    "# Remove low-data symbols"
   ]
  },
  {
   "cell_type": "code",
   "execution_count": 21,
   "id": "229728d3",
   "metadata": {},
   "outputs": [],
   "source": [
    "# get list of symbols that excludes bottom percentiles of availability (this ensures continuity in daily data)\n",
    "# keep symbols with at least 365 days of data that spans at least two years\n",
    "len_summary2 = (\n",
    "    len_summary\n",
    "    .query('(`%` >= 0.96) & (len >= 365) & (span >= 730)')\n",
    ")\n",
    "keep_list = list(len_summary2.index)\n",
    "\n",
    "# store list in local storage\n",
    "with open(OUTPUT_PATH+'/top1k_subset', 'wb') as f:\n",
    "    pickle.dump(keep_list, f)"
   ]
  },
  {
   "cell_type": "code",
   "execution_count": 22,
   "id": "fa55ddb3",
   "metadata": {},
   "outputs": [
    {
     "data": {
      "text/html": [
       "<div>\n",
       "<style scoped>\n",
       "    .dataframe tbody tr th:only-of-type {\n",
       "        vertical-align: middle;\n",
       "    }\n",
       "\n",
       "    .dataframe tbody tr th {\n",
       "        vertical-align: top;\n",
       "    }\n",
       "\n",
       "    .dataframe thead th {\n",
       "        text-align: right;\n",
       "    }\n",
       "</style>\n",
       "<table border=\"1\" class=\"dataframe\">\n",
       "  <thead>\n",
       "    <tr style=\"text-align: right;\">\n",
       "      <th></th>\n",
       "      <th>start</th>\n",
       "      <th>end</th>\n",
       "      <th>len</th>\n",
       "      <th>span</th>\n",
       "      <th>%</th>\n",
       "    </tr>\n",
       "    <tr>\n",
       "      <th>symbol</th>\n",
       "      <th></th>\n",
       "      <th></th>\n",
       "      <th></th>\n",
       "      <th></th>\n",
       "      <th></th>\n",
       "    </tr>\n",
       "  </thead>\n",
       "  <tbody>\n",
       "    <tr>\n",
       "      <th>A</th>\n",
       "      <td>2005-01-03</td>\n",
       "      <td>2024-12-31</td>\n",
       "      <td>5033</td>\n",
       "      <td>5217</td>\n",
       "      <td>0.964731</td>\n",
       "    </tr>\n",
       "    <tr>\n",
       "      <th>AA</th>\n",
       "      <td>2005-01-03</td>\n",
       "      <td>2024-12-31</td>\n",
       "      <td>5033</td>\n",
       "      <td>5217</td>\n",
       "      <td>0.964731</td>\n",
       "    </tr>\n",
       "    <tr>\n",
       "      <th>AAL</th>\n",
       "      <td>2005-09-27</td>\n",
       "      <td>2024-12-31</td>\n",
       "      <td>4848</td>\n",
       "      <td>5026</td>\n",
       "      <td>0.964584</td>\n",
       "    </tr>\n",
       "    <tr>\n",
       "      <th>AAON</th>\n",
       "      <td>2005-01-03</td>\n",
       "      <td>2024-12-31</td>\n",
       "      <td>5033</td>\n",
       "      <td>5217</td>\n",
       "      <td>0.964731</td>\n",
       "    </tr>\n",
       "    <tr>\n",
       "      <th>AAP</th>\n",
       "      <td>2005-01-03</td>\n",
       "      <td>2024-12-31</td>\n",
       "      <td>5033</td>\n",
       "      <td>5217</td>\n",
       "      <td>0.964731</td>\n",
       "    </tr>\n",
       "    <tr>\n",
       "      <th>...</th>\n",
       "      <td>...</td>\n",
       "      <td>...</td>\n",
       "      <td>...</td>\n",
       "      <td>...</td>\n",
       "      <td>...</td>\n",
       "    </tr>\n",
       "    <tr>\n",
       "      <th>ZI</th>\n",
       "      <td>2020-06-04</td>\n",
       "      <td>2024-12-31</td>\n",
       "      <td>1152</td>\n",
       "      <td>1194</td>\n",
       "      <td>0.964824</td>\n",
       "    </tr>\n",
       "    <tr>\n",
       "      <th>ZION</th>\n",
       "      <td>2005-01-03</td>\n",
       "      <td>2024-12-31</td>\n",
       "      <td>5033</td>\n",
       "      <td>5217</td>\n",
       "      <td>0.964731</td>\n",
       "    </tr>\n",
       "    <tr>\n",
       "      <th>ZM</th>\n",
       "      <td>2019-04-18</td>\n",
       "      <td>2024-12-31</td>\n",
       "      <td>1436</td>\n",
       "      <td>1489</td>\n",
       "      <td>0.964406</td>\n",
       "    </tr>\n",
       "    <tr>\n",
       "      <th>ZS</th>\n",
       "      <td>2018-03-16</td>\n",
       "      <td>2024-12-31</td>\n",
       "      <td>1710</td>\n",
       "      <td>1773</td>\n",
       "      <td>0.964467</td>\n",
       "    </tr>\n",
       "    <tr>\n",
       "      <th>ZTS</th>\n",
       "      <td>2013-02-01</td>\n",
       "      <td>2024-12-31</td>\n",
       "      <td>2999</td>\n",
       "      <td>3108</td>\n",
       "      <td>0.964929</td>\n",
       "    </tr>\n",
       "  </tbody>\n",
       "</table>\n",
       "<p>978 rows × 5 columns</p>\n",
       "</div>"
      ],
      "text/plain": [
       "             start         end   len  span         %\n",
       "symbol                                              \n",
       "A       2005-01-03  2024-12-31  5033  5217  0.964731\n",
       "AA      2005-01-03  2024-12-31  5033  5217  0.964731\n",
       "AAL     2005-09-27  2024-12-31  4848  5026  0.964584\n",
       "AAON    2005-01-03  2024-12-31  5033  5217  0.964731\n",
       "AAP     2005-01-03  2024-12-31  5033  5217  0.964731\n",
       "...            ...         ...   ...   ...       ...\n",
       "ZI      2020-06-04  2024-12-31  1152  1194  0.964824\n",
       "ZION    2005-01-03  2024-12-31  5033  5217  0.964731\n",
       "ZM      2019-04-18  2024-12-31  1436  1489  0.964406\n",
       "ZS      2018-03-16  2024-12-31  1710  1773  0.964467\n",
       "ZTS     2013-02-01  2024-12-31  2999  3108  0.964929\n",
       "\n",
       "[978 rows x 5 columns]"
      ]
     },
     "execution_count": 22,
     "metadata": {},
     "output_type": "execute_result"
    }
   ],
   "source": [
    "len_summary2"
   ]
  },
  {
   "cell_type": "code",
   "execution_count": 23,
   "id": "0c740b35",
   "metadata": {},
   "outputs": [
    {
     "name": "stdout",
     "output_type": "stream",
     "text": [
      "Earliest start date: 2005-01-03\n",
      "Latest start date: 2024-12-31\n",
      "Earliest end date: 2005-01-03\n",
      "Latest end date: 2024-12-31\n"
     ]
    }
   ],
   "source": [
    "print(\"Earliest start date:\", len_summary2['start'].min())\n",
    "print(\"Latest start date:\", len_summary2['end'].max())\n",
    "print(\"Earliest end date:\", len_summary2['start'].min())\n",
    "print(\"Latest end date:\", len_summary2['end'].max())"
   ]
  },
  {
   "cell_type": "code",
   "execution_count": 24,
   "id": "a7563999",
   "metadata": {},
   "outputs": [
    {
     "data": {
      "text/plain": [
       "count     978.000000\n",
       "mean     4198.877301\n",
       "std      1364.299266\n",
       "min       742.000000\n",
       "0%        742.000000\n",
       "10%      1675.500000\n",
       "20%      2823.800000\n",
       "30%      4418.900000\n",
       "40%      5033.000000\n",
       "50%      5033.000000\n",
       "60%      5033.000000\n",
       "70%      5033.000000\n",
       "80%      5033.000000\n",
       "90%      5033.000000\n",
       "100%     5033.000000\n",
       "max      5033.000000\n",
       "Name: len, dtype: float64"
      ]
     },
     "execution_count": 24,
     "metadata": {},
     "output_type": "execute_result"
    }
   ],
   "source": [
    "# distribution of symbol data length\n",
    "len_summary2['len'].describe(percentiles=np.arange(0,1.1,0.1))"
   ]
  },
  {
   "cell_type": "code",
   "execution_count": 25,
   "id": "f60ca189",
   "metadata": {},
   "outputs": [
    {
     "data": {
      "text/plain": [
       "count     978.000000\n",
       "mean     4352.625767\n",
       "std      1413.886614\n",
       "min       770.000000\n",
       "0%        770.000000\n",
       "10%      1737.500000\n",
       "20%      2927.800000\n",
       "30%      4579.900000\n",
       "40%      5217.000000\n",
       "50%      5217.000000\n",
       "60%      5217.000000\n",
       "70%      5217.000000\n",
       "80%      5217.000000\n",
       "90%      5217.000000\n",
       "100%     5217.000000\n",
       "max      5217.000000\n",
       "Name: span, dtype: float64"
      ]
     },
     "execution_count": 25,
     "metadata": {},
     "output_type": "execute_result"
    }
   ],
   "source": [
    "# distribution of symbol span\n",
    "len_summary2['span'].describe(percentiles=np.arange(0,1.1,0.1))"
   ]
  }
 ],
 "metadata": {
  "kernelspec": {
   "display_name": "Python 3 (ipykernel)",
   "language": "python",
   "name": "python3"
  },
  "language_info": {
   "codemirror_mode": {
    "name": "ipython",
    "version": 3
   },
   "file_extension": ".py",
   "mimetype": "text/x-python",
   "name": "python",
   "nbconvert_exporter": "python",
   "pygments_lexer": "ipython3",
   "version": "3.10.9"
  }
 },
 "nbformat": 4,
 "nbformat_minor": 5
}
