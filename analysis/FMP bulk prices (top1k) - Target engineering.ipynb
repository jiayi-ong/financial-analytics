{
 "cells": [
  {
   "cell_type": "markdown",
   "id": "6aec5f8f",
   "metadata": {},
   "source": [
    "# Summary\n",
    "\n",
    "This notebook calculates price growths within a specified horizon from every week and bins them into discrete levels, to be used as the multi-label target variable for a prediction task."
   ]
  },
  {
   "cell_type": "markdown",
   "id": "7f80eb49",
   "metadata": {},
   "source": [
    "# Imports and configuration"
   ]
  },
  {
   "cell_type": "code",
   "execution_count": 1,
   "id": "1f6adca2",
   "metadata": {},
   "outputs": [],
   "source": [
    "import pickle\n",
    "import numpy as np\n",
    "import pandas as pd\n",
    "\n",
    "from typing import List, Tuple"
   ]
  },
  {
   "cell_type": "code",
   "execution_count": 2,
   "id": "9ec1eca7",
   "metadata": {},
   "outputs": [],
   "source": [
    "INPUT_PATH = \"C:/Users/mushj/Downloads/PROCESSED FINANCE DATA/FMP\"\n",
    "OUTPUT_PATH = \"C:/Users/mushj/Downloads/CURATED FINANCE DATA/FMP\""
   ]
  },
  {
   "cell_type": "code",
   "execution_count": 3,
   "id": "19aebb55",
   "metadata": {},
   "outputs": [],
   "source": [
    "# load historical daily prices\n",
    "df = pd.read_csv(INPUT_PATH+'/FMP_daily_prices_top1k.csv')\n",
    "\n",
    "# load list of symbols to keep (based on exploratory analysis)\n",
    "with open(INPUT_PATH+'/top1k_subset', 'rb') as f:\n",
    "    include_symbols = pickle.load(f)"
   ]
  },
  {
   "cell_type": "markdown",
   "id": "74d6c67f",
   "metadata": {},
   "source": [
    "# Prepare DataFrame"
   ]
  },
  {
   "cell_type": "code",
   "execution_count": 4,
   "id": "ab24cc31",
   "metadata": {},
   "outputs": [
    {
     "name": "stdout",
     "output_type": "stream",
     "text": [
      "Number of symbols to include: 978\n",
      "Examples: ['A', 'AA', 'AAL', 'AAON', 'AAP']\n"
     ]
    }
   ],
   "source": [
    "print(\"Number of symbols to include:\", len(include_symbols))\n",
    "print(\"Examples:\", include_symbols[:5])"
   ]
  },
  {
   "cell_type": "code",
   "execution_count": 5,
   "id": "2f470bc9",
   "metadata": {},
   "outputs": [],
   "source": [
    "df = df.query(\"symbol in @include_symbols\")\n",
    "df['date'] = pd.to_datetime(df['date'])"
   ]
  },
  {
   "cell_type": "code",
   "execution_count": 6,
   "id": "68f5e57d",
   "metadata": {},
   "outputs": [
    {
     "data": {
      "text/html": [
       "<div>\n",
       "<style scoped>\n",
       "    .dataframe tbody tr th:only-of-type {\n",
       "        vertical-align: middle;\n",
       "    }\n",
       "\n",
       "    .dataframe tbody tr th {\n",
       "        vertical-align: top;\n",
       "    }\n",
       "\n",
       "    .dataframe thead th {\n",
       "        text-align: right;\n",
       "    }\n",
       "</style>\n",
       "<table border=\"1\" class=\"dataframe\">\n",
       "  <thead>\n",
       "    <tr style=\"text-align: right;\">\n",
       "      <th></th>\n",
       "      <th>symbol</th>\n",
       "      <th>date</th>\n",
       "      <th>close</th>\n",
       "      <th>volume</th>\n",
       "    </tr>\n",
       "  </thead>\n",
       "  <tbody>\n",
       "    <tr>\n",
       "      <th>0</th>\n",
       "      <td>A</td>\n",
       "      <td>2005-01-03</td>\n",
       "      <td>16.09</td>\n",
       "      <td>3587208.0</td>\n",
       "    </tr>\n",
       "    <tr>\n",
       "      <th>1</th>\n",
       "      <td>A</td>\n",
       "      <td>2005-01-04</td>\n",
       "      <td>15.66</td>\n",
       "      <td>3978002.0</td>\n",
       "    </tr>\n",
       "    <tr>\n",
       "      <th>2</th>\n",
       "      <td>A</td>\n",
       "      <td>2005-01-05</td>\n",
       "      <td>15.66</td>\n",
       "      <td>4139634.0</td>\n",
       "    </tr>\n",
       "    <tr>\n",
       "      <th>3</th>\n",
       "      <td>A</td>\n",
       "      <td>2005-01-06</td>\n",
       "      <td>15.31</td>\n",
       "      <td>3353443.0</td>\n",
       "    </tr>\n",
       "    <tr>\n",
       "      <th>4</th>\n",
       "      <td>A</td>\n",
       "      <td>2005-01-07</td>\n",
       "      <td>15.30</td>\n",
       "      <td>2786175.0</td>\n",
       "    </tr>\n",
       "  </tbody>\n",
       "</table>\n",
       "</div>"
      ],
      "text/plain": [
       "  symbol       date  close     volume\n",
       "0      A 2005-01-03  16.09  3587208.0\n",
       "1      A 2005-01-04  15.66  3978002.0\n",
       "2      A 2005-01-05  15.66  4139634.0\n",
       "3      A 2005-01-06  15.31  3353443.0\n",
       "4      A 2005-01-07  15.30  2786175.0"
      ]
     },
     "execution_count": 6,
     "metadata": {},
     "output_type": "execute_result"
    }
   ],
   "source": [
    "df.head()"
   ]
  },
  {
   "cell_type": "markdown",
   "id": "7adb8b96",
   "metadata": {},
   "source": [
    "# Engineer multi-label target variable\n",
    "\n",
    "1. The daily stock price data is downsampled to a weekly frequency. The last daily closing price is used as the week's closing price. For example, if the week contains prices for Monday till Friday, then Friday's closing price is used.\n",
    "2. Given a forecast horizon (e.g. 1 year ahead), price growths are computed for each week, between a week's closing price and EVERY subsequent DAILY closing price within the forecast horizon.\n",
    "3. Discrete intervals are defined, for example, <-25%, -25to0%, 0to25% >25%. The multi-label target variable for each week is a vector of binary values that indicate whether a stock will experience a certain level of price growth within the given horizon from that week. For example, a vector of [0, 1, 0, 1] for week 50 of stock ABC means that the stock will experience at least one price change in the interval -25to0%, and at least one price change in the interval >25%, relative to the closing price of week 50."
   ]
  },
  {
   "cell_type": "markdown",
   "id": "02557c2a",
   "metadata": {},
   "source": [
    "## Get weekly data"
   ]
  },
  {
   "cell_type": "code",
   "execution_count": 7,
   "id": "83ba1396",
   "metadata": {},
   "outputs": [
    {
     "name": "stdout",
     "output_type": "stream",
     "text": [
      "CPU times: total: 22.6 s\n",
      "Wall time: 23.7 s\n"
     ]
    }
   ],
   "source": [
    "%%time\n",
    "weekly_df = (\n",
    "    df\n",
    "    .sort_values(['symbol', 'date'])\n",
    "    .groupby('symbol')\n",
    "    .resample('W-MON', on='date', label='left') # mark each week with Monday\n",
    "    .last() # get last price of the week\n",
    "    .reset_index(level='date') # set date index as column\n",
    "    .reset_index(drop=True) # remove other indexes\n",
    "    .rename({'date': 'week'}, axis=1)\n",
    ")"
   ]
  },
  {
   "cell_type": "code",
   "execution_count": 8,
   "id": "f873ab19",
   "metadata": {},
   "outputs": [
    {
     "data": {
      "text/html": [
       "<div>\n",
       "<style scoped>\n",
       "    .dataframe tbody tr th:only-of-type {\n",
       "        vertical-align: middle;\n",
       "    }\n",
       "\n",
       "    .dataframe tbody tr th {\n",
       "        vertical-align: top;\n",
       "    }\n",
       "\n",
       "    .dataframe thead th {\n",
       "        text-align: right;\n",
       "    }\n",
       "</style>\n",
       "<table border=\"1\" class=\"dataframe\">\n",
       "  <thead>\n",
       "    <tr style=\"text-align: right;\">\n",
       "      <th></th>\n",
       "      <th>week</th>\n",
       "      <th>symbol</th>\n",
       "      <th>close</th>\n",
       "      <th>volume</th>\n",
       "    </tr>\n",
       "  </thead>\n",
       "  <tbody>\n",
       "    <tr>\n",
       "      <th>0</th>\n",
       "      <td>2004-12-27</td>\n",
       "      <td>A</td>\n",
       "      <td>16.09</td>\n",
       "      <td>3587208.0</td>\n",
       "    </tr>\n",
       "    <tr>\n",
       "      <th>1</th>\n",
       "      <td>2005-01-03</td>\n",
       "      <td>A</td>\n",
       "      <td>15.23</td>\n",
       "      <td>4190098.0</td>\n",
       "    </tr>\n",
       "    <tr>\n",
       "      <th>2</th>\n",
       "      <td>2005-01-10</td>\n",
       "      <td>A</td>\n",
       "      <td>14.86</td>\n",
       "      <td>3027509.0</td>\n",
       "    </tr>\n",
       "    <tr>\n",
       "      <th>3</th>\n",
       "      <td>2005-01-17</td>\n",
       "      <td>A</td>\n",
       "      <td>14.45</td>\n",
       "      <td>5241370.0</td>\n",
       "    </tr>\n",
       "    <tr>\n",
       "      <th>4</th>\n",
       "      <td>2005-01-24</td>\n",
       "      <td>A</td>\n",
       "      <td>14.90</td>\n",
       "      <td>2821500.0</td>\n",
       "    </tr>\n",
       "  </tbody>\n",
       "</table>\n",
       "</div>"
      ],
      "text/plain": [
       "        week symbol  close     volume\n",
       "0 2004-12-27      A  16.09  3587208.0\n",
       "1 2005-01-03      A  15.23  4190098.0\n",
       "2 2005-01-10      A  14.86  3027509.0\n",
       "3 2005-01-17      A  14.45  5241370.0\n",
       "4 2005-01-24      A  14.90  2821500.0"
      ]
     },
     "execution_count": 8,
     "metadata": {},
     "output_type": "execute_result"
    }
   ],
   "source": [
    "weekly_df.head()"
   ]
  },
  {
   "cell_type": "code",
   "execution_count": 33,
   "id": "30dd769e",
   "metadata": {},
   "outputs": [
    {
     "data": {
      "text/plain": [
       "week      0.0\n",
       "symbol    0.0\n",
       "close     0.0\n",
       "volume    0.0\n",
       "dtype: float64"
      ]
     },
     "execution_count": 33,
     "metadata": {},
     "output_type": "execute_result"
    }
   ],
   "source": [
    "weekly_df.isna().mean()"
   ]
  },
  {
   "cell_type": "code",
   "execution_count": 43,
   "id": "7be52f59",
   "metadata": {},
   "outputs": [
    {
     "data": {
      "text/plain": [
       "week      datetime64[ns]\n",
       "symbol            object\n",
       "close            float64\n",
       "volume           float64\n",
       "dtype: object"
      ]
     },
     "execution_count": 43,
     "metadata": {},
     "output_type": "execute_result"
    }
   ],
   "source": [
    "weekly_df.dtypes"
   ]
  },
  {
   "cell_type": "markdown",
   "id": "7f4e031c",
   "metadata": {},
   "source": [
    "## Validate weekly data"
   ]
  },
  {
   "cell_type": "code",
   "execution_count": 28,
   "id": "3decff0a",
   "metadata": {},
   "outputs": [
    {
     "name": "stdout",
     "output_type": "stream",
     "text": [
      "CPU times: total: 21.5 s\n",
      "Wall time: 21.8 s\n"
     ]
    }
   ],
   "source": [
    "%%time\n",
    "# store the complete sets of weeks between the start and end weeks of each symbol (span)\n",
    "week_span = {}\n",
    "\n",
    "for symbol, data in weekly_df.groupby('symbol'):\n",
    "    weeks = data.query(\"symbol == @symbol\")['week']\n",
    "    start, end = weeks.min(), weeks.max()\n",
    "    week_span[symbol] = set(pd.date_range(start, end, freq='W-MON'))"
   ]
  },
  {
   "cell_type": "code",
   "execution_count": 29,
   "id": "9cd0ede1",
   "metadata": {},
   "outputs": [
    {
     "name": "stdout",
     "output_type": "stream",
     "text": [
      "CPU times: total: 1.38 s\n",
      "Wall time: 1.45 s\n"
     ]
    }
   ],
   "source": [
    "%%time\n",
    "# detect missing weeks for each symbol\n",
    "missing_weeks = []\n",
    "\n",
    "for symbol, data in weekly_df.groupby('symbol'):\n",
    "    # get weeks in symbol span that are not in symbol data\n",
    "    missing = week_span[symbol].difference(set(data['week']))\n",
    "    for w in missing:\n",
    "        missing_weeks.append({'symbol': symbol, 'missing_week': w})\n",
    "        \n",
    "missing_weeks = pd.DataFrame(missing_weeks)"
   ]
  },
  {
   "cell_type": "code",
   "execution_count": 30,
   "id": "63b55492",
   "metadata": {},
   "outputs": [
    {
     "data": {
      "text/html": [
       "<div>\n",
       "<style scoped>\n",
       "    .dataframe tbody tr th:only-of-type {\n",
       "        vertical-align: middle;\n",
       "    }\n",
       "\n",
       "    .dataframe tbody tr th {\n",
       "        vertical-align: top;\n",
       "    }\n",
       "\n",
       "    .dataframe thead th {\n",
       "        text-align: right;\n",
       "    }\n",
       "</style>\n",
       "<table border=\"1\" class=\"dataframe\">\n",
       "  <thead>\n",
       "    <tr style=\"text-align: right;\">\n",
       "      <th></th>\n",
       "    </tr>\n",
       "  </thead>\n",
       "  <tbody>\n",
       "  </tbody>\n",
       "</table>\n",
       "</div>"
      ],
      "text/plain": [
       "Empty DataFrame\n",
       "Columns: []\n",
       "Index: []"
      ]
     },
     "execution_count": 30,
     "metadata": {},
     "output_type": "execute_result"
    }
   ],
   "source": [
    "# check missing weeks\n",
    "missing_weeks"
   ]
  },
  {
   "cell_type": "markdown",
   "id": "bdde8000",
   "metadata": {},
   "source": [
    "## Compute price changes - functions"
   ]
  },
  {
   "cell_type": "code",
   "execution_count": 37,
   "id": "6340f63c",
   "metadata": {},
   "outputs": [],
   "source": [
    "def label_intervals(\n",
    "    price_changes: np.array, intervals: List[Tuple]\n",
    ") -> np.array:\n",
    "    \"\"\"Returns an array of boolean values, each indicating whether \n",
    "    a price change within an interval is detected.\n",
    "    Arguments:\n",
    "        price_changes (np.array): array of price changes\n",
    "        intervals (List[Tuple]): each tuple contains the lower and upper boundaries of the intervals\n",
    "    \"\"\"\n",
    "    labels = np.zeros(len(intervals), dtype=int)\n",
    "    \n",
    "    for i, (low, upp) in enumerate(intervals):\n",
    "        if np.any((price_changes > low) & (price_changes <= upp)):\n",
    "            labels[i] = 1\n",
    "            \n",
    "    return labels"
   ]
  },
  {
   "cell_type": "code",
   "execution_count": 38,
   "id": "08f9cbfe",
   "metadata": {},
   "outputs": [
    {
     "data": {
      "text/plain": [
       "array([0, 1, 1, 1])"
      ]
     },
     "execution_count": 38,
     "metadata": {},
     "output_type": "execute_result"
    }
   ],
   "source": [
    "# test label_intervals()\n",
    "pc_arr = np.array([0.21, 0.14, -0.18, 0.55, -0.05])\n",
    "intervals = [(-np.inf, -0.20), (-0.20, 0), (0, 0.20), (0.20, np.inf)]\n",
    "label_intervals(pc_arr, intervals)"
   ]
  },
  {
   "cell_type": "code",
   "execution_count": 48,
   "id": "61c5845b",
   "metadata": {},
   "outputs": [],
   "source": [
    "def engineer_targets(\n",
    "    weekly_df: pd.DataFrame, daily_df: pd.DataFrame,\n",
    "    forecast_horizon: int, intervals: List[Tuple]\n",
    ") -> pd.DataFrame:\n",
    "    \"\"\"Returns a DataFrame that maps each stock's weekly data to the multi-label target variable,\n",
    "    which indicates the discrete levels of price changes actualized within the forecast horizon relative to\n",
    "    the week's closing price.\n",
    "    Arguments:\n",
    "        weekly_df (pd.DataFrame): contains the weekly closing stock prices of each symbol\n",
    "        daily_df (pd.DataFrame): contains the daily closing stock prices of each symbol\n",
    "        forecast_horizon (int): number of days in the forecast horizon\n",
    "        intervals: each tuple contains the lower and upper boundaries of the price change intervals\n",
    "    Prerequisites:\n",
    "        1. weekly_df and daily_df must be sorted by symbol and date (ascending)\n",
    "        2. the 'date' columns of weekly_df and daily_df must be formated as datetime\n",
    "    \"\"\"\n",
    "    # Initialize a list to store results\n",
    "    results = []\n",
    "\n",
    "    # Process each stock symbol separately\n",
    "    for symbol, group in weekly_df.groupby('symbol'):\n",
    "\n",
    "        # Iterate through each week's closing price\n",
    "        for i, row in group.iterrows():\n",
    "            current_date = row['date']\n",
    "            current_price = row['close']\n",
    "\n",
    "            # Define the forecast horizon\n",
    "            horizon_end_date = current_date + pd.DateOffset(days=forecast_horizon)\n",
    "\n",
    "            # Get daily prices within the forecast horizon\n",
    "            future_prices = (\n",
    "                daily_df\n",
    "                .query(\"(symbol == @symbol) & (date > @current_date) & (date <= @horizon_end_date)\")\n",
    "                ['close']\n",
    "                .values\n",
    "            )\n",
    "\n",
    "            # Compute price growths\n",
    "            price_changes = (future_prices - current_price) / current_price\n",
    "\n",
    "            # Label based on intervals\n",
    "            labels = label_intervals(price_changes, intervals)\n",
    "\n",
    "            # Append results\n",
    "            results.append({\n",
    "                'symbol': symbol,\n",
    "                'week_start_date': current_date,\n",
    "                'labels': labels\n",
    "            })\n",
    "\n",
    "    # Convert results to a DataFrame\n",
    "    target_df = pd.DataFrame(results)\n",
    "\n",
    "    return target_df"
   ]
  },
  {
   "cell_type": "code",
   "execution_count": 52,
   "id": "0ccec0c9",
   "metadata": {},
   "outputs": [
    {
     "data": {
      "text/html": [
       "<div>\n",
       "<style scoped>\n",
       "    .dataframe tbody tr th:only-of-type {\n",
       "        vertical-align: middle;\n",
       "    }\n",
       "\n",
       "    .dataframe tbody tr th {\n",
       "        vertical-align: top;\n",
       "    }\n",
       "\n",
       "    .dataframe thead th {\n",
       "        text-align: right;\n",
       "    }\n",
       "</style>\n",
       "<table border=\"1\" class=\"dataframe\">\n",
       "  <thead>\n",
       "    <tr style=\"text-align: right;\">\n",
       "      <th></th>\n",
       "      <th>symbol</th>\n",
       "      <th>week_start_date</th>\n",
       "      <th>labels</th>\n",
       "    </tr>\n",
       "  </thead>\n",
       "  <tbody>\n",
       "    <tr>\n",
       "      <th>0</th>\n",
       "      <td>ABC</td>\n",
       "      <td>2025-01-01</td>\n",
       "      <td>[0, 1, 1, 0]</td>\n",
       "    </tr>\n",
       "    <tr>\n",
       "      <th>1</th>\n",
       "      <td>ABC</td>\n",
       "      <td>2025-02-01</td>\n",
       "      <td>[0, 0, 1, 0]</td>\n",
       "    </tr>\n",
       "    <tr>\n",
       "      <th>2</th>\n",
       "      <td>XYZ</td>\n",
       "      <td>2025-01-01</td>\n",
       "      <td>[1, 0, 0, 0]</td>\n",
       "    </tr>\n",
       "  </tbody>\n",
       "</table>\n",
       "</div>"
      ],
      "text/plain": [
       "  symbol week_start_date        labels\n",
       "0    ABC      2025-01-01  [0, 1, 1, 0]\n",
       "1    ABC      2025-02-01  [0, 0, 1, 0]\n",
       "2    XYZ      2025-01-01  [1, 0, 0, 0]"
      ]
     },
     "execution_count": 52,
     "metadata": {},
     "output_type": "execute_result"
    }
   ],
   "source": [
    "# test engineer_targets()\n",
    "test_weekly = pd.DataFrame(\n",
    "    [\n",
    "        ['ABC', pd.Timestamp('2025-01-01'), 100.00],\n",
    "        ['ABC', pd.Timestamp('2025-02-01'), 200.00],\n",
    "        ['XYZ', pd.Timestamp('2025-01-01'), 300.00]\n",
    "    ], \n",
    "    columns=['symbol', 'date', 'close']\n",
    ")\n",
    "\n",
    "test_daily = pd.DataFrame(\n",
    "    [\n",
    "        ['ABC', pd.Timestamp('2025-01-02'), 105.00], # +5%\n",
    "        ['ABC', pd.Timestamp('2025-01-08'), 85.00],  # -15%\n",
    "        ['ABC', pd.Timestamp('2025-01-20'), 200.00], # +100% but outside of horizon\n",
    "        ['ABC', pd.Timestamp('2025-02-02'), 210.00], # +5%\n",
    "        ['XYZ', pd.Timestamp('2025-01-02'), 200.00]  # -33.33%\n",
    "    ], \n",
    "    columns=['symbol', 'date', 'close']\n",
    ")\n",
    "\n",
    "intervals = [(-np.inf, -0.20), (-0.20, 0), (0, 0.20), (0.20, np.inf)]\n",
    "\n",
    "engineer_targets(test_weekly, test_daily, forecast_horizon=10, intervals=intervals)"
   ]
  },
  {
   "cell_type": "markdown",
   "id": "8c37657a",
   "metadata": {},
   "source": [
    "## Compute price changes"
   ]
  },
  {
   "cell_type": "code",
   "execution_count": null,
   "id": "91b7fec1",
   "metadata": {},
   "outputs": [],
   "source": []
  }
 ],
 "metadata": {
  "kernelspec": {
   "display_name": "Python 3 (ipykernel)",
   "language": "python",
   "name": "python3"
  },
  "language_info": {
   "codemirror_mode": {
    "name": "ipython",
    "version": 3
   },
   "file_extension": ".py",
   "mimetype": "text/x-python",
   "name": "python",
   "nbconvert_exporter": "python",
   "pygments_lexer": "ipython3",
   "version": "3.10.9"
  }
 },
 "nbformat": 4,
 "nbformat_minor": 5
}
