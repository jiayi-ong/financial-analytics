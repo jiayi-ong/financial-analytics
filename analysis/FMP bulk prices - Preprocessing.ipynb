{
 "cells": [
  {
   "cell_type": "markdown",
   "id": "df32fda5",
   "metadata": {},
   "source": [
    "# Summary"
   ]
  },
  {
   "cell_type": "markdown",
   "id": "6c0ce230",
   "metadata": {},
   "source": [
    "This notebook combines and validates daily price datasets downloaded using the bulk API offered by Financial Modeling Prep (FMP): https://site.financialmodelingprep.com/developer/docs#bulk-and-batch"
   ]
  },
  {
   "cell_type": "markdown",
   "id": "9f2d65f5",
   "metadata": {},
   "source": [
    "# Imports and Configuration"
   ]
  },
  {
   "cell_type": "code",
   "execution_count": 1,
   "id": "d3a6e8de",
   "metadata": {},
   "outputs": [],
   "source": [
    "import os\n",
    "import glob\n",
    "import pandas as pd\n",
    "\n",
    "from tqdm import tqdm"
   ]
  },
  {
   "cell_type": "code",
   "execution_count": 2,
   "id": "15b6a766",
   "metadata": {},
   "outputs": [],
   "source": [
    "# this folder contains .csv datasets of daily prices\n",
    "INPUT_PATH = r\"C:\\Users\\mushj\\Downloads\\RAW FINANCE DATA\\FMP\\bulk_batch-historical-eod\"\n",
    "OUTPUT_PATH = r\"C:\\Users\\mushj\\Downloads\\PROCESSED FINANCE DATA\\FMP\""
   ]
  },
  {
   "cell_type": "markdown",
   "id": "59c9913d",
   "metadata": {},
   "source": [
    "# Examine data"
   ]
  },
  {
   "cell_type": "code",
   "execution_count": 3,
   "id": "4189eb2b",
   "metadata": {},
   "outputs": [
    {
     "name": "stdout",
     "output_type": "stream",
     "text": [
      "Counts (number of days): 5217\n",
      "Example path: C:\\Users\\mushj\\Downloads\\RAW FINANCE DATA\\FMP\\bulk_batch-historical-eod\\batch-historical-eod (2005-01-03).csv\n"
     ]
    }
   ],
   "source": [
    "# get paths to all daily prices datasets\n",
    "dataset_names = glob.glob(os.path.join(INPUT_PATH, '*'), recursive=False)\n",
    "print(\"Counts (number of days):\", len(dataset_names))\n",
    "print(\"Example path:\", dataset_names[0])"
   ]
  },
  {
   "cell_type": "code",
   "execution_count": 4,
   "id": "6d02e164",
   "metadata": {},
   "outputs": [
    {
     "data": {
      "text/html": [
       "<div>\n",
       "<style scoped>\n",
       "    .dataframe tbody tr th:only-of-type {\n",
       "        vertical-align: middle;\n",
       "    }\n",
       "\n",
       "    .dataframe tbody tr th {\n",
       "        vertical-align: top;\n",
       "    }\n",
       "\n",
       "    .dataframe thead th {\n",
       "        text-align: right;\n",
       "    }\n",
       "</style>\n",
       "<table border=\"1\" class=\"dataframe\">\n",
       "  <thead>\n",
       "    <tr style=\"text-align: right;\">\n",
       "      <th></th>\n",
       "      <th>symbol</th>\n",
       "      <th>date</th>\n",
       "      <th>open</th>\n",
       "      <th>low</th>\n",
       "      <th>high</th>\n",
       "      <th>close</th>\n",
       "      <th>adjClose</th>\n",
       "      <th>volume</th>\n",
       "    </tr>\n",
       "  </thead>\n",
       "  <tbody>\n",
       "    <tr>\n",
       "      <th>0</th>\n",
       "      <td>1198.HK</td>\n",
       "      <td>2005-01-03</td>\n",
       "      <td>4.590</td>\n",
       "      <td>4.52</td>\n",
       "      <td>4.590</td>\n",
       "      <td>4.56</td>\n",
       "      <td>4.56</td>\n",
       "      <td>190692.0</td>\n",
       "    </tr>\n",
       "    <tr>\n",
       "      <th>1</th>\n",
       "      <td>DHCC</td>\n",
       "      <td>2005-01-03</td>\n",
       "      <td>0.570</td>\n",
       "      <td>0.55</td>\n",
       "      <td>0.630</td>\n",
       "      <td>0.63</td>\n",
       "      <td>0.63</td>\n",
       "      <td>10200.0</td>\n",
       "    </tr>\n",
       "    <tr>\n",
       "      <th>2</th>\n",
       "      <td>CALZF</td>\n",
       "      <td>2005-01-03</td>\n",
       "      <td>0.950</td>\n",
       "      <td>0.95</td>\n",
       "      <td>0.950</td>\n",
       "      <td>0.95</td>\n",
       "      <td>0.95</td>\n",
       "      <td>500.0</td>\n",
       "    </tr>\n",
       "    <tr>\n",
       "      <th>3</th>\n",
       "      <td>BZ7A.F</td>\n",
       "      <td>2005-01-03</td>\n",
       "      <td>0.290</td>\n",
       "      <td>0.29</td>\n",
       "      <td>0.290</td>\n",
       "      <td>0.29</td>\n",
       "      <td>0.29</td>\n",
       "      <td>0.0</td>\n",
       "    </tr>\n",
       "    <tr>\n",
       "      <th>4</th>\n",
       "      <td>TCOR</td>\n",
       "      <td>2005-01-03</td>\n",
       "      <td>0.035</td>\n",
       "      <td>0.03</td>\n",
       "      <td>0.035</td>\n",
       "      <td>0.03</td>\n",
       "      <td>0.03</td>\n",
       "      <td>114040.0</td>\n",
       "    </tr>\n",
       "  </tbody>\n",
       "</table>\n",
       "</div>"
      ],
      "text/plain": [
       "    symbol        date   open   low   high  close  adjClose    volume\n",
       "0  1198.HK  2005-01-03  4.590  4.52  4.590   4.56      4.56  190692.0\n",
       "1     DHCC  2005-01-03  0.570  0.55  0.630   0.63      0.63   10200.0\n",
       "2    CALZF  2005-01-03  0.950  0.95  0.950   0.95      0.95     500.0\n",
       "3   BZ7A.F  2005-01-03  0.290  0.29  0.290   0.29      0.29       0.0\n",
       "4     TCOR  2005-01-03  0.035  0.03  0.035   0.03      0.03  114040.0"
      ]
     },
     "execution_count": 4,
     "metadata": {},
     "output_type": "execute_result"
    }
   ],
   "source": [
    "# load one example to inspect the schema\n",
    "sample_df = pd.read_csv(dataset_names[0])\n",
    "sample_df.head()"
   ]
  },
  {
   "cell_type": "code",
   "execution_count": 5,
   "id": "ffee6bd1",
   "metadata": {},
   "outputs": [
    {
     "data": {
      "text/plain": [
       "(18866, 8)"
      ]
     },
     "execution_count": 5,
     "metadata": {},
     "output_type": "execute_result"
    }
   ],
   "source": [
    "sample_df.shape"
   ]
  },
  {
   "cell_type": "code",
   "execution_count": 6,
   "id": "5910707c",
   "metadata": {},
   "outputs": [
    {
     "data": {
      "text/plain": [
       "symbol       object\n",
       "date         object\n",
       "open        float64\n",
       "low         float64\n",
       "high        float64\n",
       "close       float64\n",
       "adjClose    float64\n",
       "volume      float64\n",
       "dtype: object"
      ]
     },
     "execution_count": 6,
     "metadata": {},
     "output_type": "execute_result"
    }
   ],
   "source": [
    "sample_df.dtypes"
   ]
  },
  {
   "cell_type": "markdown",
   "id": "e31cc483",
   "metadata": {},
   "source": [
    "# Load and validate all datasets"
   ]
  },
  {
   "cell_type": "code",
   "execution_count": 7,
   "id": "769f6ebc",
   "metadata": {},
   "outputs": [
    {
     "name": "stderr",
     "output_type": "stream",
     "text": [
      "Loading datasets: 100%|████████████████████████████████████████████████████████████| 5217/5217 [03:46<00:00, 23.08it/s]\n"
     ]
    }
   ],
   "source": [
    "# check each dataset for the following columns\n",
    "expected_columns = {'symbol', 'date', 'open', 'low', 'high', 'close', 'adjClose', 'volume'}\n",
    "\n",
    "# only keep the following columns\n",
    "keep_columns = ['symbol', 'date', 'close', 'volume']\n",
    "\n",
    "# list to store each dataset\n",
    "df_list = []\n",
    "\n",
    "for file in tqdm(dataset_names, desc=\"Loading datasets\"):\n",
    "    df = pd.read_csv(file)\n",
    "    \n",
    "    # raise exception if set of columns don't match expected set\n",
    "    if set(df.columns) != expected_columns:\n",
    "        file_name = dataset_names[0].split('\\\\')[-1]\n",
    "        error_msg = f\"Unexpected columns found in {file_name}\"\n",
    "        error_msg += f\"\\nColumns: {df.columns}\"\n",
    "        raise Exception(error_msg)\n",
    "    \n",
    "    df_list.append(df[keep_columns])"
   ]
  },
  {
   "cell_type": "code",
   "execution_count": 11,
   "id": "cd322598",
   "metadata": {},
   "outputs": [
    {
     "data": {
      "text/plain": [
       "(240423841, 4)"
      ]
     },
     "execution_count": 11,
     "metadata": {},
     "output_type": "execute_result"
    }
   ],
   "source": [
    "%%time\n",
    "# union all and sort\n",
    "combined_df = (\n",
    "    pd.concat(df_list, ignore_index=True, axis=0)\n",
    "    .sort_values(['symbol', 'date'])\n",
    ")\n",
    "combined_df.shape"
   ]
  },
  {
   "cell_type": "code",
   "execution_count": 15,
   "id": "57efe063",
   "metadata": {},
   "outputs": [
    {
     "name": "stdout",
     "output_type": "stream",
     "text": [
      "CPU times: total: 4min 12s\n",
      "Wall time: 7min 2s\n"
     ]
    }
   ],
   "source": [
    "%%time\n",
    "# export combined and sorted dataset\n",
    "combined_df.to_csv(OUTPUT_PATH+'/FMP_daily_prices.csv', index=False)"
   ]
  },
  {
   "cell_type": "markdown",
   "id": "4940c087",
   "metadata": {},
   "source": [
    "# Get subset"
   ]
  },
  {
   "cell_type": "code",
   "execution_count": null,
   "id": "d20316b7",
   "metadata": {},
   "outputs": [],
   "source": [
    "# get SP-500 list of symbols\n",
    "sp_500 = pd.read_html(\"https://en.wikipedia.org/wiki/List_of_S%26P_500_companies\")[0]\n",
    "sp_500_symbols = set(sp_500.Symbol)\n",
    "\n",
    "# get Russell 1000 list of symbols\n",
    "russell_1000 = pd.read_html(\"https://en.wikipedia.org/wiki/Russell_1000_Index\")[3]\n",
    "russell_1000_symbols = set(russell_1000.Symbol)\n",
    "\n",
    "# get NASDAQ 100 list of symbols\n",
    "nasdaq_100 = pd.read_html(\"https://en.wikipedia.org/wiki/Nasdaq-100\")[4]\n",
    "nasdaq_100_symbols = set(nasdaq_100.Symbol)\n",
    "\n",
    "# union all\n",
    "all_symbols = sp_500_symbols.union(russell_1000_symbols).union(nasdaq_100_symbols)\n",
    "\n",
    "print('SP500:', len(sp_500_symbols))\n",
    "print('russell_1000:', len(russell_1000_symbols))\n",
    "print('nasdaq_100:', len(nasdaq_100_symbols))\n",
    "print('union:', len(all_symbols))"
   ]
  },
  {
   "cell_type": "code",
   "execution_count": null,
   "id": "f6a58f04",
   "metadata": {},
   "outputs": [],
   "source": [
    "# filter and export\n",
    "%%time\n",
    "(\n",
    "    combined_df\n",
    "    .query('symbol in @all_symbols')\n",
    "    .to_csv(OUTPUT_PATH+'/FMP_daily_prices_top1k.csv', index=False)\n",
    ")"
   ]
  }
 ],
 "metadata": {
  "kernelspec": {
   "display_name": "Python 3 (ipykernel)",
   "language": "python",
   "name": "python3"
  },
  "language_info": {
   "codemirror_mode": {
    "name": "ipython",
    "version": 3
   },
   "file_extension": ".py",
   "mimetype": "text/x-python",
   "name": "python",
   "nbconvert_exporter": "python",
   "pygments_lexer": "ipython3",
   "version": "3.10.9"
  }
 },
 "nbformat": 4,
 "nbformat_minor": 5
}
