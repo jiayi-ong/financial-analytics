{
 "cells": [
  {
   "cell_type": "markdown",
   "id": "59df6de3",
   "metadata": {},
   "source": [
    "# Summary\n",
    "\n",
    "This notebook ingests various FMP datasets using its API."
   ]
  },
  {
   "cell_type": "markdown",
   "id": "a25978db",
   "metadata": {},
   "source": [
    "# Imports and configuration"
   ]
  },
  {
   "cell_type": "code",
   "execution_count": 1,
   "id": "43e7d194",
   "metadata": {},
   "outputs": [],
   "source": [
    "import sys\n",
    "import os\n",
    "import csv\n",
    "import time\n",
    "import pandas as pd\n",
    "from dotenv import load_dotenv\n",
    "from datetime import datetime"
   ]
  },
  {
   "cell_type": "code",
   "execution_count": 2,
   "id": "0a748b7b",
   "metadata": {},
   "outputs": [
    {
     "data": {
      "text/plain": [
       "True"
      ]
     },
     "execution_count": 2,
     "metadata": {},
     "output_type": "execute_result"
    }
   ],
   "source": [
    "load_dotenv(r\"C:\\Users\\mushj\\OneDrive\\Desktop\\WORK\\Financial Analytics\\.env\")"
   ]
  },
  {
   "cell_type": "code",
   "execution_count": 8,
   "id": "99705379",
   "metadata": {},
   "outputs": [],
   "source": [
    "utils_path = r\"C:\\Users\\mushj\\OneDrive\\Desktop\\WORK\\Financial Analytics\\pipeline\\fin_ml\\utils\"\n",
    "sys.path.append(utils_path)"
   ]
  },
  {
   "cell_type": "code",
   "execution_count": 9,
   "id": "5ce81600",
   "metadata": {},
   "outputs": [],
   "source": [
    "from data_ingestion import make_request"
   ]
  },
  {
   "cell_type": "code",
   "execution_count": 10,
   "id": "baedd39c",
   "metadata": {},
   "outputs": [],
   "source": [
    "OUTPUT_PATH = \"C:/Users/mushj/Downloads/RAW FINANCE DATA/FMP/\"\n",
    "API_KEY = os.getenv('FMP_API_KEY')\n",
    "BASE_URL = \"https://financialmodelingprep.com/api\""
   ]
  },
  {
   "cell_type": "markdown",
   "id": "a0373f3c",
   "metadata": {},
   "source": [
    "# Individual datasets"
   ]
  },
  {
   "cell_type": "code",
   "execution_count": 19,
   "id": "2212f56d",
   "metadata": {},
   "outputs": [],
   "source": [
    "# define a list to store parameters of each individual dataset\n",
    "# each tuple contains 'dataset name', 'api version', 'series parameters', and 'output type'\n",
    "api_inputs = [\n",
    "    ('treasury', 'v4', {'from': '2005-01-01', 'to': '2023-12-31'}, 'json'),\n",
    "]"
   ]
  },
  {
   "cell_type": "code",
   "execution_count": 20,
   "id": "132a1486",
   "metadata": {},
   "outputs": [
    {
     "name": "stdout",
     "output_type": "stream",
     "text": [
      "Requesting data for 'treasury'...\n",
      "Response received.\n",
      "Content exported (len=61)\n"
     ]
    }
   ],
   "source": [
    "for input_data in api_inputs:\n",
    "    dataset_name, api_version, dataset_params, output_type = input_data\n",
    "    \n",
    "    print(f\"Requesting data for '{dataset_name}'...\")\n",
    "    response = make_request(\n",
    "        method='GET',\n",
    "        url=f\"{BASE_URL}/{api_version}/{dataset_name}\",\n",
    "        params={\"apikey\": API_KEY, **dataset_params}\n",
    "    )\n",
    "    print('Response received.')\n",
    "    \n",
    "    file_path = OUTPUT_PATH + f'individual_datasets/{dataset_name}.csv'\n",
    "    \n",
    "    if output_type == 'json':\n",
    "        output_data = pd.DataFrame(response.json())\n",
    "        output_data.to_csv(file_path, index=False)\n",
    "    elif output_type == 'csv_bytes':\n",
    "        output_data = response.content\n",
    "        with open(file_path, 'wb') as f:\n",
    "            f.write(output_data)\n",
    "        \n",
    "    print(f'Content exported (len={len(output_data)})')"
   ]
  }
 ],
 "metadata": {
  "kernelspec": {
   "display_name": "Python 3 (ipykernel)",
   "language": "python",
   "name": "python3"
  },
  "language_info": {
   "codemirror_mode": {
    "name": "ipython",
    "version": 3
   },
   "file_extension": ".py",
   "mimetype": "text/x-python",
   "name": "python",
   "nbconvert_exporter": "python",
   "pygments_lexer": "ipython3",
   "version": "3.10.9"
  }
 },
 "nbformat": 4,
 "nbformat_minor": 5
}
