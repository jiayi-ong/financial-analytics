{
 "cells": [
  {
   "cell_type": "markdown",
   "id": "646bc693",
   "metadata": {},
   "source": [
    "# Summary\n",
    "\n",
    "This notebook concatenates the engineered target variables of each stock symbol into one main target dataframe and performs exploratory analysis to reveal the distributions and properties of the target variable."
   ]
  },
  {
   "cell_type": "markdown",
   "id": "d13f1af5",
   "metadata": {},
   "source": [
    "# Imports and configuration"
   ]
  },
  {
   "cell_type": "code",
   "execution_count": 1,
   "id": "d5c4c524",
   "metadata": {},
   "outputs": [],
   "source": [
    "import pickle\n",
    "import os\n",
    "import glob\n",
    "import numpy as np\n",
    "import pandas as pd\n",
    "from tqdm import tqdm"
   ]
  },
  {
   "cell_type": "code",
   "execution_count": 2,
   "id": "a50b10a7",
   "metadata": {},
   "outputs": [],
   "source": [
    "# this folder contains .csv datasets of daily prices\n",
    "INPUT_PATH = r\"C:\\Users\\mushj\\Downloads\\CURATED FINANCE DATA\\FMP\\discrete_return_30d\"\n",
    "OUTPUT_PATH = INPUT_PATH"
   ]
  },
  {
   "cell_type": "code",
   "execution_count": 3,
   "id": "0d290088",
   "metadata": {},
   "outputs": [
    {
     "name": "stdout",
     "output_type": "stream",
     "text": [
      "Number of stock symbols: 978\n",
      "Example path: C:\\Users\\mushj\\Downloads\\CURATED FINANCE DATA\\FMP\\discrete_return_30d\\A.csv\n"
     ]
    }
   ],
   "source": [
    "# get paths to all datasets\n",
    "dataset_names = glob.glob(os.path.join(INPUT_PATH, '*.csv'), recursive=False)\n",
    "print(\"Number of stock symbols:\", len(dataset_names))\n",
    "print(\"Example path:\", dataset_names[0])"
   ]
  },
  {
   "cell_type": "code",
   "execution_count": 4,
   "id": "74082690",
   "metadata": {},
   "outputs": [
    {
     "data": {
      "text/plain": [
       "[(-inf, -0.15),\n",
       " (-0.15, -0.077),\n",
       " (-0.077, -0.039),\n",
       " (-0.039, -0.02),\n",
       " (-0.02, 0),\n",
       " (0, 0.02),\n",
       " (0.02, 0.039),\n",
       " (0.039, 0.077),\n",
       " (0.077, 0.15),\n",
       " (0.15, inf)]"
      ]
     },
     "execution_count": 4,
     "metadata": {},
     "output_type": "execute_result"
    }
   ],
   "source": [
    "with open(INPUT_PATH+'/labels', 'rb') as f:\n",
    "    intervals = pickle.load(f)\n",
    "    \n",
    "intervals"
   ]
  },
  {
   "cell_type": "code",
   "execution_count": 5,
   "id": "25e6859c",
   "metadata": {},
   "outputs": [
    {
     "name": "stderr",
     "output_type": "stream",
     "text": [
      "Loading target variable data: 100%|█████████████████████████████████████████████████| 978/978 [00:02<00:00, 420.16it/s]\n"
     ]
    }
   ],
   "source": [
    "# list to store each dataset\n",
    "df_list = []\n",
    "\n",
    "for file in tqdm(dataset_names, desc=\"Loading target variable data\"):\n",
    "    df = pd.read_csv(file)\n",
    "    df_list.append(df)"
   ]
  },
  {
   "cell_type": "code",
   "execution_count": 6,
   "id": "0a712e98",
   "metadata": {},
   "outputs": [],
   "source": [
    "target_df = pd.concat(df_list, axis=0).reset_index(drop=True)"
   ]
  },
  {
   "cell_type": "code",
   "execution_count": 7,
   "id": "ed90873c",
   "metadata": {},
   "outputs": [
    {
     "data": {
      "text/html": [
       "<div>\n",
       "<style scoped>\n",
       "    .dataframe tbody tr th:only-of-type {\n",
       "        vertical-align: middle;\n",
       "    }\n",
       "\n",
       "    .dataframe tbody tr th {\n",
       "        vertical-align: top;\n",
       "    }\n",
       "\n",
       "    .dataframe thead th {\n",
       "        text-align: right;\n",
       "    }\n",
       "</style>\n",
       "<table border=\"1\" class=\"dataframe\">\n",
       "  <thead>\n",
       "    <tr style=\"text-align: right;\">\n",
       "      <th></th>\n",
       "      <th>symbol</th>\n",
       "      <th>week</th>\n",
       "      <th>labels</th>\n",
       "    </tr>\n",
       "  </thead>\n",
       "  <tbody>\n",
       "    <tr>\n",
       "      <th>0</th>\n",
       "      <td>A</td>\n",
       "      <td>2004-12-27</td>\n",
       "      <td>[0 1 1 1 1 0 0 0 0 0]</td>\n",
       "    </tr>\n",
       "    <tr>\n",
       "      <th>1</th>\n",
       "      <td>A</td>\n",
       "      <td>2005-01-03</td>\n",
       "      <td>[0 0 1 1 1 1 1 0 0 0]</td>\n",
       "    </tr>\n",
       "    <tr>\n",
       "      <th>2</th>\n",
       "      <td>A</td>\n",
       "      <td>2005-01-10</td>\n",
       "      <td>[0 0 0 1 1 1 1 1 0 0]</td>\n",
       "    </tr>\n",
       "    <tr>\n",
       "      <th>3</th>\n",
       "      <td>A</td>\n",
       "      <td>2005-01-17</td>\n",
       "      <td>[0 0 0 0 1 1 1 1 1 0]</td>\n",
       "    </tr>\n",
       "    <tr>\n",
       "      <th>4</th>\n",
       "      <td>A</td>\n",
       "      <td>2005-01-24</td>\n",
       "      <td>[0 0 0 1 1 1 1 1 1 0]</td>\n",
       "    </tr>\n",
       "    <tr>\n",
       "      <th>...</th>\n",
       "      <td>...</td>\n",
       "      <td>...</td>\n",
       "      <td>...</td>\n",
       "    </tr>\n",
       "    <tr>\n",
       "      <th>852794</th>\n",
       "      <td>ZTS</td>\n",
       "      <td>2024-12-02</td>\n",
       "      <td>[0 1 1 0 1 1 0 0 0 0]</td>\n",
       "    </tr>\n",
       "    <tr>\n",
       "      <th>852795</th>\n",
       "      <td>ZTS</td>\n",
       "      <td>2024-12-09</td>\n",
       "      <td>NaN</td>\n",
       "    </tr>\n",
       "    <tr>\n",
       "      <th>852796</th>\n",
       "      <td>ZTS</td>\n",
       "      <td>2024-12-16</td>\n",
       "      <td>NaN</td>\n",
       "    </tr>\n",
       "    <tr>\n",
       "      <th>852797</th>\n",
       "      <td>ZTS</td>\n",
       "      <td>2024-12-23</td>\n",
       "      <td>NaN</td>\n",
       "    </tr>\n",
       "    <tr>\n",
       "      <th>852798</th>\n",
       "      <td>ZTS</td>\n",
       "      <td>2024-12-30</td>\n",
       "      <td>NaN</td>\n",
       "    </tr>\n",
       "  </tbody>\n",
       "</table>\n",
       "<p>852799 rows × 3 columns</p>\n",
       "</div>"
      ],
      "text/plain": [
       "       symbol        week                 labels\n",
       "0           A  2004-12-27  [0 1 1 1 1 0 0 0 0 0]\n",
       "1           A  2005-01-03  [0 0 1 1 1 1 1 0 0 0]\n",
       "2           A  2005-01-10  [0 0 0 1 1 1 1 1 0 0]\n",
       "3           A  2005-01-17  [0 0 0 0 1 1 1 1 1 0]\n",
       "4           A  2005-01-24  [0 0 0 1 1 1 1 1 1 0]\n",
       "...       ...         ...                    ...\n",
       "852794    ZTS  2024-12-02  [0 1 1 0 1 1 0 0 0 0]\n",
       "852795    ZTS  2024-12-09                    NaN\n",
       "852796    ZTS  2024-12-16                    NaN\n",
       "852797    ZTS  2024-12-23                    NaN\n",
       "852798    ZTS  2024-12-30                    NaN\n",
       "\n",
       "[852799 rows x 3 columns]"
      ]
     },
     "execution_count": 7,
     "metadata": {},
     "output_type": "execute_result"
    }
   ],
   "source": [
    "target_df"
   ]
  },
  {
   "cell_type": "code",
   "execution_count": 8,
   "id": "ddc26864",
   "metadata": {},
   "outputs": [
    {
     "data": {
      "text/plain": [
       "symbol    0.000000\n",
       "week      0.000000\n",
       "labels    0.004586\n",
       "dtype: float64"
      ]
     },
     "execution_count": 8,
     "metadata": {},
     "output_type": "execute_result"
    }
   ],
   "source": [
    "target_df.isna().mean()"
   ]
  },
  {
   "cell_type": "code",
   "execution_count": 9,
   "id": "46ad75f5",
   "metadata": {},
   "outputs": [
    {
     "data": {
      "text/plain": [
       "symbol    object\n",
       "week      object\n",
       "labels    object\n",
       "dtype: object"
      ]
     },
     "execution_count": 9,
     "metadata": {},
     "output_type": "execute_result"
    }
   ],
   "source": [
    "target_df.dtypes"
   ]
  },
  {
   "cell_type": "markdown",
   "id": "c8d7b866",
   "metadata": {},
   "source": [
    "# Preprocessing"
   ]
  },
  {
   "cell_type": "code",
   "execution_count": 10,
   "id": "72b8e6d7",
   "metadata": {},
   "outputs": [],
   "source": [
    "# NAs in labels column are due to insufficient data in forecast horizon to generate conclusive labels\n",
    "target_df = target_df.dropna().reset_index(drop=True)"
   ]
  },
  {
   "cell_type": "code",
   "execution_count": 11,
   "id": "1df4da3b",
   "metadata": {},
   "outputs": [
    {
     "data": {
      "text/plain": [
       "0    [0, 1, 1, 1, 1, 0, 0, 0, 0, 0]\n",
       "1    [0, 0, 1, 1, 1, 1, 1, 0, 0, 0]\n",
       "2    [0, 0, 0, 1, 1, 1, 1, 1, 0, 0]\n",
       "3    [0, 0, 0, 0, 1, 1, 1, 1, 1, 0]\n",
       "4    [0, 0, 0, 1, 1, 1, 1, 1, 1, 0]\n",
       "Name: labels, dtype: object"
      ]
     },
     "execution_count": 11,
     "metadata": {},
     "output_type": "execute_result"
    }
   ],
   "source": [
    "# remove braces and split by space\n",
    "labels_df = target_df['labels'].apply(lambda x: x.strip('[]').split())\n",
    "labels_df.head()"
   ]
  },
  {
   "cell_type": "code",
   "execution_count": 12,
   "id": "ad7b7658",
   "metadata": {},
   "outputs": [
    {
     "data": {
      "text/html": [
       "<div>\n",
       "<style scoped>\n",
       "    .dataframe tbody tr th:only-of-type {\n",
       "        vertical-align: middle;\n",
       "    }\n",
       "\n",
       "    .dataframe tbody tr th {\n",
       "        vertical-align: top;\n",
       "    }\n",
       "\n",
       "    .dataframe thead th {\n",
       "        text-align: right;\n",
       "    }\n",
       "</style>\n",
       "<table border=\"1\" class=\"dataframe\">\n",
       "  <thead>\n",
       "    <tr style=\"text-align: right;\">\n",
       "      <th></th>\n",
       "      <th>(-inf, -0.15)</th>\n",
       "      <th>(-0.15, -0.077)</th>\n",
       "      <th>(-0.077, -0.039)</th>\n",
       "      <th>(-0.039, -0.02)</th>\n",
       "      <th>(-0.02, 0)</th>\n",
       "      <th>(0, 0.02)</th>\n",
       "      <th>(0.02, 0.039)</th>\n",
       "      <th>(0.039, 0.077)</th>\n",
       "      <th>(0.077, 0.15)</th>\n",
       "      <th>(0.15, inf)</th>\n",
       "    </tr>\n",
       "  </thead>\n",
       "  <tbody>\n",
       "    <tr>\n",
       "      <th>0</th>\n",
       "      <td>0</td>\n",
       "      <td>1</td>\n",
       "      <td>1</td>\n",
       "      <td>1</td>\n",
       "      <td>1</td>\n",
       "      <td>0</td>\n",
       "      <td>0</td>\n",
       "      <td>0</td>\n",
       "      <td>0</td>\n",
       "      <td>0</td>\n",
       "    </tr>\n",
       "    <tr>\n",
       "      <th>1</th>\n",
       "      <td>0</td>\n",
       "      <td>0</td>\n",
       "      <td>1</td>\n",
       "      <td>1</td>\n",
       "      <td>1</td>\n",
       "      <td>1</td>\n",
       "      <td>1</td>\n",
       "      <td>0</td>\n",
       "      <td>0</td>\n",
       "      <td>0</td>\n",
       "    </tr>\n",
       "    <tr>\n",
       "      <th>2</th>\n",
       "      <td>0</td>\n",
       "      <td>0</td>\n",
       "      <td>0</td>\n",
       "      <td>1</td>\n",
       "      <td>1</td>\n",
       "      <td>1</td>\n",
       "      <td>1</td>\n",
       "      <td>1</td>\n",
       "      <td>0</td>\n",
       "      <td>0</td>\n",
       "    </tr>\n",
       "    <tr>\n",
       "      <th>3</th>\n",
       "      <td>0</td>\n",
       "      <td>0</td>\n",
       "      <td>0</td>\n",
       "      <td>0</td>\n",
       "      <td>1</td>\n",
       "      <td>1</td>\n",
       "      <td>1</td>\n",
       "      <td>1</td>\n",
       "      <td>1</td>\n",
       "      <td>0</td>\n",
       "    </tr>\n",
       "    <tr>\n",
       "      <th>4</th>\n",
       "      <td>0</td>\n",
       "      <td>0</td>\n",
       "      <td>0</td>\n",
       "      <td>1</td>\n",
       "      <td>1</td>\n",
       "      <td>1</td>\n",
       "      <td>1</td>\n",
       "      <td>1</td>\n",
       "      <td>1</td>\n",
       "      <td>0</td>\n",
       "    </tr>\n",
       "  </tbody>\n",
       "</table>\n",
       "</div>"
      ],
      "text/plain": [
       "   (-inf, -0.15)  (-0.15, -0.077)  (-0.077, -0.039)  (-0.039, -0.02)  \\\n",
       "0              0                1                 1                1   \n",
       "1              0                0                 1                1   \n",
       "2              0                0                 0                1   \n",
       "3              0                0                 0                0   \n",
       "4              0                0                 0                1   \n",
       "\n",
       "   (-0.02, 0)  (0, 0.02)  (0.02, 0.039)  (0.039, 0.077)  (0.077, 0.15)  \\\n",
       "0           1          0              0               0              0   \n",
       "1           1          1              1               0              0   \n",
       "2           1          1              1               1              0   \n",
       "3           1          1              1               1              1   \n",
       "4           1          1              1               1              1   \n",
       "\n",
       "   (0.15, inf)  \n",
       "0            0  \n",
       "1            0  \n",
       "2            0  \n",
       "3            0  \n",
       "4            0  "
      ]
     },
     "execution_count": 12,
     "metadata": {},
     "output_type": "execute_result"
    }
   ],
   "source": [
    "# expand target array into columns\n",
    "labels_df = pd.DataFrame(labels_df.to_list())\n",
    "labels_df = labels_df.astype(int)\n",
    "labels_df.columns = intervals\n",
    "labels_df.head()"
   ]
  },
  {
   "cell_type": "code",
   "execution_count": 13,
   "id": "c885ab5b",
   "metadata": {},
   "outputs": [
    {
     "data": {
      "text/plain": [
       "(-inf, -0.15)       0.0\n",
       "(-0.15, -0.077)     0.0\n",
       "(-0.077, -0.039)    0.0\n",
       "(-0.039, -0.02)     0.0\n",
       "(-0.02, 0)          0.0\n",
       "(0, 0.02)           0.0\n",
       "(0.02, 0.039)       0.0\n",
       "(0.039, 0.077)      0.0\n",
       "(0.077, 0.15)       0.0\n",
       "(0.15, inf)         0.0\n",
       "dtype: float64"
      ]
     },
     "execution_count": 13,
     "metadata": {},
     "output_type": "execute_result"
    }
   ],
   "source": [
    "labels_df.isna().mean()"
   ]
  },
  {
   "cell_type": "code",
   "execution_count": 24,
   "id": "50377e0a",
   "metadata": {},
   "outputs": [
    {
     "name": "stdout",
     "output_type": "stream",
     "text": [
      "True\n"
     ]
    }
   ],
   "source": [
    "# concatenate with symbols and dates data\n",
    "print(all(labels_df.index == target_df.index))\n",
    "combined_df = pd.concat([target_df, labels_df], axis=1)"
   ]
  },
  {
   "cell_type": "markdown",
   "id": "ec9d51c1",
   "metadata": {},
   "source": [
    "# Summary"
   ]
  },
  {
   "cell_type": "code",
   "execution_count": 25,
   "id": "574dfa7e",
   "metadata": {},
   "outputs": [
    {
     "data": {
      "text/plain": [
       "(848888, 13)"
      ]
     },
     "execution_count": 25,
     "metadata": {},
     "output_type": "execute_result"
    }
   ],
   "source": [
    "combined_df.shape"
   ]
  },
  {
   "cell_type": "code",
   "execution_count": 26,
   "id": "a1ebf17f",
   "metadata": {},
   "outputs": [
    {
     "data": {
      "text/plain": [
       "symbol              object\n",
       "week                object\n",
       "labels              object\n",
       "(-inf, -0.15)        int32\n",
       "(-0.15, -0.077)      int32\n",
       "(-0.077, -0.039)     int32\n",
       "(-0.039, -0.02)      int32\n",
       "(-0.02, 0)           int32\n",
       "(0, 0.02)            int32\n",
       "(0.02, 0.039)        int32\n",
       "(0.039, 0.077)       int32\n",
       "(0.077, 0.15)        int32\n",
       "(0.15, inf)          int32\n",
       "dtype: object"
      ]
     },
     "execution_count": 26,
     "metadata": {},
     "output_type": "execute_result"
    }
   ],
   "source": [
    "combined_df.dtypes"
   ]
  },
  {
   "cell_type": "code",
   "execution_count": 28,
   "id": "55bd5a3a",
   "metadata": {},
   "outputs": [
    {
     "data": {
      "text/plain": [
       "(-inf, -0.15)       0.061925\n",
       "(-0.15, -0.077)     0.225208\n",
       "(-0.077, -0.039)    0.482011\n",
       "(-0.039, -0.02)     0.675147\n",
       "(-0.02, 0)          1.000000\n",
       "(0, 0.02)           0.908924\n",
       "(0.02, 0.039)       0.701833\n",
       "(0.039, 0.077)      0.536944\n",
       "(0.077, 0.15)       0.270811\n",
       "(0.15, inf)         0.083366\n",
       "dtype: float64"
      ]
     },
     "execution_count": 28,
     "metadata": {},
     "output_type": "execute_result"
    }
   ],
   "source": [
    "# proportion of 'positive class' of each label in entire dataset\n",
    "combined_df[intervals].mean()"
   ]
  },
  {
   "cell_type": "markdown",
   "id": "0a7bf5ec",
   "metadata": {},
   "source": [
    "# Symbol-level summary"
   ]
  },
  {
   "cell_type": "code",
   "execution_count": 31,
   "id": "f83ca50b",
   "metadata": {},
   "outputs": [],
   "source": [
    "df1 = combined_df.groupby('symbol')[intervals].mean()"
   ]
  },
  {
   "cell_type": "code",
   "execution_count": 33,
   "id": "ccebb211",
   "metadata": {},
   "outputs": [
    {
     "data": {
      "text/html": [
       "<div>\n",
       "<style scoped>\n",
       "    .dataframe tbody tr th:only-of-type {\n",
       "        vertical-align: middle;\n",
       "    }\n",
       "\n",
       "    .dataframe tbody tr th {\n",
       "        vertical-align: top;\n",
       "    }\n",
       "\n",
       "    .dataframe thead th {\n",
       "        text-align: right;\n",
       "    }\n",
       "</style>\n",
       "<table border=\"1\" class=\"dataframe\">\n",
       "  <thead>\n",
       "    <tr style=\"text-align: right;\">\n",
       "      <th></th>\n",
       "      <th>(-inf, -0.15)</th>\n",
       "      <th>(-0.15, -0.077)</th>\n",
       "      <th>(-0.077, -0.039)</th>\n",
       "      <th>(-0.039, -0.02)</th>\n",
       "      <th>(-0.02, 0)</th>\n",
       "      <th>(0, 0.02)</th>\n",
       "      <th>(0.02, 0.039)</th>\n",
       "      <th>(0.039, 0.077)</th>\n",
       "      <th>(0.077, 0.15)</th>\n",
       "      <th>(0.15, inf)</th>\n",
       "    </tr>\n",
       "  </thead>\n",
       "  <tbody>\n",
       "    <tr>\n",
       "      <th>count</th>\n",
       "      <td>978.000000</td>\n",
       "      <td>978.000000</td>\n",
       "      <td>978.000000</td>\n",
       "      <td>978.000000</td>\n",
       "      <td>978.0</td>\n",
       "      <td>978.000000</td>\n",
       "      <td>978.000000</td>\n",
       "      <td>978.000000</td>\n",
       "      <td>978.000000</td>\n",
       "      <td>978.000000</td>\n",
       "    </tr>\n",
       "    <tr>\n",
       "      <th>mean</th>\n",
       "      <td>0.072663</td>\n",
       "      <td>0.245938</td>\n",
       "      <td>0.501165</td>\n",
       "      <td>0.682071</td>\n",
       "      <td>1.0</td>\n",
       "      <td>0.902031</td>\n",
       "      <td>0.703510</td>\n",
       "      <td>0.550934</td>\n",
       "      <td>0.291605</td>\n",
       "      <td>0.097752</td>\n",
       "    </tr>\n",
       "    <tr>\n",
       "      <th>std</th>\n",
       "      <td>0.067072</td>\n",
       "      <td>0.123714</td>\n",
       "      <td>0.117906</td>\n",
       "      <td>0.052898</td>\n",
       "      <td>0.0</td>\n",
       "      <td>0.044996</td>\n",
       "      <td>0.039541</td>\n",
       "      <td>0.101291</td>\n",
       "      <td>0.129372</td>\n",
       "      <td>0.086271</td>\n",
       "    </tr>\n",
       "    <tr>\n",
       "      <th>min</th>\n",
       "      <td>0.001921</td>\n",
       "      <td>0.044188</td>\n",
       "      <td>0.199808</td>\n",
       "      <td>0.494717</td>\n",
       "      <td>1.0</td>\n",
       "      <td>0.487152</td>\n",
       "      <td>0.533937</td>\n",
       "      <td>0.266090</td>\n",
       "      <td>0.030740</td>\n",
       "      <td>0.000961</td>\n",
       "    </tr>\n",
       "    <tr>\n",
       "      <th>25%</th>\n",
       "      <td>0.028946</td>\n",
       "      <td>0.153917</td>\n",
       "      <td>0.415730</td>\n",
       "      <td>0.651258</td>\n",
       "      <td>1.0</td>\n",
       "      <td>0.887608</td>\n",
       "      <td>0.682037</td>\n",
       "      <td>0.483378</td>\n",
       "      <td>0.198847</td>\n",
       "      <td>0.036503</td>\n",
       "    </tr>\n",
       "    <tr>\n",
       "      <th>50%</th>\n",
       "      <td>0.050913</td>\n",
       "      <td>0.219981</td>\n",
       "      <td>0.497387</td>\n",
       "      <td>0.691671</td>\n",
       "      <td>1.0</td>\n",
       "      <td>0.912749</td>\n",
       "      <td>0.707973</td>\n",
       "      <td>0.552354</td>\n",
       "      <td>0.271854</td>\n",
       "      <td>0.072019</td>\n",
       "    </tr>\n",
       "    <tr>\n",
       "      <th>75%</th>\n",
       "      <td>0.091319</td>\n",
       "      <td>0.312394</td>\n",
       "      <td>0.584389</td>\n",
       "      <td>0.719500</td>\n",
       "      <td>1.0</td>\n",
       "      <td>0.930836</td>\n",
       "      <td>0.731592</td>\n",
       "      <td>0.626321</td>\n",
       "      <td>0.374107</td>\n",
       "      <td>0.126987</td>\n",
       "    </tr>\n",
       "    <tr>\n",
       "      <th>max</th>\n",
       "      <td>0.480392</td>\n",
       "      <td>0.725490</td>\n",
       "      <td>0.812500</td>\n",
       "      <td>0.815789</td>\n",
       "      <td>1.0</td>\n",
       "      <td>0.964457</td>\n",
       "      <td>0.796610</td>\n",
       "      <td>0.785714</td>\n",
       "      <td>0.696335</td>\n",
       "      <td>0.524510</td>\n",
       "    </tr>\n",
       "  </tbody>\n",
       "</table>\n",
       "</div>"
      ],
      "text/plain": [
       "       (-inf, -0.15)  (-0.15, -0.077)  (-0.077, -0.039)  (-0.039, -0.02)  \\\n",
       "count     978.000000       978.000000        978.000000       978.000000   \n",
       "mean        0.072663         0.245938          0.501165         0.682071   \n",
       "std         0.067072         0.123714          0.117906         0.052898   \n",
       "min         0.001921         0.044188          0.199808         0.494717   \n",
       "25%         0.028946         0.153917          0.415730         0.651258   \n",
       "50%         0.050913         0.219981          0.497387         0.691671   \n",
       "75%         0.091319         0.312394          0.584389         0.719500   \n",
       "max         0.480392         0.725490          0.812500         0.815789   \n",
       "\n",
       "       (-0.02, 0)   (0, 0.02)  (0.02, 0.039)  (0.039, 0.077)  (0.077, 0.15)  \\\n",
       "count       978.0  978.000000     978.000000      978.000000     978.000000   \n",
       "mean          1.0    0.902031       0.703510        0.550934       0.291605   \n",
       "std           0.0    0.044996       0.039541        0.101291       0.129372   \n",
       "min           1.0    0.487152       0.533937        0.266090       0.030740   \n",
       "25%           1.0    0.887608       0.682037        0.483378       0.198847   \n",
       "50%           1.0    0.912749       0.707973        0.552354       0.271854   \n",
       "75%           1.0    0.930836       0.731592        0.626321       0.374107   \n",
       "max           1.0    0.964457       0.796610        0.785714       0.696335   \n",
       "\n",
       "       (0.15, inf)  \n",
       "count   978.000000  \n",
       "mean      0.097752  \n",
       "std       0.086271  \n",
       "min       0.000961  \n",
       "25%       0.036503  \n",
       "50%       0.072019  \n",
       "75%       0.126987  \n",
       "max       0.524510  "
      ]
     },
     "execution_count": 33,
     "metadata": {},
     "output_type": "execute_result"
    }
   ],
   "source": [
    "# distribution of 'proportion of positive class' across stocks\n",
    "# e.g. stocks experienced price growths of >=15% within a 30-day forecast horizon from the weekly closing price\n",
    "# 9.7752% of the time, on average\n",
    "df1.describe()"
   ]
  }
 ],
 "metadata": {
  "kernelspec": {
   "display_name": "Python 3 (ipykernel)",
   "language": "python",
   "name": "python3"
  },
  "language_info": {
   "codemirror_mode": {
    "name": "ipython",
    "version": 3
   },
   "file_extension": ".py",
   "mimetype": "text/x-python",
   "name": "python",
   "nbconvert_exporter": "python",
   "pygments_lexer": "ipython3",
   "version": "3.10.9"
  }
 },
 "nbformat": 4,
 "nbformat_minor": 5
}
