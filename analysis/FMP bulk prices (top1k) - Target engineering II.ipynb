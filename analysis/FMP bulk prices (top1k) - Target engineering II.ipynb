{
 "cells": [
  {
   "cell_type": "markdown",
   "id": "646bc693",
   "metadata": {},
   "source": [
    "# Summary\n",
    "\n",
    "This notebook concatenates the engineered target variables of each stock symbol into one main target dataframe."
   ]
  },
  {
   "cell_type": "markdown",
   "id": "d13f1af5",
   "metadata": {},
   "source": [
    "# Imports and configuration"
   ]
  },
  {
   "cell_type": "code",
   "execution_count": 1,
   "id": "d5c4c524",
   "metadata": {},
   "outputs": [],
   "source": [
    "import pickle\n",
    "import os\n",
    "import glob\n",
    "import numpy as np\n",
    "import pandas as pd\n",
    "from tqdm import tqdm"
   ]
  },
  {
   "cell_type": "code",
   "execution_count": 2,
   "id": "a50b10a7",
   "metadata": {},
   "outputs": [],
   "source": [
    "TARGET_VAR = 'discrete_return_90d_5p'\n",
    "\n",
    "INPUT_PATH = r\"C:\\Users\\mushj\\Downloads\\CURATED FINANCE DATA\\FMP\" + f'/{TARGET_VAR}'\n",
    "OUTPUT_PATH = INPUT_PATH"
   ]
  },
  {
   "cell_type": "code",
   "execution_count": 3,
   "id": "0d290088",
   "metadata": {},
   "outputs": [
    {
     "name": "stdout",
     "output_type": "stream",
     "text": [
      "Number of stock symbols: 978\n",
      "Example path: C:\\Users\\mushj\\Downloads\\CURATED FINANCE DATA\\FMP/discrete_return_90d_5p\\A.csv\n"
     ]
    }
   ],
   "source": [
    "# get paths to all datasets\n",
    "dataset_names = glob.glob(os.path.join(INPUT_PATH, '*.csv'), recursive=False)\n",
    "print(\"Number of stock symbols:\", len(dataset_names))\n",
    "print(\"Example path:\", dataset_names[0])"
   ]
  },
  {
   "cell_type": "code",
   "execution_count": 4,
   "id": "74082690",
   "metadata": {},
   "outputs": [
    {
     "data": {
      "text/plain": [
       "[(-inf, -0.15),\n",
       " (-0.15, -0.077),\n",
       " (-0.077, -0.039),\n",
       " (-0.039, -0.02),\n",
       " (-0.02, 0),\n",
       " (0, 0.02),\n",
       " (0.02, 0.039),\n",
       " (0.039, 0.077),\n",
       " (0.077, 0.15),\n",
       " (0.15, inf)]"
      ]
     },
     "execution_count": 4,
     "metadata": {},
     "output_type": "execute_result"
    }
   ],
   "source": [
    "with open(INPUT_PATH+'/labels', 'rb') as f:\n",
    "    intervals = pickle.load(f)\n",
    "    \n",
    "intervals"
   ]
  },
  {
   "cell_type": "markdown",
   "id": "05a35163",
   "metadata": {},
   "source": [
    "# Combine"
   ]
  },
  {
   "cell_type": "code",
   "execution_count": 5,
   "id": "25e6859c",
   "metadata": {},
   "outputs": [
    {
     "name": "stderr",
     "output_type": "stream",
     "text": [
      "Loading target variable data: 100%|█████████████████████████████████████████████████| 978/978 [00:03<00:00, 321.71it/s]\n"
     ]
    }
   ],
   "source": [
    "# list to store each dataset\n",
    "df_list = []\n",
    "\n",
    "for file in tqdm(dataset_names, desc=\"Loading target variable data\"):\n",
    "    df = pd.read_csv(file)\n",
    "    df_list.append(df)"
   ]
  },
  {
   "cell_type": "code",
   "execution_count": 6,
   "id": "0a712e98",
   "metadata": {},
   "outputs": [],
   "source": [
    "target_df = pd.concat(df_list, axis=0).reset_index(drop=True)"
   ]
  },
  {
   "cell_type": "code",
   "execution_count": 7,
   "id": "ed90873c",
   "metadata": {},
   "outputs": [
    {
     "data": {
      "text/html": [
       "<div>\n",
       "<style scoped>\n",
       "    .dataframe tbody tr th:only-of-type {\n",
       "        vertical-align: middle;\n",
       "    }\n",
       "\n",
       "    .dataframe tbody tr th {\n",
       "        vertical-align: top;\n",
       "    }\n",
       "\n",
       "    .dataframe thead th {\n",
       "        text-align: right;\n",
       "    }\n",
       "</style>\n",
       "<table border=\"1\" class=\"dataframe\">\n",
       "  <thead>\n",
       "    <tr style=\"text-align: right;\">\n",
       "      <th></th>\n",
       "      <th>symbol</th>\n",
       "      <th>week</th>\n",
       "      <th>labels</th>\n",
       "    </tr>\n",
       "  </thead>\n",
       "  <tbody>\n",
       "    <tr>\n",
       "      <th>0</th>\n",
       "      <td>A</td>\n",
       "      <td>2004-12-27</td>\n",
       "      <td>[0 1 1 1 1 1 1 0 0 0]</td>\n",
       "    </tr>\n",
       "    <tr>\n",
       "      <th>1</th>\n",
       "      <td>A</td>\n",
       "      <td>2005-01-03</td>\n",
       "      <td>[0 0 1 1 1 1 1 1 1 0]</td>\n",
       "    </tr>\n",
       "    <tr>\n",
       "      <th>2</th>\n",
       "      <td>A</td>\n",
       "      <td>2005-01-10</td>\n",
       "      <td>[0 0 0 1 1 1 1 1 1 0]</td>\n",
       "    </tr>\n",
       "    <tr>\n",
       "      <th>3</th>\n",
       "      <td>A</td>\n",
       "      <td>2005-01-17</td>\n",
       "      <td>[0 0 1 1 1 1 1 1 1 1]</td>\n",
       "    </tr>\n",
       "    <tr>\n",
       "      <th>4</th>\n",
       "      <td>A</td>\n",
       "      <td>2005-01-24</td>\n",
       "      <td>[0 1 1 1 1 1 1 1 1 0]</td>\n",
       "    </tr>\n",
       "    <tr>\n",
       "      <th>...</th>\n",
       "      <td>...</td>\n",
       "      <td>...</td>\n",
       "      <td>...</td>\n",
       "    </tr>\n",
       "    <tr>\n",
       "      <th>852794</th>\n",
       "      <td>ZTS</td>\n",
       "      <td>2024-12-02</td>\n",
       "      <td>NaN</td>\n",
       "    </tr>\n",
       "    <tr>\n",
       "      <th>852795</th>\n",
       "      <td>ZTS</td>\n",
       "      <td>2024-12-09</td>\n",
       "      <td>NaN</td>\n",
       "    </tr>\n",
       "    <tr>\n",
       "      <th>852796</th>\n",
       "      <td>ZTS</td>\n",
       "      <td>2024-12-16</td>\n",
       "      <td>NaN</td>\n",
       "    </tr>\n",
       "    <tr>\n",
       "      <th>852797</th>\n",
       "      <td>ZTS</td>\n",
       "      <td>2024-12-23</td>\n",
       "      <td>NaN</td>\n",
       "    </tr>\n",
       "    <tr>\n",
       "      <th>852798</th>\n",
       "      <td>ZTS</td>\n",
       "      <td>2024-12-30</td>\n",
       "      <td>NaN</td>\n",
       "    </tr>\n",
       "  </tbody>\n",
       "</table>\n",
       "<p>852799 rows × 3 columns</p>\n",
       "</div>"
      ],
      "text/plain": [
       "       symbol        week                 labels\n",
       "0           A  2004-12-27  [0 1 1 1 1 1 1 0 0 0]\n",
       "1           A  2005-01-03  [0 0 1 1 1 1 1 1 1 0]\n",
       "2           A  2005-01-10  [0 0 0 1 1 1 1 1 1 0]\n",
       "3           A  2005-01-17  [0 0 1 1 1 1 1 1 1 1]\n",
       "4           A  2005-01-24  [0 1 1 1 1 1 1 1 1 0]\n",
       "...       ...         ...                    ...\n",
       "852794    ZTS  2024-12-02                    NaN\n",
       "852795    ZTS  2024-12-09                    NaN\n",
       "852796    ZTS  2024-12-16                    NaN\n",
       "852797    ZTS  2024-12-23                    NaN\n",
       "852798    ZTS  2024-12-30                    NaN\n",
       "\n",
       "[852799 rows x 3 columns]"
      ]
     },
     "execution_count": 7,
     "metadata": {},
     "output_type": "execute_result"
    }
   ],
   "source": [
    "target_df"
   ]
  },
  {
   "cell_type": "code",
   "execution_count": 8,
   "id": "46ad75f5",
   "metadata": {},
   "outputs": [
    {
     "data": {
      "text/plain": [
       "symbol    object\n",
       "week      object\n",
       "labels    object\n",
       "dtype: object"
      ]
     },
     "execution_count": 8,
     "metadata": {},
     "output_type": "execute_result"
    }
   ],
   "source": [
    "target_df.dtypes"
   ]
  },
  {
   "cell_type": "code",
   "execution_count": 9,
   "id": "ddc26864",
   "metadata": {},
   "outputs": [
    {
     "data": {
      "text/plain": [
       "symbol    0.000000\n",
       "week      0.000000\n",
       "labels    0.013762\n",
       "dtype: float64"
      ]
     },
     "execution_count": 9,
     "metadata": {},
     "output_type": "execute_result"
    }
   ],
   "source": [
    "target_df.isna().mean()"
   ]
  },
  {
   "cell_type": "markdown",
   "id": "c8d7b866",
   "metadata": {},
   "source": [
    "# Preprocessing"
   ]
  },
  {
   "cell_type": "code",
   "execution_count": 10,
   "id": "72b8e6d7",
   "metadata": {},
   "outputs": [],
   "source": [
    "# NAs in labels column are due to insufficient data in forecast horizon to generate conclusive labels\n",
    "target_df = target_df.dropna().reset_index(drop=True)"
   ]
  },
  {
   "cell_type": "code",
   "execution_count": 11,
   "id": "1df4da3b",
   "metadata": {},
   "outputs": [
    {
     "data": {
      "text/plain": [
       "0    [0, 1, 1, 1, 1, 1, 1, 0, 0, 0]\n",
       "1    [0, 0, 1, 1, 1, 1, 1, 1, 1, 0]\n",
       "2    [0, 0, 0, 1, 1, 1, 1, 1, 1, 0]\n",
       "3    [0, 0, 1, 1, 1, 1, 1, 1, 1, 1]\n",
       "4    [0, 1, 1, 1, 1, 1, 1, 1, 1, 0]\n",
       "Name: labels, dtype: object"
      ]
     },
     "execution_count": 11,
     "metadata": {},
     "output_type": "execute_result"
    }
   ],
   "source": [
    "# remove braces and split by space\n",
    "labels_df = target_df['labels'].apply(lambda x: x.strip('[]').split())\n",
    "labels_df.head()"
   ]
  },
  {
   "cell_type": "code",
   "execution_count": 12,
   "id": "ad7b7658",
   "metadata": {},
   "outputs": [
    {
     "data": {
      "text/html": [
       "<div>\n",
       "<style scoped>\n",
       "    .dataframe tbody tr th:only-of-type {\n",
       "        vertical-align: middle;\n",
       "    }\n",
       "\n",
       "    .dataframe tbody tr th {\n",
       "        vertical-align: top;\n",
       "    }\n",
       "\n",
       "    .dataframe thead th {\n",
       "        text-align: right;\n",
       "    }\n",
       "</style>\n",
       "<table border=\"1\" class=\"dataframe\">\n",
       "  <thead>\n",
       "    <tr style=\"text-align: right;\">\n",
       "      <th></th>\n",
       "      <th>(-inf, -0.15)</th>\n",
       "      <th>(-0.15, -0.077)</th>\n",
       "      <th>(-0.077, -0.039)</th>\n",
       "      <th>(-0.039, -0.02)</th>\n",
       "      <th>(-0.02, 0)</th>\n",
       "      <th>(0, 0.02)</th>\n",
       "      <th>(0.02, 0.039)</th>\n",
       "      <th>(0.039, 0.077)</th>\n",
       "      <th>(0.077, 0.15)</th>\n",
       "      <th>(0.15, inf)</th>\n",
       "    </tr>\n",
       "  </thead>\n",
       "  <tbody>\n",
       "    <tr>\n",
       "      <th>0</th>\n",
       "      <td>0</td>\n",
       "      <td>1</td>\n",
       "      <td>1</td>\n",
       "      <td>1</td>\n",
       "      <td>1</td>\n",
       "      <td>1</td>\n",
       "      <td>1</td>\n",
       "      <td>0</td>\n",
       "      <td>0</td>\n",
       "      <td>0</td>\n",
       "    </tr>\n",
       "    <tr>\n",
       "      <th>1</th>\n",
       "      <td>0</td>\n",
       "      <td>0</td>\n",
       "      <td>1</td>\n",
       "      <td>1</td>\n",
       "      <td>1</td>\n",
       "      <td>1</td>\n",
       "      <td>1</td>\n",
       "      <td>1</td>\n",
       "      <td>1</td>\n",
       "      <td>0</td>\n",
       "    </tr>\n",
       "    <tr>\n",
       "      <th>2</th>\n",
       "      <td>0</td>\n",
       "      <td>0</td>\n",
       "      <td>0</td>\n",
       "      <td>1</td>\n",
       "      <td>1</td>\n",
       "      <td>1</td>\n",
       "      <td>1</td>\n",
       "      <td>1</td>\n",
       "      <td>1</td>\n",
       "      <td>0</td>\n",
       "    </tr>\n",
       "    <tr>\n",
       "      <th>3</th>\n",
       "      <td>0</td>\n",
       "      <td>0</td>\n",
       "      <td>1</td>\n",
       "      <td>1</td>\n",
       "      <td>1</td>\n",
       "      <td>1</td>\n",
       "      <td>1</td>\n",
       "      <td>1</td>\n",
       "      <td>1</td>\n",
       "      <td>1</td>\n",
       "    </tr>\n",
       "    <tr>\n",
       "      <th>4</th>\n",
       "      <td>0</td>\n",
       "      <td>1</td>\n",
       "      <td>1</td>\n",
       "      <td>1</td>\n",
       "      <td>1</td>\n",
       "      <td>1</td>\n",
       "      <td>1</td>\n",
       "      <td>1</td>\n",
       "      <td>1</td>\n",
       "      <td>0</td>\n",
       "    </tr>\n",
       "  </tbody>\n",
       "</table>\n",
       "</div>"
      ],
      "text/plain": [
       "   (-inf, -0.15)  (-0.15, -0.077)  (-0.077, -0.039)  (-0.039, -0.02)  \\\n",
       "0              0                1                 1                1   \n",
       "1              0                0                 1                1   \n",
       "2              0                0                 0                1   \n",
       "3              0                0                 1                1   \n",
       "4              0                1                 1                1   \n",
       "\n",
       "   (-0.02, 0)  (0, 0.02)  (0.02, 0.039)  (0.039, 0.077)  (0.077, 0.15)  \\\n",
       "0           1          1              1               0              0   \n",
       "1           1          1              1               1              1   \n",
       "2           1          1              1               1              1   \n",
       "3           1          1              1               1              1   \n",
       "4           1          1              1               1              1   \n",
       "\n",
       "   (0.15, inf)  \n",
       "0            0  \n",
       "1            0  \n",
       "2            0  \n",
       "3            1  \n",
       "4            0  "
      ]
     },
     "execution_count": 12,
     "metadata": {},
     "output_type": "execute_result"
    }
   ],
   "source": [
    "# expand target array into columns\n",
    "labels_df = pd.DataFrame(labels_df.to_list())\n",
    "labels_df = labels_df.astype(int)\n",
    "labels_df.columns = intervals\n",
    "labels_df.head()"
   ]
  },
  {
   "cell_type": "code",
   "execution_count": 13,
   "id": "c885ab5b",
   "metadata": {},
   "outputs": [
    {
     "data": {
      "text/plain": [
       "(-inf, -0.15)       0.0\n",
       "(-0.15, -0.077)     0.0\n",
       "(-0.077, -0.039)    0.0\n",
       "(-0.039, -0.02)     0.0\n",
       "(-0.02, 0)          0.0\n",
       "(0, 0.02)           0.0\n",
       "(0.02, 0.039)       0.0\n",
       "(0.039, 0.077)      0.0\n",
       "(0.077, 0.15)       0.0\n",
       "(0.15, inf)         0.0\n",
       "dtype: float64"
      ]
     },
     "execution_count": 13,
     "metadata": {},
     "output_type": "execute_result"
    }
   ],
   "source": [
    "labels_df.isna().mean()"
   ]
  },
  {
   "cell_type": "code",
   "execution_count": 14,
   "id": "50377e0a",
   "metadata": {},
   "outputs": [
    {
     "name": "stdout",
     "output_type": "stream",
     "text": [
      "Left indexes match right indexes: True\n"
     ]
    }
   ],
   "source": [
    "# concatenate with symbols and dates data\n",
    "print(\"Left indexes match right indexes:\", all(labels_df.index == target_df.index))\n",
    "combined_df = pd.concat([target_df, labels_df], axis=1)"
   ]
  },
  {
   "cell_type": "code",
   "execution_count": 15,
   "id": "574dfa7e",
   "metadata": {},
   "outputs": [
    {
     "data": {
      "text/plain": [
       "(841063, 13)"
      ]
     },
     "execution_count": 15,
     "metadata": {},
     "output_type": "execute_result"
    }
   ],
   "source": [
    "combined_df.shape"
   ]
  },
  {
   "cell_type": "code",
   "execution_count": 16,
   "id": "a1ebf17f",
   "metadata": {},
   "outputs": [
    {
     "data": {
      "text/plain": [
       "symbol              object\n",
       "week                object\n",
       "labels              object\n",
       "(-inf, -0.15)        int32\n",
       "(-0.15, -0.077)      int32\n",
       "(-0.077, -0.039)     int32\n",
       "(-0.039, -0.02)      int32\n",
       "(-0.02, 0)           int32\n",
       "(0, 0.02)            int32\n",
       "(0.02, 0.039)        int32\n",
       "(0.039, 0.077)       int32\n",
       "(0.077, 0.15)        int32\n",
       "(0.15, inf)          int32\n",
       "dtype: object"
      ]
     },
     "execution_count": 16,
     "metadata": {},
     "output_type": "execute_result"
    }
   ],
   "source": [
    "combined_df.dtypes"
   ]
  },
  {
   "cell_type": "code",
   "execution_count": 17,
   "id": "3935b8c7",
   "metadata": {},
   "outputs": [
    {
     "name": "stdout",
     "output_type": "stream",
     "text": [
      "Created C:\\Users\\mushj\\Downloads\\CURATED FINANCE DATA\\FMP/discrete_return_90d_5p/combined\n"
     ]
    }
   ],
   "source": [
    "directory = OUTPUT_PATH+'/combined'\n",
    "if not os.path.exists(directory):\n",
    "    os.makedirs(directory)\n",
    "    print('Created', directory)\n",
    "else:\n",
    "    print('Directory already exists:', directory)\n",
    "\n",
    "combined_df.to_csv(directory+'/combined.csv', index=False)"
   ]
  }
 ],
 "metadata": {
  "kernelspec": {
   "display_name": "Python 3 (ipykernel)",
   "language": "python",
   "name": "python3"
  },
  "language_info": {
   "codemirror_mode": {
    "name": "ipython",
    "version": 3
   },
   "file_extension": ".py",
   "mimetype": "text/x-python",
   "name": "python",
   "nbconvert_exporter": "python",
   "pygments_lexer": "ipython3",
   "version": "3.10.9"
  }
 },
 "nbformat": 4,
 "nbformat_minor": 5
}
