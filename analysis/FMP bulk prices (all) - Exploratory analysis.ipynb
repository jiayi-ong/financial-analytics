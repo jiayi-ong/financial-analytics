{
 "cells": [
  {
   "cell_type": "markdown",
   "id": "98953054",
   "metadata": {},
   "source": [
    "# Summary \n",
    "\n",
    "This notebook explores the summary statistics of the entire consolidated FMP daily prices dataset."
   ]
  },
  {
   "cell_type": "markdown",
   "id": "59751595",
   "metadata": {},
   "source": [
    "# Imports"
   ]
  },
  {
   "cell_type": "code",
   "execution_count": 1,
   "id": "2b8300ac",
   "metadata": {},
   "outputs": [],
   "source": [
    "import pandas as pd"
   ]
  },
  {
   "cell_type": "code",
   "execution_count": 2,
   "id": "580a53cd",
   "metadata": {},
   "outputs": [],
   "source": [
    "INPUT_PATH = r\"C:\\Users\\mushj\\Downloads\\PROCESSED FINANCE DATA\\FMP\\FMP_daily_prices.csv\""
   ]
  },
  {
   "cell_type": "code",
   "execution_count": 3,
   "id": "772af5a2",
   "metadata": {},
   "outputs": [
    {
     "name": "stdout",
     "output_type": "stream",
     "text": [
      "CPU times: total: 1min 20s\n",
      "Wall time: 2min 13s\n"
     ]
    }
   ],
   "source": [
    "%%time\n",
    "df = pd.read_csv(INPUT_PATH)"
   ]
  },
  {
   "cell_type": "markdown",
   "id": "afe09103",
   "metadata": {},
   "source": [
    "# Summary"
   ]
  },
  {
   "cell_type": "code",
   "execution_count": 4,
   "id": "fd416b0c",
   "metadata": {},
   "outputs": [
    {
     "data": {
      "text/html": [
       "<div>\n",
       "<style scoped>\n",
       "    .dataframe tbody tr th:only-of-type {\n",
       "        vertical-align: middle;\n",
       "    }\n",
       "\n",
       "    .dataframe tbody tr th {\n",
       "        vertical-align: top;\n",
       "    }\n",
       "\n",
       "    .dataframe thead th {\n",
       "        text-align: right;\n",
       "    }\n",
       "</style>\n",
       "<table border=\"1\" class=\"dataframe\">\n",
       "  <thead>\n",
       "    <tr style=\"text-align: right;\">\n",
       "      <th></th>\n",
       "      <th>symbol</th>\n",
       "      <th>date</th>\n",
       "      <th>close</th>\n",
       "      <th>volume</th>\n",
       "    </tr>\n",
       "  </thead>\n",
       "  <tbody>\n",
       "    <tr>\n",
       "      <th>0</th>\n",
       "      <td>.ALPHAUSD</td>\n",
       "      <td>2022-03-16</td>\n",
       "      <td>170.57726</td>\n",
       "      <td>75733.0</td>\n",
       "    </tr>\n",
       "    <tr>\n",
       "      <th>1</th>\n",
       "      <td>.ALPHAUSD</td>\n",
       "      <td>2022-03-17</td>\n",
       "      <td>174.45331</td>\n",
       "      <td>8536.0</td>\n",
       "    </tr>\n",
       "    <tr>\n",
       "      <th>2</th>\n",
       "      <td>.ALPHAUSD</td>\n",
       "      <td>2022-03-18</td>\n",
       "      <td>157.09172</td>\n",
       "      <td>12569.0</td>\n",
       "    </tr>\n",
       "    <tr>\n",
       "      <th>3</th>\n",
       "      <td>.ALPHAUSD</td>\n",
       "      <td>2022-03-21</td>\n",
       "      <td>152.50084</td>\n",
       "      <td>1414.0</td>\n",
       "    </tr>\n",
       "    <tr>\n",
       "      <th>4</th>\n",
       "      <td>.ALPHAUSD</td>\n",
       "      <td>2022-03-22</td>\n",
       "      <td>154.08307</td>\n",
       "      <td>15990.0</td>\n",
       "    </tr>\n",
       "  </tbody>\n",
       "</table>\n",
       "</div>"
      ],
      "text/plain": [
       "      symbol        date      close   volume\n",
       "0  .ALPHAUSD  2022-03-16  170.57726  75733.0\n",
       "1  .ALPHAUSD  2022-03-17  174.45331   8536.0\n",
       "2  .ALPHAUSD  2022-03-18  157.09172  12569.0\n",
       "3  .ALPHAUSD  2022-03-21  152.50084   1414.0\n",
       "4  .ALPHAUSD  2022-03-22  154.08307  15990.0"
      ]
     },
     "execution_count": 4,
     "metadata": {},
     "output_type": "execute_result"
    }
   ],
   "source": [
    "df.head()"
   ]
  },
  {
   "cell_type": "code",
   "execution_count": 5,
   "id": "2427dd67",
   "metadata": {},
   "outputs": [
    {
     "name": "stdout",
     "output_type": "stream",
     "text": [
      "Number of symbols: 89366\n",
      "Number of dates: 5364\n",
      "CPU times: total: 15.7 s\n",
      "Wall time: 18.5 s\n"
     ]
    }
   ],
   "source": [
    "%%time\n",
    "print(\"Number of symbols:\", df.symbol.nunique())\n",
    "print(\"Number of dates:\", df.date.nunique())"
   ]
  },
  {
   "cell_type": "code",
   "execution_count": 6,
   "id": "ebc384b2",
   "metadata": {},
   "outputs": [
    {
     "name": "stdout",
     "output_type": "stream",
     "text": [
      "CPU times: total: 13.3 s\n",
      "Wall time: 21 s\n"
     ]
    },
    {
     "data": {
      "text/plain": [
       "symbol    2.591257e-06\n",
       "date      0.000000e+00\n",
       "close     0.000000e+00\n",
       "volume    2.745152e-07\n",
       "dtype: float64"
      ]
     },
     "execution_count": 6,
     "metadata": {},
     "output_type": "execute_result"
    }
   ],
   "source": [
    "%%time\n",
    "# summary of NAs\n",
    "df.isna().mean()"
   ]
  },
  {
   "cell_type": "markdown",
   "id": "7d52fa31",
   "metadata": {},
   "source": [
    "# Symbol-level metrics"
   ]
  },
  {
   "cell_type": "code",
   "execution_count": 8,
   "id": "ef466b24",
   "metadata": {},
   "outputs": [
    {
     "name": "stdout",
     "output_type": "stream",
     "text": [
      "CPU times: total: 57.3 s\n",
      "Wall time: 1min 38s\n"
     ]
    }
   ],
   "source": [
    "%%time\n",
    "# NAs by symbol\n",
    "na_summary = df.groupby('symbol').agg(lambda x: x.isna().mean())"
   ]
  },
  {
   "cell_type": "code",
   "execution_count": 10,
   "id": "88d25dde",
   "metadata": {},
   "outputs": [
    {
     "data": {
      "text/html": [
       "<div>\n",
       "<style scoped>\n",
       "    .dataframe tbody tr th:only-of-type {\n",
       "        vertical-align: middle;\n",
       "    }\n",
       "\n",
       "    .dataframe tbody tr th {\n",
       "        vertical-align: top;\n",
       "    }\n",
       "\n",
       "    .dataframe thead th {\n",
       "        text-align: right;\n",
       "    }\n",
       "</style>\n",
       "<table border=\"1\" class=\"dataframe\">\n",
       "  <thead>\n",
       "    <tr style=\"text-align: right;\">\n",
       "      <th></th>\n",
       "      <th>date</th>\n",
       "      <th>close</th>\n",
       "      <th>volume</th>\n",
       "    </tr>\n",
       "    <tr>\n",
       "      <th>symbol</th>\n",
       "      <th></th>\n",
       "      <th></th>\n",
       "      <th></th>\n",
       "    </tr>\n",
       "  </thead>\n",
       "  <tbody>\n",
       "    <tr>\n",
       "      <th>AD.MI</th>\n",
       "      <td>0.0</td>\n",
       "      <td>0.0</td>\n",
       "      <td>0.019242</td>\n",
       "    </tr>\n",
       "  </tbody>\n",
       "</table>\n",
       "</div>"
      ],
      "text/plain": [
       "        date  close    volume\n",
       "symbol                       \n",
       "AD.MI    0.0    0.0  0.019242"
      ]
     },
     "execution_count": 10,
     "metadata": {},
     "output_type": "execute_result"
    }
   ],
   "source": [
    "# show symbols with NAs\n",
    "na_summary.query(\"(date > 0) | (close > 0) | (volume > 0)\")"
   ]
  },
  {
   "cell_type": "code",
   "execution_count": 15,
   "id": "00982d29",
   "metadata": {},
   "outputs": [
    {
     "name": "stdout",
     "output_type": "stream",
     "text": [
      "CPU times: total: 34.5 s\n",
      "Wall time: 54 s\n"
     ]
    }
   ],
   "source": [
    "%%time\n",
    "# compute date range and counts by symbol\n",
    "len_summary = (\n",
    "    df.groupby('symbol')\n",
    "    .agg({'date': [lambda x: x.iloc[0], lambda x: x.iloc[-1], len]})\n",
    ")"
   ]
  },
  {
   "cell_type": "code",
   "execution_count": 19,
   "id": "8fe9f86c",
   "metadata": {},
   "outputs": [
    {
     "name": "stdout",
     "output_type": "stream",
     "text": [
      "Earliest start date: 2005-01-03\n",
      "Latest start date: 2024-12-26\n",
      "Earliest end date: 2005-09-09\n",
      "Latest end date: 2024-12-31\n"
     ]
    }
   ],
   "source": [
    "print(\"Earliest start date:\", len_summary.iloc[:,0].min())\n",
    "print(\"Latest start date:\", len_summary.iloc[:,0].max())\n",
    "print(\"Earliest end date:\", len_summary.iloc[:,1].min())\n",
    "print(\"Latest end date:\", len_summary.iloc[:,1].max())"
   ]
  },
  {
   "cell_type": "code",
   "execution_count": 21,
   "id": "670640eb",
   "metadata": {},
   "outputs": [
    {
     "data": {
      "text/plain": [
       "count    89366.000000\n",
       "mean      2690.320905\n",
       "std       1764.895878\n",
       "min          1.000000\n",
       "25%        978.000000\n",
       "50%       2535.000000\n",
       "75%       4615.000000\n",
       "max       5217.000000\n",
       "Name: (date, len), dtype: float64"
      ]
     },
     "execution_count": 21,
     "metadata": {},
     "output_type": "execute_result"
    }
   ],
   "source": [
    "len_summary[('date', 'len')].describe()"
   ]
  }
 ],
 "metadata": {
  "kernelspec": {
   "display_name": "Python 3 (ipykernel)",
   "language": "python",
   "name": "python3"
  },
  "language_info": {
   "codemirror_mode": {
    "name": "ipython",
    "version": 3
   },
   "file_extension": ".py",
   "mimetype": "text/x-python",
   "name": "python",
   "nbconvert_exporter": "python",
   "pygments_lexer": "ipython3",
   "version": "3.10.9"
  }
 },
 "nbformat": 4,
 "nbformat_minor": 5
}
