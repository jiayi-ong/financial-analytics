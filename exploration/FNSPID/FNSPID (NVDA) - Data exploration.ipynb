{
 "cells": [
  {
   "cell_type": "markdown",
   "id": "d65e3056",
   "metadata": {},
   "source": [
    "This notebook explores the data related to NVIDIA within the FNSPID dataset."
   ]
  },
  {
   "cell_type": "markdown",
   "id": "e006b4df",
   "metadata": {},
   "source": [
    "# Imports and configurations"
   ]
  },
  {
   "cell_type": "code",
   "execution_count": 1,
   "id": "eeb60f8c",
   "metadata": {},
   "outputs": [],
   "source": [
    "import pandas as pd\n",
    "import numpy as np\n",
    "import matplotlib.pyplot as plt"
   ]
  },
  {
   "cell_type": "code",
   "execution_count": 2,
   "id": "1a5f5ecc",
   "metadata": {},
   "outputs": [],
   "source": [
    "df = pd.read_csv(r\"C:\\Users\\mushj\\Downloads\\RAW FINANCE DATA\\FNSPID_NVDA.csv\")"
   ]
  },
  {
   "cell_type": "markdown",
   "id": "9d8ea51d",
   "metadata": {},
   "source": [
    "# Format data"
   ]
  },
  {
   "cell_type": "code",
   "execution_count": 3,
   "id": "67021209",
   "metadata": {},
   "outputs": [
    {
     "name": "stderr",
     "output_type": "stream",
     "text": [
      "C:\\Users\\mushj\\AppData\\Local\\Temp\\ipykernel_10876\\3982233738.py:2: UserWarning: Converting to PeriodArray/Index representation will drop timezone information.\n",
      "  df['day'] = df['Date'].dt.to_period('D').dt.to_timestamp()\n"
     ]
    }
   ],
   "source": [
    "df['Date'] = pd.to_datetime(df['Date'])\n",
    "df['day'] = df['Date'].dt.to_period('D').dt.to_timestamp()"
   ]
  },
  {
   "cell_type": "markdown",
   "id": "04705a8c",
   "metadata": {},
   "source": [
    "# Check missing values"
   ]
  },
  {
   "cell_type": "code",
   "execution_count": 4,
   "id": "bb76a068",
   "metadata": {},
   "outputs": [
    {
     "data": {
      "text/plain": [
       "Date                0.000000\n",
       "Article_title       0.000000\n",
       "Stock_symbol        0.000000\n",
       "Url                 0.000000\n",
       "Publisher           0.734783\n",
       "Author              1.000000\n",
       "Article             0.265217\n",
       "Lsa_summary         0.265217\n",
       "Luhn_summary        0.265217\n",
       "Textrank_summary    0.265217\n",
       "Lexrank_summary     0.265217\n",
       "day                 0.000000\n",
       "dtype: float64"
      ]
     },
     "execution_count": 4,
     "metadata": {},
     "output_type": "execute_result"
    }
   ],
   "source": [
    "df.isna().mean()"
   ]
  },
  {
   "cell_type": "code",
   "execution_count": 5,
   "id": "1d00b2aa",
   "metadata": {},
   "outputs": [
    {
     "data": {
      "text/html": [
       "<div>\n",
       "<style scoped>\n",
       "    .dataframe tbody tr th:only-of-type {\n",
       "        vertical-align: middle;\n",
       "    }\n",
       "\n",
       "    .dataframe tbody tr th {\n",
       "        vertical-align: top;\n",
       "    }\n",
       "\n",
       "    .dataframe thead th {\n",
       "        text-align: right;\n",
       "    }\n",
       "</style>\n",
       "<table border=\"1\" class=\"dataframe\">\n",
       "  <thead>\n",
       "    <tr style=\"text-align: right;\">\n",
       "      <th></th>\n",
       "      <th>Article_title</th>\n",
       "    </tr>\n",
       "  </thead>\n",
       "  <tbody>\n",
       "    <tr>\n",
       "      <th>count</th>\n",
       "      <td>2008.000000</td>\n",
       "    </tr>\n",
       "    <tr>\n",
       "      <th>mean</th>\n",
       "      <td>5.907371</td>\n",
       "    </tr>\n",
       "    <tr>\n",
       "      <th>std</th>\n",
       "      <td>8.290165</td>\n",
       "    </tr>\n",
       "    <tr>\n",
       "      <th>min</th>\n",
       "      <td>1.000000</td>\n",
       "    </tr>\n",
       "    <tr>\n",
       "      <th>25%</th>\n",
       "      <td>1.000000</td>\n",
       "    </tr>\n",
       "    <tr>\n",
       "      <th>50%</th>\n",
       "      <td>3.000000</td>\n",
       "    </tr>\n",
       "    <tr>\n",
       "      <th>75%</th>\n",
       "      <td>7.000000</td>\n",
       "    </tr>\n",
       "    <tr>\n",
       "      <th>max</th>\n",
       "      <td>99.000000</td>\n",
       "    </tr>\n",
       "  </tbody>\n",
       "</table>\n",
       "</div>"
      ],
      "text/plain": [
       "       Article_title\n",
       "count    2008.000000\n",
       "mean        5.907371\n",
       "std         8.290165\n",
       "min         1.000000\n",
       "25%         1.000000\n",
       "50%         3.000000\n",
       "75%         7.000000\n",
       "max        99.000000"
      ]
     },
     "execution_count": 5,
     "metadata": {},
     "output_type": "execute_result"
    }
   ],
   "source": [
    "daily_titles = df.groupby('day').agg({'Article_title': lambda x: (~x.isna()).sum()})\n",
    "daily_titles = daily_titles.reset_index()\n",
    "daily_titles.describe()"
   ]
  },
  {
   "cell_type": "code",
   "execution_count": 6,
   "id": "734c0063",
   "metadata": {},
   "outputs": [
    {
     "data": {
      "text/html": [
       "<div>\n",
       "<style scoped>\n",
       "    .dataframe tbody tr th:only-of-type {\n",
       "        vertical-align: middle;\n",
       "    }\n",
       "\n",
       "    .dataframe tbody tr th {\n",
       "        vertical-align: top;\n",
       "    }\n",
       "\n",
       "    .dataframe thead th {\n",
       "        text-align: right;\n",
       "    }\n",
       "</style>\n",
       "<table border=\"1\" class=\"dataframe\">\n",
       "  <thead>\n",
       "    <tr style=\"text-align: right;\">\n",
       "      <th></th>\n",
       "      <th>Article</th>\n",
       "    </tr>\n",
       "  </thead>\n",
       "  <tbody>\n",
       "    <tr>\n",
       "      <th>count</th>\n",
       "      <td>2008.000000</td>\n",
       "    </tr>\n",
       "    <tr>\n",
       "      <th>mean</th>\n",
       "      <td>4.340637</td>\n",
       "    </tr>\n",
       "    <tr>\n",
       "      <th>std</th>\n",
       "      <td>8.652714</td>\n",
       "    </tr>\n",
       "    <tr>\n",
       "      <th>min</th>\n",
       "      <td>0.000000</td>\n",
       "    </tr>\n",
       "    <tr>\n",
       "      <th>25%</th>\n",
       "      <td>0.000000</td>\n",
       "    </tr>\n",
       "    <tr>\n",
       "      <th>50%</th>\n",
       "      <td>0.000000</td>\n",
       "    </tr>\n",
       "    <tr>\n",
       "      <th>75%</th>\n",
       "      <td>6.000000</td>\n",
       "    </tr>\n",
       "    <tr>\n",
       "      <th>max</th>\n",
       "      <td>99.000000</td>\n",
       "    </tr>\n",
       "  </tbody>\n",
       "</table>\n",
       "</div>"
      ],
      "text/plain": [
       "           Article\n",
       "count  2008.000000\n",
       "mean      4.340637\n",
       "std       8.652714\n",
       "min       0.000000\n",
       "25%       0.000000\n",
       "50%       0.000000\n",
       "75%       6.000000\n",
       "max      99.000000"
      ]
     },
     "execution_count": 6,
     "metadata": {},
     "output_type": "execute_result"
    }
   ],
   "source": [
    "daily_articles = df.groupby('day').agg({'Article': lambda x: (~x.isna()).sum()})\n",
    "daily_articles = daily_articles.reset_index()\n",
    "daily_articles.describe()"
   ]
  },
  {
   "cell_type": "code",
   "execution_count": 7,
   "id": "f7096214",
   "metadata": {
    "scrolled": true
   },
   "outputs": [
    {
     "name": "stdout",
     "output_type": "stream",
     "text": [
      "Full range (days): 4671\n",
      "Days with article titles: 2008 (42.99%)\n",
      "Days with article body: 811 (17.36%)\n"
     ]
    }
   ],
   "source": [
    "# missing values in the context of the full date range\n",
    "max_span_days = (df['day'].max() - df['day'].min()).days\n",
    "n1 = df.day.nunique()\n",
    "n2 = df.dropna(subset=['Article']).day.nunique()\n",
    "\n",
    "print(\"Full range (days):\", max_span_days)\n",
    "print(\"Days with article titles:\", n1, f\"({np.round(n1/max_span_days*100, 2)}%)\")\n",
    "print(\"Days with article body:\", n2, f\"({np.round(n2/max_span_days*100, 2)}%)\")"
   ]
  },
  {
   "cell_type": "markdown",
   "id": "ab274aa2",
   "metadata": {},
   "source": [
    "# Missing values distribution"
   ]
  },
  {
   "cell_type": "code",
   "execution_count": 8,
   "id": "019d81d5",
   "metadata": {},
   "outputs": [
    {
     "data": {
      "text/plain": [
       "4671"
      ]
     },
     "execution_count": 8,
     "metadata": {},
     "output_type": "execute_result"
    }
   ],
   "source": [
    "# create DataFrame of dates that span the full date range\n",
    "all_dates = pd.date_range(start=df['day'].min(), freq='D', periods=max_span_days)\n",
    "all_dates_df = pd.DataFrame(all_dates, columns=['day'])\n",
    "len(all_dates)"
   ]
  },
  {
   "cell_type": "code",
   "execution_count": 9,
   "id": "271118f1",
   "metadata": {},
   "outputs": [],
   "source": [
    "# merge daily counts to all dates\n",
    "counts_df = (\n",
    "    all_dates_df\n",
    "    .merge(daily_titles, on='day', how='left')\n",
    "    .merge(daily_articles, on='day', how='left')\n",
    "    .fillna(0)\n",
    ")"
   ]
  },
  {
   "cell_type": "code",
   "execution_count": 10,
   "id": "75834054",
   "metadata": {},
   "outputs": [
    {
     "data": {
      "image/png": "[encoded data removed]",
      "text/plain": [
       "<Figure size 640x480 with 1 Axes>"
      ]
     },
     "metadata": {},
     "output_type": "display_data"
    }
   ],
   "source": [
    "# gap during 'COVID period'\n",
    "plt.plot(counts_df.day, counts_df.Article_title);"
   ]
  },
  {
   "cell_type": "code",
   "execution_count": 11,
   "id": "2390b3b2",
   "metadata": {},
   "outputs": [
    {
     "data": {
      "image/png": "[encoded data removed]",
      "text/plain": [
       "<Figure size 640x480 with 1 Axes>"
      ]
     },
     "metadata": {},
     "output_type": "display_data"
    }
   ],
   "source": [
    "# no articles until end of 2021\n",
    "plt.plot(counts_df.day, counts_df.Article);"
   ]
  },
  {
   "cell_type": "code",
   "execution_count": 12,
   "id": "96b0ba85",
   "metadata": {},
   "outputs": [
    {
     "data": {
      "image/png": "[encoded data removed]",
      "text/plain": [
       "<Figure size 640x480 with 1 Axes>"
      ]
     },
     "metadata": {},
     "output_type": "display_data"
    }
   ],
   "source": [
    "# ploting article counts after date\n",
    "plot_df = counts_df[counts_df['day'] >= '2021-09-02']\n",
    "plt.plot(plot_df.day, plot_df.Article);"
   ]
  },
  {
   "cell_type": "code",
   "execution_count": 13,
   "id": "a55e3226",
   "metadata": {},
   "outputs": [
    {
     "data": {
      "text/plain": [
       "835"
      ]
     },
     "execution_count": 13,
     "metadata": {},
     "output_type": "execute_result"
    }
   ],
   "source": [
    "plot_df.day.nunique()"
   ]
  },
  {
   "cell_type": "markdown",
   "id": "7c357ebd",
   "metadata": {},
   "source": [
    "# Titles"
   ]
  },
  {
   "cell_type": "code",
   "execution_count": 14,
   "id": "7f48f844",
   "metadata": {},
   "outputs": [],
   "source": [
    "titles = df['Article_title'].dropna()"
   ]
  },
  {
   "cell_type": "code",
   "execution_count": 15,
   "id": "bbb97fc2",
   "metadata": {},
   "outputs": [
    {
     "name": "stdout",
     "output_type": "stream",
     "text": [
      "2 Potential AI Stock-Split Stocks to Keep an Eye On in the New Year\n",
      "Can the 'Magnificent Seven' Continue to Lead the Market Higher in 2024?\n",
      "Nvidia and AMD's Artificial Intelligence (AI) Battle Is Heating Up\n",
      "2 Top-Rated Tech Stocks to Buy for 2024 Upside\n",
      "Some Potential 2024 Winners Reside in QQQ, QQQM\n",
      "4 Must-Buy Stocks to Benefit From AI Spending Boom in 2024\n",
      "Alphabet (GOOGL) Boosts Google Cloud Offerings With Gemini Pro\n",
      "5 Crypto-Centric Stocks to Buy for Stellar Returns in 2024\n",
      "The Fed Pivot Arrives: The Magnificent Seven Should Benefit\n",
      "Tech hedge funds soar, piggybacking on Nasdaq rally\n",
      "3 Stocks You Can Confidently Buy After a Market Downturn\n",
      "Should Vanguard S&P 500 Growth ETF (VOOG) Be on Your Investing Radar?\n",
      "Nvidia Stock (NASDAQ:NVDA) Is Up 235% YTD; What Lies Ahead in 2024?\n",
      "3 Stock-Split Stocks With 51% to 128% Upside in 2024, According to Select Wall Street Analysts\n",
      "The Zacks Analyst Blog Highlights Meta Platforms, NVIDIA, Intel, ServiceNow and CrowdStrike\n",
      "3 Best Stocks to Buy Now, 12/18/2023, According to Top Analysts \n",
      "1 Artificial Intelligence (AI) Growth Stock That Created Many Millionaires, and Will Continue to Make More\n",
      "Guru Fundamental Report for NVDA\n",
      "5 Things to Know About Nvidia Stock\n",
      "Will Nvidia Be Worth More Than Apple by 2030?\n"
     ]
    }
   ],
   "source": [
    "# show top 20 titles\n",
    "for i in titles.iloc[:20]:\n",
    "    print(i)"
   ]
  },
  {
   "cell_type": "code",
   "execution_count": 16,
   "id": "798e9780",
   "metadata": {},
   "outputs": [
    {
     "data": {
      "text/plain": [
       "count    11862.000000\n",
       "mean        64.121733\n",
       "std         29.940117\n",
       "min         15.000000\n",
       "25%         48.000000\n",
       "50%         59.000000\n",
       "75%         72.000000\n",
       "max        382.000000\n",
       "Name: Article_title, dtype: float64"
      ]
     },
     "execution_count": 16,
     "metadata": {},
     "output_type": "execute_result"
    }
   ],
   "source": [
    "# summarize title lengths\n",
    "titles.apply(len).describe()"
   ]
  },
  {
   "cell_type": "markdown",
   "id": "6c6f8072",
   "metadata": {},
   "source": [
    "# Articles"
   ]
  },
  {
   "cell_type": "code",
   "execution_count": 17,
   "id": "9e9c2838",
   "metadata": {},
   "outputs": [],
   "source": [
    "articles = df['Article'].dropna()"
   ]
  },
  {
   "cell_type": "code",
   "execution_count": 18,
   "id": "72e2bdcc",
   "metadata": {},
   "outputs": [
    {
     "name": "stdout",
     "output_type": "stream",
     "text": [
      "2023 has been the year of artificial intelligence (AI) stocks. The launch of OpenAI's ChatGPT in late 2022 set off a new race to harness generative AI technologies, which some tech CEOs think could be as transformative as the internet has been over the past three decades.\n",
      "Stock splits, meanwhile, continue to get attention from investors after nearly every big tech stock split its shares in 2021 and 2022, including Tesla, Apple, Alphabet, Amazon, Nvidia (NASDAQ: NVDA), and Shopify. Stock splits don't do anything to change the fundamentals of a stock. They just divide the metaphorical pie into more pieces. Investors still own the same percentage of the company as before. However, stock splits tend to excite investors because they act as something of a milestone for a stock, signaling that the price has reached a certain level and can now be reset.\n",
      "There's also evidence that stocks that have split their shares outperform the rest of the market. That could be a result of the momentum in the business that led to the stock split in the first place or investor reaction to the split.\n",
      "As we look ahead to 2024, we could see another wave of stock splits from big tech stocks as the Nasdaq Composite is up more than 41% year-to-date. Let's examine two AI stocks that could split their shares next year.\n",
      "Image source: Getty Images.\n",
      "1. Broadcom: A networking technology leader\n",
      "Broadcom (NASDAQ: AVGO) has quietly become one of the biggest stocks on the market thanks, in part, to a series of acquisitions, including VMware earlier this month, and strong organic growth. Broadcom's market cap is above $500 billion, and the stock has doubled this year as investors see the company as one of the winners in the AI boom.\n",
      "Its overall growth is still slow due to the downturn in the semiconductor sector. However, the company is seeing AI demand emerge as a key growth driver.\n",
      "On the earnings call, CEO Hock Tan said generative AI revenue, driven by ethernet solutions and custom AI accelerators, made up nearly $1.5 billion in revenue in the quarter, or roughly 20% of semiconductor revenue. In fiscal 2024, it expects generative AI revenue to make up 25% of semiconductor revenue, up from 15% in 2023. Combined with modest growth in semiconductor revenue, that implies generative AI revenue will nearly double in the current fiscal year.\n",
      "Broadcom shares now trade at more than $1,100 a share. The stock has never had a split before but now has one of the highest share prices on the S&P 500. While the company hasn't given any indication that it would split its shares, it fits the criteria of a company that would, though there's no rule mandating stock splits.\n",
      "2. Nvidia: The AI chip kingpin\n",
      "No other stock has been a bigger winner from the AI boom than Nvidia. Its graphics processing units (GPUs) and accelerators have been in high demand from cloud infrastructure companies and others looking to scale up and build capacity for AI applications.\n",
      "Nvidia shares have more than tripled this year, and the company's recent results indicate no signs of slowing down for the business as its AI capabilities are unmatched. Revenue jumped 206% in its third quarter to $18.12 billion, and adjusted earnings per share was up nearly 500% from a year ago. The company expects revenue to improve for the fourth quarter to around $20 billion from $18.1 billion in the third quarter.\n",
      "Nvidia stock is now hovering near $500/share, close to the $560/share it was trading at when it announced a stock split in 2021. A stock split would make sense for Nvidia, especially since the stock seems poised to continue delivering blowout growth and expanding its margins. While there hasn't been an indication that Nvidia will split its stock next year, there's a good chance that another stock split will happen if Nvidia shares keep moving higher.\n",
      "Should you invest $1,000 in Nvidia right now?\n",
      "Before you buy stock in Nvidia, consider this:\n",
      "The Motley Fool Stock Advisor analyst team just identified what they believe are the 10 best stocks for investors to buy now... and Nvidia wasn't one of them. The 10 stocks that made the cut could produce monster returns in the coming years.\n",
      "Stock Advisor provides investors with an easy-to-follow blueprint for success, including guidance on building a portfolio, regular updates from analysts, and two new stock picks each month. The Stock Advisor service has more than tripled the return of S&P 500 since 2002*.\n",
      "See the 10 stocks\n",
      "*Stock Advisor returns as of December 11, 2023\n",
      "Suzanne Frey, an executive at Alphabet, is a member of The Motley Fool’s board of directors. John Mackey, former CEO of Whole Foods Market, an Amazon subsidiary, is a member of The Motley Fool’s board of directors. Jeremy Bowman has positions in Amazon, Broadcom, and Shopify. The Motley Fool has positions in and recommends Alphabet, Amazon, Apple, Nvidia, Shopify, and Tesla. The Motley Fool recommends Broadcom and Nasdaq. The Motley Fool has a disclosure policy.\n",
      "The views and opinions expressed herein are the views and opinions of the author and do not necessarily reflect those of Nasdaq, Inc. \n",
      "-----\n",
      "\n",
      "M\n",
      "arket commentators love tortured acronyms or catchy phrases when it comes to big tech stocks. First it was FANG, which was reputedly first used by CNBC's Jim Cramer. That stood for Facebook (now Meta: META), Amazon (AMZN), Netflix (NFLX), and Google (now Alphabet: GOOG, GOOGL). Then, a few years later, Apple (AAPL) was added to the mix, and we got the less catchy, but probably more representative, FAANG. Then corporate expansion and a shifting tech landscape caught up with that one too. Facebook and Google changed their names to better reflect the fact that they were no longer one-product affairs, streaming wars made Netflix less of a rapid growth stock, and the once moribund Microsoft (MSFT) took off under Satya Nadella, forcing their inclusion. That led to MAMAA: Meta, Apple, Microsoft, Amazon, and Alphabet becoming the phrase du jour.\n",
      "Recently, though, with everything having to be adjusted to allow for the AI revolution and with EVs becoming much more mainstream, the most popular phrase for big tech stocks has become “The Magnificent Seven,” adding Nvidia (NVDA) and Tesla (TSLA) alongside Amazon, Apple, Microsoft, Alphabet, and Meta. That one is credited to a Bank of America (BAC) analyst, but the very fact that over the last few years there have been so many iterations of the way analysts and pundits refer to outperforming big tech stocks shows why such things are of little use.\n",
      "There is always a group of outperformers but is a fluid thing, almost by definition. Tech is about meeting trends and grabbing opportunities, and while doing that well can lead to rapid, short-term success, there is no guarantee that even the best companies will maintain their outperformance for any length of time. Nor is it true that, as MSFT showed all too well, one that missed out for a while cannot burst back onto the scene with a change of management and/or focus.\n",
      "So the obvious answer to the question, “Can the Magnificent Seven continue to lead the market in 2024?” is no. That is not because those seven stock can’t or won’t do well. In fact, if the bond and stock markets are right and the Fed cuts rates early next year, they almost certainly will perform well.\n",
      "But I say the answer is \"no\" is because if the ever-changing history of who's in this group tells us anything, it is that the name of the group itself will probably have changed twelve months from now. Maybe it will have to include at least one company making weight-loss drugs, or the long-awaited and oft-predicted rise of fuel cells will force the inclusion of a name from that industry, or a new social media platform could take off.\n",
      "Or maybe what we will be talking about a year from now will be a stock in a field that most of us have never heard of, or have already written off. Let’s face it, how many of you were screaming about AI at this time last year when NVDA was trading at around $150 after it had lost half of its value in around a year? My guess is not that many would have imagined NVDA to have gone from $150 to almost $500 in twelve months.\n",
      "Then there is the very real chance that the market will fall next year. That isn’t out of the realm of the possible, for several reasons: The fight against inflation is still ongoing and may not have as happy an ending as is now generally assumed. There are two major wars in strategically important parts of the world which could yet get worse. Also, 2024 is an election year in a country where “divided” doesn’t even come close to describing the political environment, and where a win for either party will have a third of the country believing that the end of America is coming. The chance of any or all of those things derailing stocks next year is another subject for another day, but they do have to be considered.\n",
      "All things considered, the chance of the “Magnificent Seven” -- as that phrase is currently understood -- leading the market higher next year is close to zero. That may be because the market doesn’t go up at all next year, or it may be because trends and developments in technology create a shifting landscape, but either way, it looks like someone will have to come up with a new acronym or cute phrase to describe next year’s stock market leaders.\n",
      "The views and opinions expressed herein are the views and opinions of the author and do not necessarily reflect those of Nasdaq, Inc. \n",
      "-----\n",
      "\n",
      "In today's video, I discuss recent updates affecting Nvidia (NASDAQ: NVDA) and Advanced Micro Devices (NASDAQ: AMD). Check out the short video to learn more, consider subscribing, and click the special offer link below.\n",
      "*Stock prices used were the after-market prices of Dec. 15, 2023. The video was published on Dec. 18, 2023.\n",
      "Should you invest $1,000 in Nvidia right now?\n",
      "Before you buy stock in Nvidia, consider this:\n",
      "The Motley Fool Stock Advisor analyst team just identified what they believe are the 10 best stocks for investors to buy now... and Nvidia wasn't one of them. The 10 stocks that made the cut could produce monster returns in the coming years.\n",
      "Stock Advisor provides investors with an easy-to-follow blueprint for success, including guidance on building a portfolio, regular updates from analysts, and two new stock picks each month. The Stock Advisor service has more than tripled the return of S&P 500 since 2002*.\n",
      "See the 10 stocks\n",
      "*Stock Advisor returns as of December 11, 2023\n",
      "Jose Najarro has positions in Advanced Micro Devices and Nvidia. The Motley Fool has positions in and recommends Advanced Micro Devices and Nvidia. The Motley Fool has a disclosure policy. Jose Najarro is an affiliate of The Motley Fool and may be compensated for promoting its services. If you choose to subscribe through their link they will earn some extra money that supports their channel. Their opinions remain their own and are unaffected by The Motley Fool.\n",
      "The views and opinions expressed herein are the views and opinions of the author and do not necessarily reflect those of Nasdaq, Inc. \n",
      "-----\n",
      "\n",
      "The artificial intelligence (AI) boom this year has taken the tech world by storm. While the tech sector is brimming with options for investors looking to gain exposure, with the industry giants gaining lots of attention, many smaller players also deserve to be recognized.\n",
      "My first pick is Super Micro Computer (SMCI), whose investors are celebrating this year's outsized gains of 257% YTD, compared to the 42% gain of the tech-heavy NASDAQ Composite ($NASX). Nonetheless, Wall Street expects the stock to rise even higher in the coming year.\n",
      "My second pick is semiconductor company Semtech (SMTC), whose shares are down 22% YTD - yet analysts believe the stock could soar more than 36% by the end of 2024. Let's look at why these two are the best tech stocks to buy right now.\n",
      "Super Micro Computer: 13% Upside \n",
      "Super Micro Computer's dramatic gains this year don’t come as a surprise, given its outstanding efforts to capitalize on AI. SMCI, with a market cap of $16 billion, is smaller than its partners Nvidia (NVDA), Advanced Micro Devices (AMD), and Intel (INTC). Nonetheless, its ability to offer a high-performance computing experience with its servers, without compromising on size, has investors eyeing this growth stock.\n",
      "SMCI is known for its energy-efficient offerings that align with the growing emphasis on sustainability in technology, serving cloud and edge computing, the Internet of Things (IoT), 5G networks, autonomous driving, and AI servers.\n",
      "In its recently concluded first quarter of fiscal 2024, total revenue of $2.1 billion increased 13.5% year-over-year. Adjusted earnings per share (EPS) increased slightly to $3.43 from $3.42 in the prior year quarter. \n",
      "Furthermore, the company is expanding its AI solutions with more efficient and powerful servers, with the help of AMD and Nvidia’s graphic processors.\n",
      "Because of the high demand for its AI products, management now anticipates total revenue of $10-$11 billion for the full fiscal year, in line with analysts' predictions. Furthermore, analysts anticipate a 47.1% increase in adjusted EPS to $17.37 in fiscal 2024.\n",
      "Management expects to achieve $20 billion in annual revenue in a \"couple of years,\" a significant increase from the $10 billion to $11 billion revenue forecast for fiscal 2024.\n",
      "www.barchart.com\n",
      "SMCI is reasonably priced in comparison to other AI stocks in the industry, trading at 14 times forward earnings and 1.3 times forward sales. In fiscal 2025, revenue and earnings are expected to increase by 17% and 18%, respectively.\n",
      "Overall, Wall Street rates Super Micro Computer stock as a “strong buy.” Out of the 7 analysts covering the SMCI, 5 rate it as a \"strong buy,\" while 2 rate it as a \"hold.\" \n",
      "The average target price for SMCI is $340.43, implying expected upside potential of 13.4% over the next 12 months.\n",
      "www.barchart.com\n",
      " Semtech Corp: 36% Upside\n",
      "Semtech, with a market cap of $1.43 billion, is a small company with the potential to grow larger as the AI market develops. The semiconductor industry is cyclical, with demand driven by smartphones and personal computers (PCs). While the larger players remained unaffected this year, smaller companies, such as Semtech, were impacted by slower smartphone and PC demand. Rising inflation also reduced consumer spending on discretionary items, primarily electronics. \n",
      "www.barchart.com\n",
      "In the third quarter of fiscal 2024, net sales of $200.9 million increased 13.1% year-over-year, beating analysts’ estimates of $200.5 million. Adjusted EPS came in at $0.02, lower than $0.65 per share in the prior-year quarter, but outperforming analysts' expectations for a loss per share of $0.15.\n",
      "Operating expenses fell sequentially to $105 million in the third quarter. CFO Mark Lin stated, \"We continue to optimize our cost structure with non-GAAP operating expenses and non-GAAP interest expense, each forecasted to sequentially improve in the fourth quarter.” As a result, the company now anticipates that fourth-quarter operating expenses will be reduced by 10% to $74 million (plus or minus $2 million).\n",
      "One of Semtech's most revolutionary contributions has been the development of LoRa (long-range) technology, a game-changer in the realm of IoT. LoRa technology enables long-distance, low-power communication for IoT devices, allowing for connectivity across vast distances while conserving energy. \n",
      "Management stated on the Q3 earnings call, “Adoption of LoRa-based solutions in the utility space gained further traction in Q3 with multiple European-based utilities announcing RFPs with a requirement for a LoRa solution.”\n",
      "Looking ahead to Q4, management anticipates a decrease in net sales from the high-end consumer market due to macroeconomic conditions. In the fourth quarter, total revenue is expected to be around $190 million (plus or minus $10 million). Furthermore, earnings could range from a $0.05 loss per share to a $0.06 profit per share.\n",
      "Meanwhile, analysts are targeting revenue of around $190.7 million and a loss of $0.04 per share. For the full fiscal year ending January 2024, analysts predict revenue growth of 14.5% to $866.5 million, with EPS of around $0.11. As the demand for IoT connectivity continues to surge, Semtech remains poised to grow.\n",
      "Overall, Wall Street rates SMTC as a “strong buy.” Out of the 12 analysts covering SMTC, 10 have a “strong buy” recommendation, while one suggests a “moderate buy,” and one rates it a “hold.”\n",
      "Based on analysts' average price target of $30.50, Wall Street sees potential upside of about 36% over the next 12 months. \n",
      "www.barchart.com\n",
      "On the date of publication, Sushree Mohanty did not have (either directly or indirectly) positions in any of the securities mentioned in this article. All information and data in this article is solely for informational purposes. For more information please view the Barchart Disclosure Policy here.\n",
      "The views and opinions expressed herein are the views and opinions of the author and do not necessarily reflect those of Nasdaq, Inc. \n",
      "-----\n",
      "\n",
      "It’s the time of year when investors are treated to a slew of market predictions for the next year. The onslaught of those offerings is dizzying. Add those predictions up and it’s likely market participants can absorb hundreds of stock picks for the year ahead. That's neither efficient nor practical for many investors to have portfolios populated in the dozens or hundreds. The good news is that some of the stocks market observers are most bullish on for 2024 are found in several familiar, cost-effective ETFs. Those include the Invesco QQQ Trust (QQQ) and Invesco NASDAQ 100 ETF (QQQM).\n",
      "The two Nasdaq-100 Index (NDX)-tracking ETFs have delivered stellar showings this year. They have surged 52.22% as of December 15. QQQ and QQQM may not deliver comparable performances in 2024. But more upside is possible for the ETFs next year. That's assuming predictions about some of the funds’ holdings prove accurate.\n",
      "Familiar Names Could Lift QQQ, QQQM in 2024\n",
      "This year, QQQ and QQQM benefited in large part from significant exposure to the magnificent seven. That group includes Apple, Alphabet (Google), Meta Platforms, Amazon.com, Nvidia, Microsoft, and Tesla. On aggregate basis, that group delivered jaw-dropping showings this year. Some analysts believe it’s possible some of the super seven could build on 2023 gains next year.\n",
      "Alphabet is “expected to grow as fast as Microsoft, with earnings forecast to be up 15% in 2024, three times as quickly as Apple’s 5% growth. Yet its stock trades for just 20 times earnings, a discount to both Microsoft and Apple’s 30 times, despite gaining 50% this year,” reported Andrew Bary for Barron’s. “Investors have been worried about slowing growth in Alphabet’s cloud computing division, the threat that artificial intelligence poses to its search business, and antitrust scrutiny. Those issues look manageable.”\n",
      "QQQ and QQQM have long been associated with growth investing. That's rightfully so given the ETFs’ large weights to tech and communication services stocks. But it might surprise some investors to learn the funds have some defensive exposure.\n",
      "Take the case of Pepsico (PEP), which is the second-largest consumer staples holding in the ETFs behind Costco (COST).\n",
      "“Fears that weight-loss drugs will curb snacking caused PepsiCo stock, at $168, to drop 7% in 2023. A confident Pepsi, though, said in October that it expects to deliver per-share earnings growth at the top of its high-single-digit annual target in 2024 after a projected 13% gain this year. And the stock trades for 20.6 times next year’s projected earnings, below its five-year average. It also yields 3% and has raised its dividend for 51 straight years, including a 10% increase this past summer,” according to Barron’s.\n",
      "For more news, information, and analysis, visit the ETF Education Channel.\n",
      "Read more on ETFTrends.com.\n",
      "The views and opinions expressed herein are the views and opinions of the author and do not necessarily reflect those of Nasdaq, Inc. \n",
      "-----\n",
      "\n"
     ]
    }
   ],
   "source": [
    "# show top 5 articles\n",
    "for i in articles.iloc[:5]:\n",
    "    print(i, '\\n-----\\n')"
   ]
  },
  {
   "cell_type": "code",
   "execution_count": 19,
   "id": "d9dd9b96",
   "metadata": {},
   "outputs": [
    {
     "data": {
      "text/plain": [
       "count     8716.000000\n",
       "mean      5000.270652\n",
       "std       3865.640443\n",
       "min        352.000000\n",
       "25%       3106.000000\n",
       "50%       4690.000000\n",
       "75%       6022.000000\n",
       "max      74943.000000\n",
       "Name: Article, dtype: float64"
      ]
     },
     "execution_count": 19,
     "metadata": {},
     "output_type": "execute_result"
    }
   ],
   "source": [
    "# summarize article lengths\n",
    "articles.apply(len).describe()"
   ]
  },
  {
   "cell_type": "markdown",
   "id": "cdda645d",
   "metadata": {},
   "source": [
    "# LSA Summary"
   ]
  },
  {
   "cell_type": "code",
   "execution_count": 20,
   "id": "1769f39f",
   "metadata": {},
   "outputs": [],
   "source": [
    "lsa_sum = df['Lsa_summary'].dropna()"
   ]
  },
  {
   "cell_type": "code",
   "execution_count": 21,
   "id": "de029474",
   "metadata": {
    "scrolled": true
   },
   "outputs": [
    {
     "name": "stdout",
     "output_type": "stream",
     "text": [
      "Stock splits, meanwhile, continue to get attention from investors after nearly every big tech stock split its shares in 2021 and 2022, including Tesla, Apple, Alphabet, Amazon, Nvidia (NASDAQ: NVDA), and Shopify. The launch of OpenAI's ChatGPT in late 2022 set off a new race to harness generative AI technologies, which some tech CEOs think could be as transformative as the internet has been over the past three decades. Its graphics processing units (GPUs) and accelerators have been in high demand from cloud infrastructure companies and others looking to scale up and build capacity for AI applications. \n",
      "-----\n",
      "\n",
      "Recently, though, with everything having to be adjusted to allow for the AI revolution and with EVs becoming much more mainstream, the most popular phrase for big tech stocks has become “The Magnificent Seven,” adding Nvidia (NVDA) and Tesla (TSLA) alongside Amazon, Apple, Microsoft, Alphabet, and Meta. Let’s face it, how many of you were screaming about AI at this time last year when NVDA was trading at around $150 after it had lost half of its value in around a year? My guess is not that many would have imagined NVDA to have gone from $150 to almost $500 in twelve months. \n",
      "-----\n",
      "\n",
      "In today's video, I discuss recent updates affecting Nvidia (NASDAQ: NVDA) and Advanced Micro Devices (NASDAQ: AMD). Check out the short video to learn more, consider subscribing, and click the special offer link below. The Motley Fool has positions in and recommends Advanced Micro Devices and Nvidia. \n",
      "-----\n",
      "\n",
      "SMCI, with a market cap of $16 billion, is smaller than its partners Nvidia (NVDA), Advanced Micro Devices (AMD), and Intel (INTC). SMCI is known for its energy-efficient offerings that align with the growing emphasis on sustainability in technology, serving cloud and edge computing, the Internet of Things (IoT), 5G networks, autonomous driving, and AI servers. Because of the high demand for its AI products, management now anticipates total revenue of $10-$11 billion for the full fiscal year, in line with analysts' predictions. \n",
      "-----\n",
      "\n",
      "Alphabet is “expected to grow as fast as Microsoft, with earnings forecast to be up 15% in 2024, three times as quickly as Apple’s 5% growth. “Investors have been worried about slowing growth in Alphabet’s cloud computing division, the threat that artificial intelligence poses to its search business, and antitrust scrutiny. A confident Pepsi, though, said in October that it expects to deliver per-share earnings growth at the top of its high-single-digit annual target in 2024 after a projected 13% gain this year. \n",
      "-----\n",
      "\n",
      "Predictions for 2024 are largely centered around the emergence of AI as a major inflection point in the technology industry, especially for players like Meta Platforms META, Intel Corporation INTC, NVIDIA NVDA and UiPath PATH. A surge in Hyperscale demand and a solid uptake of AI-based smart cockpit infotainment solutions are acting as tailwinds for NVDA. Collaboration with Mercedes-Benz and Audi is likely to advance NVDA’s presence in the autonomous vehicles and other automotive electronics space. \n",
      "-----\n",
      "\n",
      "A3, which was launched last year, is powered by NVIDIA’s NVDA H100 Tensor Core GPUs that feature a transformer engine capable of addressing trillion-parameter models. Click to get this free report Amazon.com, Inc. (AMZN) : Free Stock Analysis Report Microsoft Corporation (MSFT) : Free Stock Analysis Report NVIDIA Corporation (NVDA) : Free Stock Analysis Report Alphabet Inc. (GOOGL) : Free Stock Analysis Report To read this article on Zacks.com click here. MedLM, currently available to Vertex AI customers, includes two models offering medical documentation testing, drug development research and chatbot provider identification. \n",
      "-----\n",
      "\n"
     ]
    }
   ],
   "source": [
    "# show top 7 LSA summaries\n",
    "for i in lsa_sum.iloc[:7]:\n",
    "    print(i, '\\n-----\\n')"
   ]
  },
  {
   "cell_type": "code",
   "execution_count": 22,
   "id": "df8502f9",
   "metadata": {},
   "outputs": [
    {
     "data": {
      "text/plain": [
       "count    8716.000000\n",
       "mean      549.730955\n",
       "std       169.776420\n",
       "min       123.000000\n",
       "25%       432.000000\n",
       "50%       545.000000\n",
       "75%       649.000000\n",
       "max      3920.000000\n",
       "Name: Lsa_summary, dtype: float64"
      ]
     },
     "execution_count": 22,
     "metadata": {},
     "output_type": "execute_result"
    }
   ],
   "source": [
    "# summarize LSA summary lengths\n",
    "lsa_sum.apply(len).describe()"
   ]
  }
 ],
 "metadata": {
  "kernelspec": {
   "display_name": "Python 3 (ipykernel)",
   "language": "python",
   "name": "python3"
  },
  "language_info": {
   "codemirror_mode": {
    "name": "ipython",
    "version": 3
   },
   "file_extension": ".py",
   "mimetype": "text/x-python",
   "name": "python",
   "nbconvert_exporter": "python",
   "pygments_lexer": "ipython3",
   "version": "3.10.9"
  }
 },
 "nbformat": 4,
 "nbformat_minor": 5
}
