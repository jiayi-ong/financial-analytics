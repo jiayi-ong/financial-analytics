{
 "cells": [
  {
   "cell_type": "markdown",
   "id": "b4fa8470",
   "metadata": {},
   "source": [
    "### This notebook explores the Python API client for Federal Reserve Economic Data (FRED)."
   ]
  },
  {
   "cell_type": "markdown",
   "id": "eb1c0f66",
   "metadata": {},
   "source": [
    "# Import libraries and load configurations"
   ]
  },
  {
   "cell_type": "code",
   "execution_count": 8,
   "id": "c61459ef",
   "metadata": {},
   "outputs": [],
   "source": [
    "import os\n",
    "import pyfredapi as pf\n",
    "import numpy as np\n",
    "import pandas as pd\n",
    "\n",
    "from dotenv import load_dotenv"
   ]
  },
  {
   "cell_type": "code",
   "execution_count": 14,
   "id": "eb5d9025",
   "metadata": {},
   "outputs": [
    {
     "data": {
      "text/plain": [
       "True"
      ]
     },
     "execution_count": 14,
     "metadata": {},
     "output_type": "execute_result"
    }
   ],
   "source": [
    "load_dotenv(r\"C:\\Users\\mushj\\OneDrive\\Desktop\\WORK\\Financial Analytics\\.env\")"
   ]
  },
  {
   "cell_type": "code",
   "execution_count": 15,
   "id": "3c54ed2a",
   "metadata": {},
   "outputs": [],
   "source": [
    "API_KEY = os.getenv('FRED_API_KEY')"
   ]
  },
  {
   "cell_type": "markdown",
   "id": "696f0058",
   "metadata": {},
   "source": [
    "# View single series"
   ]
  },
  {
   "cell_type": "code",
   "execution_count": 16,
   "id": "7ff7eca7",
   "metadata": {},
   "outputs": [
    {
     "name": "stdout",
     "output_type": "stream",
     "text": [
      "('id', 'GDP')\n",
      "('realtime_start', '2024-12-19')\n",
      "('realtime_end', '2024-12-19')\n",
      "('title', 'Gross Domestic Product')\n",
      "('observation_start', '1947-01-01')\n",
      "('observation_end', '2024-07-01')\n",
      "('frequency', 'Quarterly')\n",
      "('frequency_short', 'Q')\n",
      "('units', 'Billions of Dollars')\n",
      "('units_short', 'Bil. of $')\n",
      "('seasonal_adjustment', 'Seasonally Adjusted Annual Rate')\n",
      "('seasonal_adjustment_short', 'SAAR')\n",
      "('last_updated', '2024-12-19 07:55:01-06')\n",
      "('popularity', 93)\n",
      "('notes', 'BEA Account Code: A191RC\\n\\nGross domestic product (GDP), the featured measure of U.S. output, is the market value of the goods and services produced by labor and property located in the United States.For more information, see the Guide to the National Income and Product Accounts of the United States (NIPA) and the Bureau of Economic Analysis (http://www.bea.gov/national/pdf/nipaguid.pdf).')\n"
     ]
    }
   ],
   "source": [
    "# get series info\n",
    "series_info = pf.get_series_info(series_id=\"GDP\", api_key=API_KEY)\n",
    "print(*series_info, sep=\"\\n\")"
   ]
  },
  {
   "cell_type": "code",
   "execution_count": 10,
   "id": "69d052b9",
   "metadata": {},
   "outputs": [
    {
     "data": {
      "text/plain": [
       "{'categories': [{'id': 106, 'name': 'GDP/GNP', 'parent_id': 18}]}"
      ]
     },
     "execution_count": 10,
     "metadata": {},
     "output_type": "execute_result"
    }
   ],
   "source": [
    "# get category of the series\n",
    "cat_info = pf.get_series_categories(series_id=series_info.id, api_key=API_KEY)\n",
    "cat_info"
   ]
  },
  {
   "cell_type": "markdown",
   "id": "d6a08f22",
   "metadata": {},
   "source": [
    "# Explore category"
   ]
  },
  {
   "cell_type": "code",
   "execution_count": 17,
   "id": "59761047",
   "metadata": {},
   "outputs": [
    {
     "data": {
      "text/plain": [
       "106"
      ]
     },
     "execution_count": 17,
     "metadata": {},
     "output_type": "execute_result"
    }
   ],
   "source": [
    "cat_id = cat_info[\"categories\"][0][\"id\"]\n",
    "cat_id"
   ]
  },
  {
   "cell_type": "code",
   "execution_count": 18,
   "id": "34881abd",
   "metadata": {},
   "outputs": [
    {
     "name": "stdout",
     "output_type": "stream",
     "text": [
      "377\n"
     ]
    }
   ],
   "source": [
    "# get the SeriesInfo of all series in the category\n",
    "all_series_in_cat = pf.get_category_series(category_id=cat_id, api_key=API_KEY)\n",
    "print(len(all_series_in_cat))"
   ]
  },
  {
   "cell_type": "code",
   "execution_count": 19,
   "id": "5c71b5ab",
   "metadata": {},
   "outputs": [],
   "source": [
    "# get the popularity value for all series\n",
    "popularities = [series_info.popularity for series_info in all_series_in_cat.values()]\n",
    "\n",
    "# get frequency for all series\n",
    "frequencies = [series_info.frequency_short for series_info in all_series_in_cat.values()]"
   ]
  },
  {
   "cell_type": "code",
   "execution_count": 20,
   "id": "a383a86b",
   "metadata": {},
   "outputs": [
    {
     "data": {
      "text/html": [
       "<div>\n",
       "<style scoped>\n",
       "    .dataframe tbody tr th:only-of-type {\n",
       "        vertical-align: middle;\n",
       "    }\n",
       "\n",
       "    .dataframe tbody tr th {\n",
       "        vertical-align: top;\n",
       "    }\n",
       "\n",
       "    .dataframe thead th {\n",
       "        text-align: right;\n",
       "    }\n",
       "</style>\n",
       "<table border=\"1\" class=\"dataframe\">\n",
       "  <thead>\n",
       "    <tr style=\"text-align: right;\">\n",
       "      <th></th>\n",
       "      <th>0</th>\n",
       "    </tr>\n",
       "  </thead>\n",
       "  <tbody>\n",
       "    <tr>\n",
       "      <th>count</th>\n",
       "      <td>377.000000</td>\n",
       "    </tr>\n",
       "    <tr>\n",
       "      <th>mean</th>\n",
       "      <td>7.535809</td>\n",
       "    </tr>\n",
       "    <tr>\n",
       "      <th>std</th>\n",
       "      <td>15.828180</td>\n",
       "    </tr>\n",
       "    <tr>\n",
       "      <th>min</th>\n",
       "      <td>0.000000</td>\n",
       "    </tr>\n",
       "    <tr>\n",
       "      <th>50%</th>\n",
       "      <td>1.000000</td>\n",
       "    </tr>\n",
       "    <tr>\n",
       "      <th>60%</th>\n",
       "      <td>1.000000</td>\n",
       "    </tr>\n",
       "    <tr>\n",
       "      <th>65%</th>\n",
       "      <td>2.000000</td>\n",
       "    </tr>\n",
       "    <tr>\n",
       "      <th>70%</th>\n",
       "      <td>3.000000</td>\n",
       "    </tr>\n",
       "    <tr>\n",
       "      <th>75%</th>\n",
       "      <td>4.000000</td>\n",
       "    </tr>\n",
       "    <tr>\n",
       "      <th>80%</th>\n",
       "      <td>7.000000</td>\n",
       "    </tr>\n",
       "    <tr>\n",
       "      <th>85%</th>\n",
       "      <td>13.000000</td>\n",
       "    </tr>\n",
       "    <tr>\n",
       "      <th>90%</th>\n",
       "      <td>22.400000</td>\n",
       "    </tr>\n",
       "    <tr>\n",
       "      <th>95%</th>\n",
       "      <td>48.600000</td>\n",
       "    </tr>\n",
       "    <tr>\n",
       "      <th>max</th>\n",
       "      <td>93.000000</td>\n",
       "    </tr>\n",
       "  </tbody>\n",
       "</table>\n",
       "</div>"
      ],
      "text/plain": [
       "                0\n",
       "count  377.000000\n",
       "mean     7.535809\n",
       "std     15.828180\n",
       "min      0.000000\n",
       "50%      1.000000\n",
       "60%      1.000000\n",
       "65%      2.000000\n",
       "70%      3.000000\n",
       "75%      4.000000\n",
       "80%      7.000000\n",
       "85%     13.000000\n",
       "90%     22.400000\n",
       "95%     48.600000\n",
       "max     93.000000"
      ]
     },
     "execution_count": 20,
     "metadata": {},
     "output_type": "execute_result"
    }
   ],
   "source": [
    "# examine distribution of popularity scores\n",
    "pd.DataFrame(popularities).describe(percentiles=np.arange(0.6,1,0.05))"
   ]
  },
  {
   "cell_type": "code",
   "execution_count": 76,
   "id": "1aa3124e",
   "metadata": {},
   "outputs": [
    {
     "data": {
      "text/plain": [
       "Q    615\n",
       "A    161\n",
       "dtype: int64"
      ]
     },
     "execution_count": 76,
     "metadata": {},
     "output_type": "execute_result"
    }
   ],
   "source": [
    "# examine counts of Quarterly vs. Annual frequencies\n",
    "pd.DataFrame(frequencies).value_counts()"
   ]
  },
  {
   "cell_type": "code",
   "execution_count": 15,
   "id": "defb4ecd",
   "metadata": {},
   "outputs": [
    {
     "name": "stdout",
     "output_type": "stream",
     "text": [
      "Real Gross Domestic Product | A191RL1A225NBEA | A | NSA\n",
      "Real Gross Domestic Product | A191RL1Q225SBEA | Q | SAAR\n",
      "Real Gross Domestic Product | A191RO1Q156NBEA | Q | SA\n",
      "Gross Domestic Product | A191RP1A027NBEA | A | NSA\n",
      "Gross Domestic Product | A191RP1Q027SBEA | Q | SAAR\n",
      "Real gross domestic income | A261RX1Q020SBEA | Q | SAAR\n",
      "Nonfinancial corporate business: Profits before tax (without IVA and CCAdj) | A464RC1Q027SBEA | Q | SAAR\n",
      "Gross domestic product per capita | A939RC0A052NBEA | A | NSA\n",
      "Gross domestic product per capita | A939RC0Q052SBEA | Q | SAAR\n",
      "Real gross domestic product per capita | A939RX0Q048SBEA | Q | SAAR\n",
      "Brave-Butters-Kelley Real Gross Domestic Product | BBKMGDP | M | SA\n",
      "Brave-Butters-Kelley Leading Index | BBKMLEIX | M | SA\n",
      "Change in Private Inventories | CBI | Q | SAAR\n",
      "Gross Domestic Product | GDP | Q | SAAR\n",
      "Gross Domestic Product | GDPA | A | NSA\n",
      "Real Gross Domestic Product | GDPC1 | Q | SAAR\n",
      "FOMC Summary of Economic Projections for the Growth Rate of Real Gross Domestic Product, Central Tendency, Midpoint | GDPC1CTM | A | NSA\n",
      "Longer Run FOMC Summary of Economic Projections for the Growth Rate of Real Gross Domestic Product, Central Tendency, Midpoint | GDPC1CTMLR | NA | NSA\n",
      "FOMC Summary of Economic Projections for the Growth Rate of Real Gross Domestic Product, Median | GDPC1MD | A | NSA\n",
      "Real Gross Domestic Product (DISCONTINUED) | GDPC96 | Q | SAAR\n",
      "Real Gross Domestic Product | GDPCA | A | NSA\n",
      "GDPNow | GDPNOW | Q | SAAR\n",
      "Real Potential Gross Domestic Product | GDPPOT | Q | NSA\n",
      "Gross National Product | GNP | Q | SAAR\n",
      "Real Final Sales to Private Domestic Purchasers | LB0000031Q020SBEA | Q | SAAR\n",
      "Gross Domestic Product | NA000334Q | Q | NSA\n",
      "Real Gross Domestic Product | NB000334Q | Q | NSA\n",
      "Gross Domestic Product | NC000334Q | Q | NSA\n",
      "Real Gross Domestic Product | ND000334Q | Q | NSA\n",
      "Nominal Potential Gross Domestic Product | NGDPPOT | Q | NSA\n",
      "Real Gross Domestic Product | OB000334Q | Q | NSA\n",
      "Real Average of GDP and GDI | PB0000091Q225SBEA | Q | SAAR\n",
      "St. Louis Fed Economic News Index: Real GDP Nowcast | STLENI | Q | SAAR\n",
      "Weekly Economic Index (Lewis-Mertens-Stock) | WEI | W | NSA\n",
      "Gross Domestic Product: Research and Development | Y694RC1Q027SBEA | Q | SAAR\n"
     ]
    }
   ],
   "source": [
    "# print details of popular series in category\n",
    "IDs = []\n",
    "\n",
    "for series_info in all_series_in_cat.values():\n",
    "    if series_info.popularity > 20:\n",
    "        print(series_info.title, series_info.id, \n",
    "              series_info.frequency_short,\n",
    "              series_info.seasonal_adjustment_short,\n",
    "              sep=\" | \")\n",
    "        IDs.append(series_info.id)"
   ]
  },
  {
   "cell_type": "markdown",
   "id": "d0c5cab6",
   "metadata": {},
   "source": [
    "# Test API call"
   ]
  },
  {
   "cell_type": "code",
   "execution_count": 18,
   "id": "008abb67",
   "metadata": {},
   "outputs": [],
   "source": [
    "params = {\"observation_start\": \"2000-01-01\"}"
   ]
  },
  {
   "cell_type": "code",
   "execution_count": 19,
   "id": "0444718a",
   "metadata": {},
   "outputs": [
    {
     "name": "stdout",
     "output_type": "stream",
     "text": [
      "(73, 4)\n"
     ]
    }
   ],
   "source": [
    "ID = \"VAPGDPAER\"\n",
    "df = pf.get_series(series_id=ID, api_key=API_KEY, **params)\n",
    "print(df.shape)"
   ]
  },
  {
   "cell_type": "code",
   "execution_count": 20,
   "id": "21c3bbcc",
   "metadata": {},
   "outputs": [
    {
     "name": "stdout",
     "output_type": "stream",
     "text": [
      "('id', 'VAPGDPAER')\n",
      "('realtime_start', '2023-10-21')\n",
      "('realtime_end', '2023-10-21')\n",
      "('title', 'Value Added by Industry: Arts, Entertainment, Recreation, Accommodation, and Food Services: Arts, Entertainment, and Recreation as a Percentage of GDP')\n",
      "('observation_start', '2005-01-01')\n",
      "('observation_end', '2023-01-01')\n",
      "('frequency', 'Quarterly')\n",
      "('frequency_short', 'Q')\n",
      "('units', 'Percent')\n",
      "('units_short', '%')\n",
      "('seasonal_adjustment', 'Not Seasonally Adjusted')\n",
      "('seasonal_adjustment_short', 'NSA')\n",
      "('last_updated', '2023-06-29 11:04:40-05')\n",
      "('popularity', 1)\n",
      "('notes', 'Value added represents the sum of the costs-incurred and the incomes-earned in production, and consists of compensation of employees, taxes on production and imports, less subsidies, and gross operating surplus.')\n"
     ]
    }
   ],
   "source": [
    "# get series info\n",
    "series_info = pf.get_series_info(series_id=ID, api_key=API_KEY)\n",
    "print(*series_info, sep=\"\\n\")"
   ]
  },
  {
   "cell_type": "code",
   "execution_count": 21,
   "id": "77fa8129",
   "metadata": {},
   "outputs": [
    {
     "data": {
      "text/html": [
       "<div>\n",
       "<style scoped>\n",
       "    .dataframe tbody tr th:only-of-type {\n",
       "        vertical-align: middle;\n",
       "    }\n",
       "\n",
       "    .dataframe tbody tr th {\n",
       "        vertical-align: top;\n",
       "    }\n",
       "\n",
       "    .dataframe thead th {\n",
       "        text-align: right;\n",
       "    }\n",
       "</style>\n",
       "<table border=\"1\" class=\"dataframe\">\n",
       "  <thead>\n",
       "    <tr style=\"text-align: right;\">\n",
       "      <th></th>\n",
       "      <th>realtime_start</th>\n",
       "      <th>realtime_end</th>\n",
       "      <th>date</th>\n",
       "      <th>value</th>\n",
       "    </tr>\n",
       "  </thead>\n",
       "  <tbody>\n",
       "    <tr>\n",
       "      <th>0</th>\n",
       "      <td>2023-10-21</td>\n",
       "      <td>2023-10-21</td>\n",
       "      <td>2005-01-01</td>\n",
       "      <td>0.9</td>\n",
       "    </tr>\n",
       "    <tr>\n",
       "      <th>1</th>\n",
       "      <td>2023-10-21</td>\n",
       "      <td>2023-10-21</td>\n",
       "      <td>2005-04-01</td>\n",
       "      <td>0.9</td>\n",
       "    </tr>\n",
       "    <tr>\n",
       "      <th>2</th>\n",
       "      <td>2023-10-21</td>\n",
       "      <td>2023-10-21</td>\n",
       "      <td>2005-07-01</td>\n",
       "      <td>0.9</td>\n",
       "    </tr>\n",
       "    <tr>\n",
       "      <th>3</th>\n",
       "      <td>2023-10-21</td>\n",
       "      <td>2023-10-21</td>\n",
       "      <td>2005-10-01</td>\n",
       "      <td>0.9</td>\n",
       "    </tr>\n",
       "    <tr>\n",
       "      <th>4</th>\n",
       "      <td>2023-10-21</td>\n",
       "      <td>2023-10-21</td>\n",
       "      <td>2006-01-01</td>\n",
       "      <td>0.9</td>\n",
       "    </tr>\n",
       "    <tr>\n",
       "      <th>...</th>\n",
       "      <td>...</td>\n",
       "      <td>...</td>\n",
       "      <td>...</td>\n",
       "      <td>...</td>\n",
       "    </tr>\n",
       "    <tr>\n",
       "      <th>68</th>\n",
       "      <td>2023-10-21</td>\n",
       "      <td>2023-10-21</td>\n",
       "      <td>2022-01-01</td>\n",
       "      <td>1.0</td>\n",
       "    </tr>\n",
       "    <tr>\n",
       "      <th>69</th>\n",
       "      <td>2023-10-21</td>\n",
       "      <td>2023-10-21</td>\n",
       "      <td>2022-04-01</td>\n",
       "      <td>1.0</td>\n",
       "    </tr>\n",
       "    <tr>\n",
       "      <th>70</th>\n",
       "      <td>2023-10-21</td>\n",
       "      <td>2023-10-21</td>\n",
       "      <td>2022-07-01</td>\n",
       "      <td>1.1</td>\n",
       "    </tr>\n",
       "    <tr>\n",
       "      <th>71</th>\n",
       "      <td>2023-10-21</td>\n",
       "      <td>2023-10-21</td>\n",
       "      <td>2022-10-01</td>\n",
       "      <td>1.1</td>\n",
       "    </tr>\n",
       "    <tr>\n",
       "      <th>72</th>\n",
       "      <td>2023-10-21</td>\n",
       "      <td>2023-10-21</td>\n",
       "      <td>2023-01-01</td>\n",
       "      <td>1.2</td>\n",
       "    </tr>\n",
       "  </tbody>\n",
       "</table>\n",
       "<p>73 rows × 4 columns</p>\n",
       "</div>"
      ],
      "text/plain": [
       "   realtime_start realtime_end       date  value\n",
       "0      2023-10-21   2023-10-21 2005-01-01    0.9\n",
       "1      2023-10-21   2023-10-21 2005-04-01    0.9\n",
       "2      2023-10-21   2023-10-21 2005-07-01    0.9\n",
       "3      2023-10-21   2023-10-21 2005-10-01    0.9\n",
       "4      2023-10-21   2023-10-21 2006-01-01    0.9\n",
       "..            ...          ...        ...    ...\n",
       "68     2023-10-21   2023-10-21 2022-01-01    1.0\n",
       "69     2023-10-21   2023-10-21 2022-04-01    1.0\n",
       "70     2023-10-21   2023-10-21 2022-07-01    1.1\n",
       "71     2023-10-21   2023-10-21 2022-10-01    1.1\n",
       "72     2023-10-21   2023-10-21 2023-01-01    1.2\n",
       "\n",
       "[73 rows x 4 columns]"
      ]
     },
     "execution_count": 21,
     "metadata": {},
     "output_type": "execute_result"
    }
   ],
   "source": [
    "df"
   ]
  }
 ],
 "metadata": {
  "kernelspec": {
   "display_name": "Python 3 (ipykernel)",
   "language": "python",
   "name": "python3"
  },
  "language_info": {
   "codemirror_mode": {
    "name": "ipython",
    "version": 3
   },
   "file_extension": ".py",
   "mimetype": "text/x-python",
   "name": "python",
   "nbconvert_exporter": "python",
   "pygments_lexer": "ipython3",
   "version": "3.10.9"
  }
 },
 "nbformat": 4,
 "nbformat_minor": 5
}
