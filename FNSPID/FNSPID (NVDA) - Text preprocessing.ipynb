{
 "cells": [
  {
   "cell_type": "markdown",
   "id": "1e9035fb",
   "metadata": {},
   "source": [
    "# Imports and Configurations "
   ]
  },
  {
   "cell_type": "code",
   "execution_count": 1,
   "id": "54e5412b",
   "metadata": {},
   "outputs": [],
   "source": [
    "import pandas as pd\n",
    "import re\n",
    "import nltk\n",
    "from nltk.corpus import stopwords\n",
    "from nltk.tokenize import word_tokenize\n",
    "from nltk.stem import WordNetLemmatizer"
   ]
  },
  {
   "cell_type": "code",
   "execution_count": 2,
   "id": "5574b360",
   "metadata": {},
   "outputs": [],
   "source": [
    "INPUT_PATH = \"C:/Users/mushj/Downloads/RAW FINANCE DATA/\"\n",
    "OUTPUT_PATH = \"C:/Users/mushj/Downloads/PROCESSED FINANCE DATA/\""
   ]
  },
  {
   "cell_type": "code",
   "execution_count": 3,
   "id": "c9ee415d",
   "metadata": {},
   "outputs": [],
   "source": [
    "df = pd.read_csv(INPUT_PATH+\"FNSPID_NVDA.csv\")"
   ]
  },
  {
   "cell_type": "markdown",
   "id": "4dbb07c1",
   "metadata": {},
   "source": [
    "# Text preprocessing"
   ]
  },
  {
   "cell_type": "code",
   "execution_count": 4,
   "id": "aaa50c78",
   "metadata": {},
   "outputs": [
    {
     "name": "stderr",
     "output_type": "stream",
     "text": [
      "[nltk_data] Downloading package punkt to\n",
      "[nltk_data]     C:\\Users\\mushj\\AppData\\Roaming\\nltk_data...\n",
      "[nltk_data]   Package punkt is already up-to-date!\n",
      "[nltk_data] Downloading package stopwords to\n",
      "[nltk_data]     C:\\Users\\mushj\\AppData\\Roaming\\nltk_data...\n",
      "[nltk_data]   Package stopwords is already up-to-date!\n",
      "[nltk_data] Downloading package wordnet to\n",
      "[nltk_data]     C:\\Users\\mushj\\AppData\\Roaming\\nltk_data...\n",
      "[nltk_data]   Package wordnet is already up-to-date!\n",
      "[nltk_data] Downloading package omw-1.4 to\n",
      "[nltk_data]     C:\\Users\\mushj\\AppData\\Roaming\\nltk_data...\n",
      "[nltk_data]   Package omw-1.4 is already up-to-date!\n"
     ]
    }
   ],
   "source": [
    "# Download NLTK resources (Run only once)\n",
    "nltk.download('punkt')\n",
    "nltk.download('stopwords')\n",
    "nltk.download('wordnet')\n",
    "nltk.download('omw-1.4')\n",
    "\n",
    "# Initialize resources\n",
    "stop_words = set(stopwords.words('english'))\n",
    "lemmatizer = WordNetLemmatizer()"
   ]
  },
  {
   "cell_type": "code",
   "execution_count": 5,
   "id": "7ebaa25a",
   "metadata": {},
   "outputs": [],
   "source": [
    "def preprocess_text_vectorized(text_series):\n",
    "    # Lowercase all text\n",
    "    text_series = text_series.str.lower()\n",
    "    \n",
    "    # Remove URLs\n",
    "    text_series = text_series.str.replace(r\"http\\S+|www\\S+|https\\S+\", '', regex=True)\n",
    "    \n",
    "    # Remove HTML tags\n",
    "    text_series = text_series.str.replace(r'<.*?>', '', regex=True)\n",
    "    \n",
    "    # Remove special characters and numbers\n",
    "    text_series = text_series.str.replace(r\"[^a-zA-Z\\s]\", '', regex=True)\n",
    "    \n",
    "    # Tokenization, Stopword Removal, and Lemmatization (row-wise)\n",
    "    text_series = text_series.apply(lambda text: ' '.join(\n",
    "        [lemmatizer.lemmatize(word) for word in word_tokenize(text) if word not in stop_words]\n",
    "    ))\n",
    "    \n",
    "    return text_series"
   ]
  },
  {
   "cell_type": "code",
   "execution_count": 6,
   "id": "a5e2d0be",
   "metadata": {},
   "outputs": [],
   "source": [
    "sub_df = (\n",
    "    df\n",
    "    .dropna(subset=['Lsa_summary'])\n",
    "    [['Date', 'Lsa_summary']]\n",
    ")"
   ]
  },
  {
   "cell_type": "code",
   "execution_count": 7,
   "id": "c2c19436",
   "metadata": {},
   "outputs": [
    {
     "name": "stdout",
     "output_type": "stream",
     "text": [
      "CPU times: total: 5.78 s\n",
      "Wall time: 5.87 s\n"
     ]
    }
   ],
   "source": [
    "%%time\n",
    "sub_df['Lsa_summary_cleaned'] = preprocess_text_vectorized(sub_df['Lsa_summary'])"
   ]
  },
  {
   "cell_type": "code",
   "execution_count": 8,
   "id": "9d83e6d9",
   "metadata": {
    "scrolled": true
   },
   "outputs": [
    {
     "name": "stdout",
     "output_type": "stream",
     "text": [
      "Stock splits, meanwhile, continue to get attention from investors after nearly every big tech stock split its shares in 2021 and 2022, including Tesla, Apple, Alphabet, Amazon, Nvidia (NASDAQ: NVDA), and Shopify. The launch of OpenAI's ChatGPT in late 2022 set off a new race to harness generative AI technologies, which some tech CEOs think could be as transformative as the internet has been over the past three decades. Its graphics processing units (GPUs) and accelerators have been in high demand from cloud infrastructure companies and others looking to scale up and build capacity for AI applications. \n",
      "\n",
      "stock split meanwhile continue get attention investor nearly every big tech stock split share including tesla apple alphabet amazon nvidia nasdaq nvda shopify launch openais chatgpt late set new race harness generative ai technology tech ceo think could transformative internet past three decade graphic processing unit gpus accelerator high demand cloud infrastructure company others looking scale build capacity ai application \n",
      "\n",
      "-----\n",
      "Recently, though, with everything having to be adjusted to allow for the AI revolution and with EVs becoming much more mainstream, the most popular phrase for big tech stocks has become “The Magnificent Seven,” adding Nvidia (NVDA) and Tesla (TSLA) alongside Amazon, Apple, Microsoft, Alphabet, and Meta. Let’s face it, how many of you were screaming about AI at this time last year when NVDA was trading at around $150 after it had lost half of its value in around a year? My guess is not that many would have imagined NVDA to have gone from $150 to almost $500 in twelve months. \n",
      "\n",
      "recently though everything adjusted allow ai revolution ev becoming much mainstream popular phrase big tech stock become magnificent seven adding nvidia nvda tesla tsla alongside amazon apple microsoft alphabet meta let face many screaming ai time last year nvda trading around lost half value around year guess many would imagined nvda gone almost twelve month \n",
      "\n",
      "-----\n",
      "In today's video, I discuss recent updates affecting Nvidia (NASDAQ: NVDA) and Advanced Micro Devices (NASDAQ: AMD). Check out the short video to learn more, consider subscribing, and click the special offer link below. The Motley Fool has positions in and recommends Advanced Micro Devices and Nvidia. \n",
      "\n",
      "today video discus recent update affecting nvidia nasdaq nvda advanced micro device nasdaq amd check short video learn consider subscribing click special offer link motley fool position recommends advanced micro device nvidia \n",
      "\n",
      "-----\n",
      "SMCI, with a market cap of $16 billion, is smaller than its partners Nvidia (NVDA), Advanced Micro Devices (AMD), and Intel (INTC). SMCI is known for its energy-efficient offerings that align with the growing emphasis on sustainability in technology, serving cloud and edge computing, the Internet of Things (IoT), 5G networks, autonomous driving, and AI servers. Because of the high demand for its AI products, management now anticipates total revenue of $10-$11 billion for the full fiscal year, in line with analysts' predictions. \n",
      "\n",
      "smci market cap billion smaller partner nvidia nvda advanced micro device amd intel intc smci known energyefficient offering align growing emphasis sustainability technology serving cloud edge computing internet thing iot g network autonomous driving ai server high demand ai product management anticipates total revenue billion full fiscal year line analyst prediction \n",
      "\n",
      "-----\n",
      "Alphabet is “expected to grow as fast as Microsoft, with earnings forecast to be up 15% in 2024, three times as quickly as Apple’s 5% growth. “Investors have been worried about slowing growth in Alphabet’s cloud computing division, the threat that artificial intelligence poses to its search business, and antitrust scrutiny. A confident Pepsi, though, said in October that it expects to deliver per-share earnings growth at the top of its high-single-digit annual target in 2024 after a projected 13% gain this year. \n",
      "\n",
      "alphabet expected grow fast microsoft earnings forecast three time quickly apple growth investor worried slowing growth alphabet cloud computing division threat artificial intelligence pose search business antitrust scrutiny confident pepsi though said october expects deliver pershare earnings growth top highsingledigit annual target projected gain year \n",
      "\n",
      "-----\n"
     ]
    }
   ],
   "source": [
    "# display examples\n",
    "for _,row in sub_df.iloc[:5].iterrows():\n",
    "    print(row['Lsa_summary'], '\\n')\n",
    "    print(row['Lsa_summary_cleaned'], '\\n\\n-----')"
   ]
  },
  {
   "cell_type": "code",
   "execution_count": 9,
   "id": "b81baa80",
   "metadata": {},
   "outputs": [],
   "source": [
    "# export processed data\n",
    "sub_df.to_csv(OUTPUT_PATH+'FNSPID_NVDA_cleaned.csv', index=False)"
   ]
  }
 ],
 "metadata": {
  "kernelspec": {
   "display_name": "Python 3 (ipykernel)",
   "language": "python",
   "name": "python3"
  },
  "language_info": {
   "codemirror_mode": {
    "name": "ipython",
    "version": 3
   },
   "file_extension": ".py",
   "mimetype": "text/x-python",
   "name": "python",
   "nbconvert_exporter": "python",
   "pygments_lexer": "ipython3",
   "version": "3.10.9"
  }
 },
 "nbformat": 4,
 "nbformat_minor": 5
}
